{
 "cells": [
  {
   "cell_type": "code",
   "execution_count": 1,
   "metadata": {},
   "outputs": [],
   "source": [
    "from lda import lda\n",
    "from lda.data.corpus import Corpus\n",
    "from lda.data.document import Document\n",
    "import matplotlib.pyplot as plt"
   ]
  },
  {
   "cell_type": "code",
   "execution_count": 2,
   "metadata": {},
   "outputs": [
    {
     "data": {
      "text/plain": [
       "Corpus with 5 documents"
      ]
     },
     "execution_count": 2,
     "metadata": {},
     "output_type": "execute_result"
    }
   ],
   "source": [
    "corpus = Corpus(documents=[\n",
    "    Document.from_text('Have a jolly christmas!'),\n",
    "    Document.from_text('Merry christmas, Jens!'),\n",
    "    Document.from_text('Jens Lagergen is the best professor at university.'),\n",
    "    Document.from_text('Universities are important learning centers. Especially because of Jens Lagergen.'),\n",
    "    Document.from_text('What even is a university? Experts disagree.')\n",
    "])\n",
    "corpus"
   ]
  },
  {
   "cell_type": "code",
   "execution_count": 3,
   "metadata": {},
   "outputs": [
    {
     "data": {
      "text/plain": [
       "[Word(original_form='jolly', lda_form='jolly', include=True),\n",
       " Word(original_form='christmas', lda_form='christmas', include=True)]"
      ]
     },
     "execution_count": 3,
     "metadata": {},
     "output_type": "execute_result"
    }
   ],
   "source": [
    "corpus.documents[0].included_words"
   ]
  },
  {
   "cell_type": "code",
   "execution_count": 4,
   "metadata": {},
   "outputs": [
    {
     "data": {
      "text/plain": [
       "[Word(original_form='Merry', lda_form='merry', include=True),\n",
       " Word(original_form='christmas', lda_form='christmas', include=True),\n",
       " Word(original_form='Jens', lda_form='jens', include=True)]"
      ]
     },
     "execution_count": 4,
     "metadata": {},
     "output_type": "execute_result"
    }
   ],
   "source": [
    "corpus.documents[1].included_words"
   ]
  },
  {
   "cell_type": "code",
   "execution_count": 5,
   "metadata": {},
   "outputs": [
    {
     "data": {
      "text/plain": [
       "[Word(original_form='Jens', lda_form='jens', include=True),\n",
       " Word(original_form='Lagergen', lda_form='lagergen', include=True),\n",
       " Word(original_form='best', lda_form='good', include=True),\n",
       " Word(original_form='professor', lda_form='professor', include=True),\n",
       " Word(original_form='university', lda_form='university', include=True)]"
      ]
     },
     "execution_count": 5,
     "metadata": {},
     "output_type": "execute_result"
    }
   ],
   "source": [
    "corpus.documents[2].included_words"
   ]
  },
  {
   "cell_type": "code",
   "execution_count": 6,
   "metadata": {},
   "outputs": [
    {
     "data": {
      "text/plain": [
       "[Word(original_form='Universities', lda_form='university', include=True),\n",
       " Word(original_form='important', lda_form='important', include=True),\n",
       " Word(original_form='learning', lda_form='learning', include=True),\n",
       " Word(original_form='centers', lda_form='center', include=True),\n",
       " Word(original_form='Especially', lda_form='especially', include=True),\n",
       " Word(original_form='Jens', lda_form='jens', include=True),\n",
       " Word(original_form='Lagergen', lda_form='lagergen', include=True)]"
      ]
     },
     "execution_count": 6,
     "metadata": {},
     "output_type": "execute_result"
    }
   ],
   "source": [
    "corpus.documents[3].included_words"
   ]
  },
  {
   "cell_type": "code",
   "execution_count": 7,
   "metadata": {},
   "outputs": [
    {
     "data": {
      "text/plain": [
       "True"
      ]
     },
     "execution_count": 7,
     "metadata": {},
     "output_type": "execute_result"
    }
   ],
   "source": [
    "corpus.documents[2].included_words[-1] == corpus.documents[3].included_words[0]"
   ]
  },
  {
   "cell_type": "code",
   "execution_count": 8,
   "metadata": {},
   "outputs": [
    {
     "data": {
      "text/plain": [
       "Counter({Word(original_form='jolly', lda_form='jolly', include=True): 1,\n",
       "         Word(original_form='christmas', lda_form='christmas', include=True): 2,\n",
       "         Word(original_form='Merry', lda_form='merry', include=True): 1,\n",
       "         Word(original_form='Jens', lda_form='jens', include=True): 3,\n",
       "         Word(original_form='Lagergen', lda_form='lagergen', include=True): 2,\n",
       "         Word(original_form='best', lda_form='good', include=True): 1,\n",
       "         Word(original_form='professor', lda_form='professor', include=True): 1,\n",
       "         Word(original_form='university', lda_form='university', include=True): 3,\n",
       "         Word(original_form='important', lda_form='important', include=True): 1,\n",
       "         Word(original_form='learning', lda_form='learning', include=True): 1,\n",
       "         Word(original_form='centers', lda_form='center', include=True): 1,\n",
       "         Word(original_form='Especially', lda_form='especially', include=True): 1,\n",
       "         Word(original_form='Experts', lda_form='expert', include=True): 1,\n",
       "         Word(original_form='disagree', lda_form='disagree', include=True): 1})"
      ]
     },
     "execution_count": 8,
     "metadata": {},
     "output_type": "execute_result"
    }
   ],
   "source": [
    "corpus.word_count"
   ]
  },
  {
   "cell_type": "code",
   "execution_count": 9,
   "metadata": {},
   "outputs": [
    {
     "data": {
      "application/vnd.jupyter.widget-view+json": {
       "model_id": "449a60a43c7b438a843662628d62fbd2",
       "version_major": 2,
       "version_minor": 0
      },
      "text/plain": [
       "Attempt 0:   0%|          | 0/64 [00:00<?, ?it/s]"
      ]
     },
     "metadata": {},
     "output_type": "display_data"
    }
   ],
   "source": [
    "out = lda(corpus, num_topics=2, num_iterations=64)\n",
    "params = out['params']\n",
    "lower_bound_evol = out['lower_bound_evol']"
   ]
  },
  {
   "cell_type": "code",
   "execution_count": 10,
   "metadata": {},
   "outputs": [
    {
     "data": {
      "text/plain": [
       "{'alpha': array([0.00865789, 0.01283117]),\n",
       " 'beta': [{Word(original_form='jolly', lda_form='jolly', include=True): 0.0,\n",
       "   Word(original_form='christmas', lda_form='christmas', include=True): 0.0,\n",
       "   Word(original_form='Merry', lda_form='merry', include=True): 0.0,\n",
       "   Word(original_form='Jens', lda_form='jens', include=True): 0.1,\n",
       "   Word(original_form='Lagergen', lda_form='lagergen', include=True): 0.1,\n",
       "   Word(original_form='best', lda_form='good', include=True): 0.0,\n",
       "   Word(original_form='professor', lda_form='professor', include=True): 0.0,\n",
       "   Word(original_form='university', lda_form='university', include=True): 0.2,\n",
       "   Word(original_form='important', lda_form='important', include=True): 0.1,\n",
       "   Word(original_form='learning', lda_form='learning', include=True): 0.1,\n",
       "   Word(original_form='centers', lda_form='center', include=True): 0.1,\n",
       "   Word(original_form='Especially', lda_form='especially', include=True): 0.1,\n",
       "   Word(original_form='Experts', lda_form='expert', include=True): 0.1,\n",
       "   Word(original_form='disagree', lda_form='disagree', include=True): 0.1},\n",
       "  {Word(original_form='jolly', lda_form='jolly', include=True): 0.1,\n",
       "   Word(original_form='christmas', lda_form='christmas', include=True): 0.2,\n",
       "   Word(original_form='Merry', lda_form='merry', include=True): 0.1,\n",
       "   Word(original_form='Jens', lda_form='jens', include=True): 0.2,\n",
       "   Word(original_form='Lagergen', lda_form='lagergen', include=True): 0.1,\n",
       "   Word(original_form='best', lda_form='good', include=True): 0.1,\n",
       "   Word(original_form='professor', lda_form='professor', include=True): 0.1,\n",
       "   Word(original_form='university', lda_form='university', include=True): 0.1,\n",
       "   Word(original_form='important', lda_form='important', include=True): 0.0,\n",
       "   Word(original_form='learning', lda_form='learning', include=True): 0.0,\n",
       "   Word(original_form='centers', lda_form='center', include=True): 0.0,\n",
       "   Word(original_form='Especially', lda_form='especially', include=True): 0.0,\n",
       "   Word(original_form='Experts', lda_form='expert', include=True): 0.0,\n",
       "   Word(original_form='disagree', lda_form='disagree', include=True): 0.0}],\n",
       " 'phis': {Document including 2 words: array([[0., 1.],\n",
       "         [0., 1.]]),\n",
       "  Document including 3 words: array([[0.0000000e+00, 1.0000000e+00],\n",
       "         [0.0000000e+00, 1.0000000e+00],\n",
       "         [7.7583345e-52, 1.0000000e+00]]),\n",
       "  Document including 5 words: array([[4.33904583e-52, 1.00000000e+00],\n",
       "         [8.67809166e-52, 1.00000000e+00],\n",
       "         [0.00000000e+00, 1.00000000e+00],\n",
       "         [0.00000000e+00, 1.00000000e+00],\n",
       "         [1.73561833e-51, 1.00000000e+00]]),\n",
       "  Document including 7 words: array([[1.00000000e+00, 6.26048548e-36],\n",
       "         [1.00000000e+00, 0.00000000e+00],\n",
       "         [1.00000000e+00, 0.00000000e+00],\n",
       "         [1.00000000e+00, 0.00000000e+00],\n",
       "         [1.00000000e+00, 0.00000000e+00],\n",
       "         [1.00000000e+00, 2.50419419e-35],\n",
       "         [1.00000000e+00, 1.25209710e-35]]),\n",
       "  Document including 3 words: array([[1.00000000e+00, 1.61540808e-35],\n",
       "         [1.00000000e+00, 0.00000000e+00],\n",
       "         [1.00000000e+00, 0.00000000e+00]])},\n",
       " 'gammas': {Document including 2 words: array([0.00865789, 2.01283117]),\n",
       "  Document including 3 words: array([0.00865789, 3.01283117]),\n",
       "  Document including 5 words: array([0.00865789, 5.01283117]),\n",
       "  Document including 7 words: array([7.00865789, 0.01283117]),\n",
       "  Document including 3 words: array([3.00865789, 0.01283117])}}"
      ]
     },
     "execution_count": 10,
     "metadata": {},
     "output_type": "execute_result"
    }
   ],
   "source": [
    "params"
   ]
  },
  {
   "cell_type": "code",
   "execution_count": 11,
   "metadata": {},
   "outputs": [
    {
     "data": {
      "text/plain": [
       "[<matplotlib.lines.Line2D at 0x7f2db68e4130>]"
      ]
     },
     "execution_count": 11,
     "metadata": {},
     "output_type": "execute_result"
    },
    {
     "data": {
      "image/png": "[encoded data removed]",
      "text/plain": [
       "<Figure size 432x288 with 1 Axes>"
      ]
     },
     "metadata": {
      "needs_background": "light"
     },
     "output_type": "display_data"
    }
   ],
   "source": [
    "plt.figure()\n",
    "plt.plot(lower_bound_evol)"
   ]
  },
  {
   "cell_type": "code",
   "execution_count": 12,
   "metadata": {},
   "outputs": [
    {
     "data": {
      "text/plain": [
       "array([-50.46202847, -49.20954606, -48.34814488, -47.84522535,\n",
       "       -47.45079438, -47.0964811 , -46.79073878, -46.54076706,\n",
       "       -46.3442685 , -46.19146903, -46.0718208 , -45.97675759,\n",
       "       -45.89997315, -45.83695594, -45.78448078, -45.74021246,\n",
       "       -45.70243536, -45.66986624, -45.64153128, -45.61667871,\n",
       "       -45.59472137, -45.57519431, -45.55772517, -45.54201256,\n",
       "       -45.52781017, -45.51491493, -45.50315804, -45.49239812,\n",
       "       -45.48251628, -45.47341079, -45.46499528, -45.45719553,\n",
       "       -45.44994746, -45.44319549, -45.43689115, -45.43099204,\n",
       "       -45.42546087, -45.42026474, -45.41537454, -45.41076436,\n",
       "       -45.40641116, -45.40229429, -45.39839526, -45.39469744,\n",
       "       -45.39118582, -45.38784684, -45.38466823, -45.38163883,\n",
       "       -45.37874848, -45.37598793, -45.37334872, -45.3708231 ,\n",
       "       -45.36840396, -45.36608478, -45.36385953, -45.36172269,\n",
       "       -45.35966914, -45.35769413, -45.3557933 , -45.35396257,\n",
       "       -45.35219817, -45.35049658, -45.34885455, -45.34726903])"
      ]
     },
     "execution_count": 12,
     "metadata": {},
     "output_type": "execute_result"
    }
   ],
   "source": [
    "lower_bound_evol"
   ]
  }
 ],
 "metadata": {
  "kernelspec": {
   "display_name": "Python 3",
   "language": "python",
   "name": "python3"
  },
  "language_info": {
   "codemirror_mode": {
    "name": "ipython",
    "version": 3
   },
   "file_extension": ".py",
   "mimetype": "text/x-python",
   "name": "python",
   "nbconvert_exporter": "python",
   "pygments_lexer": "ipython3",
   "version": "3.9.1"
  },
  "widgets": {
   "application/vnd.jupyter.widget-state+json": {
    "state": {
     "13fb3071fa7b4bb79b463f67b044b0bc": {
      "model_module": "@jupyter-widgets/base",
      "model_module_version": "1.2.0",
      "model_name": "LayoutModel",
      "state": {}
     },
     "1487452fb7aa411bac59acad3f63be18": {
      "model_module": "@jupyter-widgets/controls",
      "model_module_version": "1.5.0",
      "model_name": "HTMLModel",
      "state": {
       "layout": "IPY_MODEL_7c56d816f00347e4b90f904ff4e9bc3b",
       "style": "IPY_MODEL_fc91f95fbefd4b008a4061886217d29f",
       "value": "  0%"
      }
     },
     "14b381712025400bb2e6415a0e93b419": {
      "model_module": "@jupyter-widgets/controls",
      "model_module_version": "1.5.0",
      "model_name": "FloatProgressModel",
      "state": {
       "bar_style": "danger",
       "layout": "IPY_MODEL_efc9417be07e4845951c73cca07367d6",
       "max": 64,
       "style": "IPY_MODEL_857d2d78c0064503b89b3051b63cf2aa"
      }
     },
     "1a8f3e17c6b9447990d90d2b3a42b4c2": {
      "model_module": "@jupyter-widgets/controls",
      "model_module_version": "1.5.0",
      "model_name": "FloatProgressModel",
      "state": {
       "bar_style": "success",
       "layout": "IPY_MODEL_1c9ef5ff103340549a310aec33b796fb",
       "max": 64,
       "style": "IPY_MODEL_c97fd488b032414caa715f873d8afe46",
       "value": 64
      }
     },
     "1c9ef5ff103340549a310aec33b796fb": {
      "model_module": "@jupyter-widgets/base",
      "model_module_version": "1.2.0",
      "model_name": "LayoutModel",
      "state": {}
     },
     "1e980907ef6f48db9e6abef6b7949af3": {
      "model_module": "@jupyter-widgets/controls",
      "model_module_version": "1.5.0",
      "model_name": "DescriptionStyleModel",
      "state": {
       "description_width": ""
      }
     },
     "1fc506d3c3cc435eb4319ef229c092b1": {
      "model_module": "@jupyter-widgets/base",
      "model_module_version": "1.2.0",
      "model_name": "LayoutModel",
      "state": {}
     },
     "25530967fafd4435bcbd5dd25c0e4e37": {
      "model_module": "@jupyter-widgets/controls",
      "model_module_version": "1.5.0",
      "model_name": "ProgressStyleModel",
      "state": {
       "description_width": ""
      }
     },
     "26d730736557431e9f5ddaa6ae2832e5": {
      "model_module": "@jupyter-widgets/controls",
      "model_module_version": "1.5.0",
      "model_name": "DescriptionStyleModel",
      "state": {
       "description_width": ""
      }
     },
     "327e1598b1bb482785b84ea5d535956e": {
      "model_module": "@jupyter-widgets/base",
      "model_module_version": "1.2.0",
      "model_name": "LayoutModel",
      "state": {}
     },
     "343281f1f61546be8d076df5fefb0f04": {
      "model_module": "@jupyter-widgets/controls",
      "model_module_version": "1.5.0",
      "model_name": "DescriptionStyleModel",
      "state": {
       "description_width": ""
      }
     },
     "37f487724c0e4265b7ba2bb6472c7e09": {
      "model_module": "@jupyter-widgets/controls",
      "model_module_version": "1.5.0",
      "model_name": "HTMLModel",
      "state": {
       "layout": "IPY_MODEL_5281f5ea3a704814b7f4df2b1ba5d245",
       "style": "IPY_MODEL_66f56c22be2c4b8ba61032de62c80e20",
       "value": " 64/64 [00:11&lt;00:00,  5.56it/s]"
      }
     },
     "395e9a6e515d488b9ed0364446dfec7f": {
      "model_module": "@jupyter-widgets/base",
      "model_module_version": "1.2.0",
      "model_name": "LayoutModel",
      "state": {}
     },
     "423118ee495a429cb44c665b4e1960b3": {
      "model_module": "@jupyter-widgets/controls",
      "model_module_version": "1.5.0",
      "model_name": "DescriptionStyleModel",
      "state": {
       "description_width": ""
      }
     },
     "449a60a43c7b438a843662628d62fbd2": {
      "model_module": "@jupyter-widgets/controls",
      "model_module_version": "1.5.0",
      "model_name": "HBoxModel",
      "state": {
       "children": [
        "IPY_MODEL_93d0a2fda24a4b359bf9bb1c32785f93",
        "IPY_MODEL_faa593b0a0924dd28585e422df12b7d2",
        "IPY_MODEL_84c23b63517a4bc48cba11f092a8e4be"
       ],
       "layout": "IPY_MODEL_5916731ec6304a428ec1dc228ef7ad2e"
      }
     },
     "456adc794b3148b59c58df27a1eee310": {
      "model_module": "@jupyter-widgets/base",
      "model_module_version": "1.2.0",
      "model_name": "LayoutModel",
      "state": {}
     },
     "4ae3b8b243164abfbcdfd262b03586f5": {
      "model_module": "@jupyter-widgets/base",
      "model_module_version": "1.2.0",
      "model_name": "LayoutModel",
      "state": {}
     },
     "4ef2bd0b8ded42bc872349c1516f93a8": {
      "model_module": "@jupyter-widgets/controls",
      "model_module_version": "1.5.0",
      "model_name": "DescriptionStyleModel",
      "state": {
       "description_width": ""
      }
     },
     "5237e8d6e7964f7087231a73b5d7b536": {
      "model_module": "@jupyter-widgets/controls",
      "model_module_version": "1.5.0",
      "model_name": "HTMLModel",
      "state": {
       "layout": "IPY_MODEL_1fc506d3c3cc435eb4319ef229c092b1",
       "style": "IPY_MODEL_26d730736557431e9f5ddaa6ae2832e5",
       "value": "100%"
      }
     },
     "5281f5ea3a704814b7f4df2b1ba5d245": {
      "model_module": "@jupyter-widgets/base",
      "model_module_version": "1.2.0",
      "model_name": "LayoutModel",
      "state": {}
     },
     "57c28a89736a48eb89dd19e36c5fe2ff": {
      "model_module": "@jupyter-widgets/controls",
      "model_module_version": "1.5.0",
      "model_name": "HTMLModel",
      "state": {
       "layout": "IPY_MODEL_b1e09fedb70b4c7cbb0b3b60045cc42a",
       "style": "IPY_MODEL_4ef2bd0b8ded42bc872349c1516f93a8",
       "value": " 64/64 [00:15&lt;00:00,  4.13it/s]"
      }
     },
     "5916731ec6304a428ec1dc228ef7ad2e": {
      "model_module": "@jupyter-widgets/base",
      "model_module_version": "1.2.0",
      "model_name": "LayoutModel",
      "state": {}
     },
     "5a8c068ac0a4467ab7ebbba428270a94": {
      "model_module": "@jupyter-widgets/base",
      "model_module_version": "1.2.0",
      "model_name": "LayoutModel",
      "state": {}
     },
     "5cb6024d7c88460480aa626f9b4ec0b9": {
      "model_module": "@jupyter-widgets/controls",
      "model_module_version": "1.5.0",
      "model_name": "HBoxModel",
      "state": {
       "children": [
        "IPY_MODEL_1487452fb7aa411bac59acad3f63be18",
        "IPY_MODEL_14b381712025400bb2e6415a0e93b419",
        "IPY_MODEL_d4763823784946718362642bf0df6934"
       ],
       "layout": "IPY_MODEL_13fb3071fa7b4bb79b463f67b044b0bc"
      }
     },
     "66f56c22be2c4b8ba61032de62c80e20": {
      "model_module": "@jupyter-widgets/controls",
      "model_module_version": "1.5.0",
      "model_name": "DescriptionStyleModel",
      "state": {
       "description_width": ""
      }
     },
     "688f38611d904ed58ae42a66e4009820": {
      "model_module": "@jupyter-widgets/controls",
      "model_module_version": "1.5.0",
      "model_name": "DescriptionStyleModel",
      "state": {
       "description_width": ""
      }
     },
     "6cdd0c581a774dc1bfde0349e9ea8a5e": {
      "model_module": "@jupyter-widgets/controls",
      "model_module_version": "1.5.0",
      "model_name": "HTMLModel",
      "state": {
       "layout": "IPY_MODEL_ca8178652a66429dbdc472e83655c117",
       "style": "IPY_MODEL_dd2f545401794958b615c962dbe584c2",
       "value": " 64/64 [00:12&lt;00:00,  5.03it/s]"
      }
     },
     "71558d51863049cdac1dda08e1966164": {
      "model_module": "@jupyter-widgets/base",
      "model_module_version": "1.2.0",
      "model_name": "LayoutModel",
      "state": {}
     },
     "74f68497d6b543338d8aae522d2bd809": {
      "model_module": "@jupyter-widgets/controls",
      "model_module_version": "1.5.0",
      "model_name": "HTMLModel",
      "state": {
       "layout": "IPY_MODEL_395e9a6e515d488b9ed0364446dfec7f",
       "style": "IPY_MODEL_1e980907ef6f48db9e6abef6b7949af3",
       "value": "100%"
      }
     },
     "74fb560392f34190a481818bc6c213be": {
      "model_module": "@jupyter-widgets/controls",
      "model_module_version": "1.5.0",
      "model_name": "DescriptionStyleModel",
      "state": {
       "description_width": ""
      }
     },
     "76eeb7031a504e179f8a6297600c4636": {
      "model_module": "@jupyter-widgets/controls",
      "model_module_version": "1.5.0",
      "model_name": "HTMLModel",
      "state": {
       "layout": "IPY_MODEL_786798150b3a4d31b52bab94209912cd",
       "style": "IPY_MODEL_962be893c04741e989ac5babb97c2d3f",
       "value": " 64/64 [00:13&lt;00:00,  4.69it/s]"
      }
     },
     "786798150b3a4d31b52bab94209912cd": {
      "model_module": "@jupyter-widgets/base",
      "model_module_version": "1.2.0",
      "model_name": "LayoutModel",
      "state": {}
     },
     "7c03a2312adc416399ceae12d7e26053": {
      "model_module": "@jupyter-widgets/controls",
      "model_module_version": "1.5.0",
      "model_name": "HBoxModel",
      "state": {
       "children": [
        "IPY_MODEL_8357c3b68dac43389231dbdd8a232739",
        "IPY_MODEL_1a8f3e17c6b9447990d90d2b3a42b4c2",
        "IPY_MODEL_6cdd0c581a774dc1bfde0349e9ea8a5e"
       ],
       "layout": "IPY_MODEL_e6194cfc66c54cf2ae432fead072b0da"
      }
     },
     "7c56d816f00347e4b90f904ff4e9bc3b": {
      "model_module": "@jupyter-widgets/base",
      "model_module_version": "1.2.0",
      "model_name": "LayoutModel",
      "state": {}
     },
     "8357c3b68dac43389231dbdd8a232739": {
      "model_module": "@jupyter-widgets/controls",
      "model_module_version": "1.5.0",
      "model_name": "HTMLModel",
      "state": {
       "layout": "IPY_MODEL_ad812994f76a4fe7af82d0b1e3a32a29",
       "style": "IPY_MODEL_343281f1f61546be8d076df5fefb0f04",
       "value": "100%"
      }
     },
     "84c23b63517a4bc48cba11f092a8e4be": {
      "model_module": "@jupyter-widgets/controls",
      "model_module_version": "1.5.0",
      "model_name": "HTMLModel",
      "state": {
       "layout": "IPY_MODEL_be8589a7207b42fca5a195147632106c",
       "style": "IPY_MODEL_74fb560392f34190a481818bc6c213be",
       "value": " 64/64 [00:14&lt;00:00,  4.35it/s]"
      }
     },
     "84d3a9fdff4d452ca4f9b9e269bdcd66": {
      "model_module": "@jupyter-widgets/controls",
      "model_module_version": "1.5.0",
      "model_name": "HTMLModel",
      "state": {
       "layout": "IPY_MODEL_ed83e5bfa9824fbbaaf8137ee276ab39",
       "style": "IPY_MODEL_423118ee495a429cb44c665b4e1960b3",
       "value": "Attempt 0: 100%"
      }
     },
     "85360902288b41d2bc38fc7c747ca8da": {
      "model_module": "@jupyter-widgets/controls",
      "model_module_version": "1.5.0",
      "model_name": "ProgressStyleModel",
      "state": {
       "description_width": ""
      }
     },
     "857d2d78c0064503b89b3051b63cf2aa": {
      "model_module": "@jupyter-widgets/controls",
      "model_module_version": "1.5.0",
      "model_name": "ProgressStyleModel",
      "state": {
       "description_width": ""
      }
     },
     "858cb8abd74c48289fea4dc32ad1a2f7": {
      "model_module": "@jupyter-widgets/base",
      "model_module_version": "1.2.0",
      "model_name": "LayoutModel",
      "state": {}
     },
     "869e0d2968b24e2dbdd57f97f28fe0cf": {
      "model_module": "@jupyter-widgets/controls",
      "model_module_version": "1.5.0",
      "model_name": "HBoxModel",
      "state": {
       "children": [
        "IPY_MODEL_74f68497d6b543338d8aae522d2bd809",
        "IPY_MODEL_e3812411a390433384a94a3788c47d0a",
        "IPY_MODEL_37f487724c0e4265b7ba2bb6472c7e09"
       ],
       "layout": "IPY_MODEL_a3e412de64414a4a9583929c4b367200"
      }
     },
     "93d0a2fda24a4b359bf9bb1c32785f93": {
      "model_module": "@jupyter-widgets/controls",
      "model_module_version": "1.5.0",
      "model_name": "HTMLModel",
      "state": {
       "layout": "IPY_MODEL_5a8c068ac0a4467ab7ebbba428270a94",
       "style": "IPY_MODEL_c5a9f5fba5ef41bf8bdfa3ff71be2df6",
       "value": "Attempt 0: 100%"
      }
     },
     "962be893c04741e989ac5babb97c2d3f": {
      "model_module": "@jupyter-widgets/controls",
      "model_module_version": "1.5.0",
      "model_name": "DescriptionStyleModel",
      "state": {
       "description_width": ""
      }
     },
     "97d8dcc2452343ebb0d5a6bc34fd4402": {
      "model_module": "@jupyter-widgets/controls",
      "model_module_version": "1.5.0",
      "model_name": "FloatProgressModel",
      "state": {
       "bar_style": "success",
       "layout": "IPY_MODEL_71558d51863049cdac1dda08e1966164",
       "max": 64,
       "style": "IPY_MODEL_85360902288b41d2bc38fc7c747ca8da",
       "value": 64
      }
     },
     "9b32287531704292bcd11c7b6dff0060": {
      "model_module": "@jupyter-widgets/controls",
      "model_module_version": "1.5.0",
      "model_name": "ProgressStyleModel",
      "state": {
       "description_width": ""
      }
     },
     "a3e412de64414a4a9583929c4b367200": {
      "model_module": "@jupyter-widgets/base",
      "model_module_version": "1.2.0",
      "model_name": "LayoutModel",
      "state": {}
     },
     "ad812994f76a4fe7af82d0b1e3a32a29": {
      "model_module": "@jupyter-widgets/base",
      "model_module_version": "1.2.0",
      "model_name": "LayoutModel",
      "state": {}
     },
     "add59501c10141fa9260b99662501828": {
      "model_module": "@jupyter-widgets/controls",
      "model_module_version": "1.5.0",
      "model_name": "HBoxModel",
      "state": {
       "children": [
        "IPY_MODEL_5237e8d6e7964f7087231a73b5d7b536",
        "IPY_MODEL_97d8dcc2452343ebb0d5a6bc34fd4402",
        "IPY_MODEL_76eeb7031a504e179f8a6297600c4636"
       ],
       "layout": "IPY_MODEL_4ae3b8b243164abfbcdfd262b03586f5"
      }
     },
     "af94f054159544a3aff929d1ee14355f": {
      "model_module": "@jupyter-widgets/controls",
      "model_module_version": "1.5.0",
      "model_name": "ProgressStyleModel",
      "state": {
       "description_width": ""
      }
     },
     "afcc79bede8e47d5850123cdb46b0348": {
      "model_module": "@jupyter-widgets/base",
      "model_module_version": "1.2.0",
      "model_name": "LayoutModel",
      "state": {}
     },
     "b1e09fedb70b4c7cbb0b3b60045cc42a": {
      "model_module": "@jupyter-widgets/base",
      "model_module_version": "1.2.0",
      "model_name": "LayoutModel",
      "state": {}
     },
     "b9e85c89893f46a488c1a3b0c5c2f343": {
      "model_module": "@jupyter-widgets/base",
      "model_module_version": "1.2.0",
      "model_name": "LayoutModel",
      "state": {}
     },
     "be8589a7207b42fca5a195147632106c": {
      "model_module": "@jupyter-widgets/base",
      "model_module_version": "1.2.0",
      "model_name": "LayoutModel",
      "state": {}
     },
     "c5a9f5fba5ef41bf8bdfa3ff71be2df6": {
      "model_module": "@jupyter-widgets/controls",
      "model_module_version": "1.5.0",
      "model_name": "DescriptionStyleModel",
      "state": {
       "description_width": ""
      }
     },
     "c97fd488b032414caa715f873d8afe46": {
      "model_module": "@jupyter-widgets/controls",
      "model_module_version": "1.5.0",
      "model_name": "ProgressStyleModel",
      "state": {
       "description_width": ""
      }
     },
     "ca8178652a66429dbdc472e83655c117": {
      "model_module": "@jupyter-widgets/base",
      "model_module_version": "1.2.0",
      "model_name": "LayoutModel",
      "state": {}
     },
     "d4763823784946718362642bf0df6934": {
      "model_module": "@jupyter-widgets/controls",
      "model_module_version": "1.5.0",
      "model_name": "HTMLModel",
      "state": {
       "layout": "IPY_MODEL_858cb8abd74c48289fea4dc32ad1a2f7",
       "style": "IPY_MODEL_688f38611d904ed58ae42a66e4009820",
       "value": " 0/64 [05:07&lt;?, ?it/s]"
      }
     },
     "dd2f545401794958b615c962dbe584c2": {
      "model_module": "@jupyter-widgets/controls",
      "model_module_version": "1.5.0",
      "model_name": "DescriptionStyleModel",
      "state": {
       "description_width": ""
      }
     },
     "e3812411a390433384a94a3788c47d0a": {
      "model_module": "@jupyter-widgets/controls",
      "model_module_version": "1.5.0",
      "model_name": "FloatProgressModel",
      "state": {
       "bar_style": "success",
       "layout": "IPY_MODEL_b9e85c89893f46a488c1a3b0c5c2f343",
       "max": 64,
       "style": "IPY_MODEL_af94f054159544a3aff929d1ee14355f",
       "value": 64
      }
     },
     "e6194cfc66c54cf2ae432fead072b0da": {
      "model_module": "@jupyter-widgets/base",
      "model_module_version": "1.2.0",
      "model_name": "LayoutModel",
      "state": {}
     },
     "e857d27f63904790b2aae6ddbb3e1ca4": {
      "model_module": "@jupyter-widgets/controls",
      "model_module_version": "1.5.0",
      "model_name": "FloatProgressModel",
      "state": {
       "bar_style": "success",
       "layout": "IPY_MODEL_456adc794b3148b59c58df27a1eee310",
       "max": 64,
       "style": "IPY_MODEL_9b32287531704292bcd11c7b6dff0060",
       "value": 64
      }
     },
     "e8bdae9f41bf4d63b02a892ee1dc573a": {
      "model_module": "@jupyter-widgets/controls",
      "model_module_version": "1.5.0",
      "model_name": "HBoxModel",
      "state": {
       "children": [
        "IPY_MODEL_84d3a9fdff4d452ca4f9b9e269bdcd66",
        "IPY_MODEL_e857d27f63904790b2aae6ddbb3e1ca4",
        "IPY_MODEL_57c28a89736a48eb89dd19e36c5fe2ff"
       ],
       "layout": "IPY_MODEL_327e1598b1bb482785b84ea5d535956e"
      }
     },
     "ed83e5bfa9824fbbaaf8137ee276ab39": {
      "model_module": "@jupyter-widgets/base",
      "model_module_version": "1.2.0",
      "model_name": "LayoutModel",
      "state": {}
     },
     "efc9417be07e4845951c73cca07367d6": {
      "model_module": "@jupyter-widgets/base",
      "model_module_version": "1.2.0",
      "model_name": "LayoutModel",
      "state": {}
     },
     "faa593b0a0924dd28585e422df12b7d2": {
      "model_module": "@jupyter-widgets/controls",
      "model_module_version": "1.5.0",
      "model_name": "FloatProgressModel",
      "state": {
       "bar_style": "success",
       "layout": "IPY_MODEL_afcc79bede8e47d5850123cdb46b0348",
       "max": 64,
       "style": "IPY_MODEL_25530967fafd4435bcbd5dd25c0e4e37",
       "value": 64
      }
     },
     "fc91f95fbefd4b008a4061886217d29f": {
      "model_module": "@jupyter-widgets/controls",
      "model_module_version": "1.5.0",
      "model_name": "DescriptionStyleModel",
      "state": {
       "description_width": ""
      }
     }
    },
    "version_major": 2,
    "version_minor": 0
   }
  }
 },
 "nbformat": 4,
 "nbformat_minor": 4
}
