{
 "cells": [
  {
   "cell_type": "code",
   "execution_count": 1,
   "metadata": {},
   "outputs": [],
   "source": [
    "from lda import lda\n",
    "from lda.data.corpus import Corpus\n",
    "from lda.data.document import Document\n",
    "import matplotlib.pyplot as plt"
   ]
  },
  {
   "cell_type": "code",
   "execution_count": 2,
   "metadata": {},
   "outputs": [
    {
     "data": {
      "text/plain": [
       "Corpus with 5 documents"
      ]
     },
     "execution_count": 2,
     "metadata": {},
     "output_type": "execute_result"
    }
   ],
   "source": [
    "corpus = Corpus(documents=[\n",
    "    Document.from_text('Have a jolly christmas!'),\n",
    "    Document.from_text('Merry christmas, Jens!'),\n",
    "    Document.from_text('Jens Lagergen is the best professor at university.'),\n",
    "    Document.from_text('Universities are important learning centers. Especially because of Jens Lagergen.'),\n",
    "    Document.from_text('What even is a university? Experts disagree.')\n",
    "])\n",
    "corpus"
   ]
  },
  {
   "cell_type": "code",
   "execution_count": 3,
   "metadata": {},
   "outputs": [
    {
     "data": {
      "text/plain": [
       "[Word(original_form='jolly', lda_form='jolly', include=True),\n",
       " Word(original_form='christmas', lda_form='christmas', include=True)]"
      ]
     },
     "execution_count": 3,
     "metadata": {},
     "output_type": "execute_result"
    }
   ],
   "source": [
    "corpus.documents[0].included_words"
   ]
  },
  {
   "cell_type": "code",
   "execution_count": 4,
   "metadata": {},
   "outputs": [
    {
     "data": {
      "text/plain": [
       "[Word(original_form='Merry', lda_form='merry', include=True),\n",
       " Word(original_form='christmas', lda_form='christmas', include=True),\n",
       " Word(original_form='Jens', lda_form='jens', include=True)]"
      ]
     },
     "execution_count": 4,
     "metadata": {},
     "output_type": "execute_result"
    }
   ],
   "source": [
    "corpus.documents[1].included_words"
   ]
  },
  {
   "cell_type": "code",
   "execution_count": 5,
   "metadata": {},
   "outputs": [
    {
     "data": {
      "text/plain": [
       "[Word(original_form='Jens', lda_form='jens', include=True),\n",
       " Word(original_form='Lagergen', lda_form='lagergen', include=True),\n",
       " Word(original_form='best', lda_form='good', include=True),\n",
       " Word(original_form='professor', lda_form='professor', include=True),\n",
       " Word(original_form='university', lda_form='university', include=True)]"
      ]
     },
     "execution_count": 5,
     "metadata": {},
     "output_type": "execute_result"
    }
   ],
   "source": [
    "corpus.documents[2].included_words"
   ]
  },
  {
   "cell_type": "code",
   "execution_count": 6,
   "metadata": {},
   "outputs": [
    {
     "data": {
      "text/plain": [
       "[Word(original_form='Universities', lda_form='university', include=True),\n",
       " Word(original_form='important', lda_form='important', include=True),\n",
       " Word(original_form='learning', lda_form='learning', include=True),\n",
       " Word(original_form='centers', lda_form='center', include=True),\n",
       " Word(original_form='Especially', lda_form='especially', include=True),\n",
       " Word(original_form='Jens', lda_form='jens', include=True),\n",
       " Word(original_form='Lagergen', lda_form='lagergen', include=True)]"
      ]
     },
     "execution_count": 6,
     "metadata": {},
     "output_type": "execute_result"
    }
   ],
   "source": [
    "corpus.documents[3].included_words"
   ]
  },
  {
   "cell_type": "code",
   "execution_count": 7,
   "metadata": {},
   "outputs": [
    {
     "data": {
      "text/plain": [
       "True"
      ]
     },
     "execution_count": 7,
     "metadata": {},
     "output_type": "execute_result"
    }
   ],
   "source": [
    "corpus.documents[2].included_words[-1] == corpus.documents[3].included_words[0]"
   ]
  },
  {
   "cell_type": "code",
   "execution_count": 8,
   "metadata": {},
   "outputs": [
    {
     "data": {
      "text/plain": [
       "Counter({Word(original_form='jolly', lda_form='jolly', include=True): 1,\n",
       "         Word(original_form='christmas', lda_form='christmas', include=True): 2,\n",
       "         Word(original_form='Merry', lda_form='merry', include=True): 1,\n",
       "         Word(original_form='Jens', lda_form='jens', include=True): 3,\n",
       "         Word(original_form='Lagergen', lda_form='lagergen', include=True): 2,\n",
       "         Word(original_form='best', lda_form='good', include=True): 1,\n",
       "         Word(original_form='professor', lda_form='professor', include=True): 1,\n",
       "         Word(original_form='university', lda_form='university', include=True): 3,\n",
       "         Word(original_form='important', lda_form='important', include=True): 1,\n",
       "         Word(original_form='learning', lda_form='learning', include=True): 1,\n",
       "         Word(original_form='centers', lda_form='center', include=True): 1,\n",
       "         Word(original_form='Especially', lda_form='especially', include=True): 1,\n",
       "         Word(original_form='Experts', lda_form='expert', include=True): 1,\n",
       "         Word(original_form='disagree', lda_form='disagree', include=True): 1})"
      ]
     },
     "execution_count": 8,
     "metadata": {},
     "output_type": "execute_result"
    }
   ],
   "source": [
    "corpus.word_count"
   ]
  },
  {
   "cell_type": "code",
   "execution_count": 9,
   "metadata": {},
   "outputs": [
    {
     "data": {
      "application/vnd.jupyter.widget-view+json": {
       "model_id": "869e0d2968b24e2dbdd57f97f28fe0cf",
       "version_major": 2,
       "version_minor": 0
      },
      "text/plain": [
       "  0%|          | 0/64 [00:00<?, ?it/s]"
      ]
     },
     "metadata": {},
     "output_type": "display_data"
    }
   ],
   "source": [
    "params, lower_bound_evol = lda(corpus, num_topics=2, num_iterations=64)"
   ]
  },
  {
   "cell_type": "code",
   "execution_count": 10,
   "metadata": {},
   "outputs": [
    {
     "data": {
      "text/plain": [
       "{'alpha': array([0.00797937, 0.01187346]),\n",
       " 'beta': [{Word(original_form='university', lda_form='university', include=True): 0.125,\n",
       "   Word(original_form='christmas', lda_form='christmas', include=True): 0.125,\n",
       "   Word(original_form='disagree', lda_form='disagree', include=True): 0.0,\n",
       "   Word(original_form='Jens', lda_form='jens', include=True): 0.25,\n",
       "   Word(original_form='professor', lda_form='professor', include=True): 0.125,\n",
       "   Word(original_form='Lagergen', lda_form='lagergen', include=True): 0.125,\n",
       "   Word(original_form='learning', lda_form='learning', include=True): 0.0,\n",
       "   Word(original_form='centers', lda_form='center', include=True): 0.0,\n",
       "   Word(original_form='best', lda_form='good', include=True): 0.125,\n",
       "   Word(original_form='jolly', lda_form='jolly', include=True): 0.0,\n",
       "   Word(original_form='Experts', lda_form='expert', include=True): 0.0,\n",
       "   Word(original_form='Especially', lda_form='especially', include=True): 0.0,\n",
       "   Word(original_form='Merry', lda_form='merry', include=True): 0.125,\n",
       "   Word(original_form='important', lda_form='important', include=True): 0.0},\n",
       "  {Word(original_form='university', lda_form='university', include=True): 0.16666666666666666,\n",
       "   Word(original_form='christmas', lda_form='christmas', include=True): 0.08333333333333333,\n",
       "   Word(original_form='disagree', lda_form='disagree', include=True): 0.08333333333333333,\n",
       "   Word(original_form='Jens', lda_form='jens', include=True): 0.08333333333333333,\n",
       "   Word(original_form='professor', lda_form='professor', include=True): 0.0,\n",
       "   Word(original_form='Lagergen', lda_form='lagergen', include=True): 0.08333333333333333,\n",
       "   Word(original_form='learning', lda_form='learning', include=True): 0.08333333333333333,\n",
       "   Word(original_form='centers', lda_form='center', include=True): 0.08333333333333333,\n",
       "   Word(original_form='best', lda_form='good', include=True): 0.0,\n",
       "   Word(original_form='jolly', lda_form='jolly', include=True): 0.08333333333333333,\n",
       "   Word(original_form='Experts', lda_form='expert', include=True): 0.08333333333333333,\n",
       "   Word(original_form='Especially', lda_form='especially', include=True): 0.08333333333333333,\n",
       "   Word(original_form='Merry', lda_form='merry', include=True): 0.0,\n",
       "   Word(original_form='important', lda_form='important', include=True): 0.08333333333333333}],\n",
       " 'phis': {Document including 2 words: array([[0.00000000e+00, 1.00000000e+00],\n",
       "         [2.07485594e-55, 1.00000000e+00]]),\n",
       "  Document including 3 words: array([[1.00000000e+00, 0.00000000e+00],\n",
       "         [1.00000000e+00, 4.00495428e-38],\n",
       "         [1.00000000e+00, 2.00247714e-38]]),\n",
       "  Document including 5 words: array([[1.00000000e+00, 1.11899797e-38],\n",
       "         [1.00000000e+00, 2.23799594e-38],\n",
       "         [1.00000000e+00, 0.00000000e+00],\n",
       "         [1.00000000e+00, 0.00000000e+00],\n",
       "         [1.00000000e+00, 4.47599188e-38]]),\n",
       "  Document including 7 words: array([[2.44767216e-56, 1.00000000e+00],\n",
       "         [0.00000000e+00, 1.00000000e+00],\n",
       "         [0.00000000e+00, 1.00000000e+00],\n",
       "         [0.00000000e+00, 1.00000000e+00],\n",
       "         [0.00000000e+00, 1.00000000e+00],\n",
       "         [9.79068863e-56, 1.00000000e+00],\n",
       "         [4.89534431e-56, 1.00000000e+00]]),\n",
       "  Document including 3 words: array([[6.31091454e-56, 1.00000000e+00],\n",
       "         [0.00000000e+00, 1.00000000e+00],\n",
       "         [0.00000000e+00, 1.00000000e+00]])},\n",
       " 'gammas': {Document including 2 words: array([0.00797937, 2.01187346]),\n",
       "  Document including 3 words: array([3.00797937, 0.01187346]),\n",
       "  Document including 5 words: array([5.00797937, 0.01187346]),\n",
       "  Document including 7 words: array([0.00797937, 7.01187346]),\n",
       "  Document including 3 words: array([0.00797937, 3.01187346])}}"
      ]
     },
     "execution_count": 10,
     "metadata": {},
     "output_type": "execute_result"
    }
   ],
   "source": [
    "params"
   ]
  },
  {
   "cell_type": "code",
   "execution_count": 11,
   "metadata": {},
   "outputs": [
    {
     "data": {
      "text/plain": [
       "[<matplotlib.lines.Line2D at 0x7f7d15901f70>]"
      ]
     },
     "execution_count": 11,
     "metadata": {},
     "output_type": "execute_result"
    },
    {
     "data": {
      "image/png": "[encoded data removed]",
      "text/plain": [
       "<Figure size 432x288 with 1 Axes>"
      ]
     },
     "metadata": {
      "needs_background": "light"
     },
     "output_type": "display_data"
    }
   ],
   "source": [
    "plt.figure()\n",
    "plt.plot(lower_bound_evol)"
   ]
  },
  {
   "cell_type": "code",
   "execution_count": 12,
   "metadata": {},
   "outputs": [
    {
     "data": {
      "text/plain": [
       "array([-49.81446182, -48.57609862, -48.20167702, -48.01515355,\n",
       "       -47.88476802, -47.78435508, -47.70402278, -47.63838244,\n",
       "       -47.58388856, -47.53803587, -47.49899559, -47.46540593,\n",
       "       -47.43623626, -47.41069394, -47.38816148, -47.36815016,\n",
       "       -47.35026941, -47.33420437, -47.31969819, -47.30653943,\n",
       "       -47.29455262, -47.28359099, -47.27353096, -47.26426775,\n",
       "       -47.25571197, -47.24778697, -47.24042663, -47.23357365,\n",
       "       -47.22717814, -47.22119645, -47.21559028, -47.21032584,\n",
       "       -47.20537323, -47.20070593, -47.1963003 , -47.1921352 ,\n",
       "       -47.18819171, -47.18445281, -47.18090318, -47.17752896,\n",
       "       -47.17431761, -47.17125775, -47.16833902, -47.16555197,\n",
       "       -47.16288799, -47.16033919, -47.15789832, -47.15555873,\n",
       "       -47.15331432, -47.15115945, -47.1490889 , -47.14709788,\n",
       "       -47.14518192, -47.14333689, -47.14155897, -47.13984458,\n",
       "       -47.13819041, -47.13659337, -47.13505057, -47.13355932,\n",
       "       -47.13211709, -47.13072152, -47.12937041, -47.12806168])"
      ]
     },
     "execution_count": 12,
     "metadata": {},
     "output_type": "execute_result"
    }
   ],
   "source": [
    "lower_bound_evol"
   ]
  }
 ],
 "metadata": {
  "kernelspec": {
   "display_name": "Python 3",
   "language": "python",
   "name": "python3"
  },
  "language_info": {
   "codemirror_mode": {
    "name": "ipython",
    "version": 3
   },
   "file_extension": ".py",
   "mimetype": "text/x-python",
   "name": "python",
   "nbconvert_exporter": "python",
   "pygments_lexer": "ipython3",
   "version": "3.8.6"
  },
  "widgets": {
   "application/vnd.jupyter.widget-state+json": {
    "state": {
     "13fb3071fa7b4bb79b463f67b044b0bc": {
      "model_module": "@jupyter-widgets/base",
      "model_module_version": "1.2.0",
      "model_name": "LayoutModel",
      "state": {}
     },
     "1487452fb7aa411bac59acad3f63be18": {
      "model_module": "@jupyter-widgets/controls",
      "model_module_version": "1.5.0",
      "model_name": "HTMLModel",
      "state": {
       "layout": "IPY_MODEL_7c56d816f00347e4b90f904ff4e9bc3b",
       "style": "IPY_MODEL_fc91f95fbefd4b008a4061886217d29f",
       "value": "  0%"
      }
     },
     "14b381712025400bb2e6415a0e93b419": {
      "model_module": "@jupyter-widgets/controls",
      "model_module_version": "1.5.0",
      "model_name": "FloatProgressModel",
      "state": {
       "bar_style": "danger",
       "layout": "IPY_MODEL_efc9417be07e4845951c73cca07367d6",
       "max": 64,
       "style": "IPY_MODEL_857d2d78c0064503b89b3051b63cf2aa"
      }
     },
     "1a8f3e17c6b9447990d90d2b3a42b4c2": {
      "model_module": "@jupyter-widgets/controls",
      "model_module_version": "1.5.0",
      "model_name": "FloatProgressModel",
      "state": {
       "bar_style": "success",
       "layout": "IPY_MODEL_1c9ef5ff103340549a310aec33b796fb",
       "max": 64,
       "style": "IPY_MODEL_c97fd488b032414caa715f873d8afe46",
       "value": 64
      }
     },
     "1c9ef5ff103340549a310aec33b796fb": {
      "model_module": "@jupyter-widgets/base",
      "model_module_version": "1.2.0",
      "model_name": "LayoutModel",
      "state": {}
     },
     "1e980907ef6f48db9e6abef6b7949af3": {
      "model_module": "@jupyter-widgets/controls",
      "model_module_version": "1.5.0",
      "model_name": "DescriptionStyleModel",
      "state": {
       "description_width": ""
      }
     },
     "1fc506d3c3cc435eb4319ef229c092b1": {
      "model_module": "@jupyter-widgets/base",
      "model_module_version": "1.2.0",
      "model_name": "LayoutModel",
      "state": {}
     },
     "26d730736557431e9f5ddaa6ae2832e5": {
      "model_module": "@jupyter-widgets/controls",
      "model_module_version": "1.5.0",
      "model_name": "DescriptionStyleModel",
      "state": {
       "description_width": ""
      }
     },
     "343281f1f61546be8d076df5fefb0f04": {
      "model_module": "@jupyter-widgets/controls",
      "model_module_version": "1.5.0",
      "model_name": "DescriptionStyleModel",
      "state": {
       "description_width": ""
      }
     },
     "37f487724c0e4265b7ba2bb6472c7e09": {
      "model_module": "@jupyter-widgets/controls",
      "model_module_version": "1.5.0",
      "model_name": "HTMLModel",
      "state": {
       "layout": "IPY_MODEL_5281f5ea3a704814b7f4df2b1ba5d245",
       "style": "IPY_MODEL_66f56c22be2c4b8ba61032de62c80e20",
       "value": " 64/64 [00:11&lt;00:00,  5.56it/s]"
      }
     },
     "395e9a6e515d488b9ed0364446dfec7f": {
      "model_module": "@jupyter-widgets/base",
      "model_module_version": "1.2.0",
      "model_name": "LayoutModel",
      "state": {}
     },
     "4ae3b8b243164abfbcdfd262b03586f5": {
      "model_module": "@jupyter-widgets/base",
      "model_module_version": "1.2.0",
      "model_name": "LayoutModel",
      "state": {}
     },
     "5237e8d6e7964f7087231a73b5d7b536": {
      "model_module": "@jupyter-widgets/controls",
      "model_module_version": "1.5.0",
      "model_name": "HTMLModel",
      "state": {
       "layout": "IPY_MODEL_1fc506d3c3cc435eb4319ef229c092b1",
       "style": "IPY_MODEL_26d730736557431e9f5ddaa6ae2832e5",
       "value": "100%"
      }
     },
     "5281f5ea3a704814b7f4df2b1ba5d245": {
      "model_module": "@jupyter-widgets/base",
      "model_module_version": "1.2.0",
      "model_name": "LayoutModel",
      "state": {}
     },
     "5cb6024d7c88460480aa626f9b4ec0b9": {
      "model_module": "@jupyter-widgets/controls",
      "model_module_version": "1.5.0",
      "model_name": "HBoxModel",
      "state": {
       "children": [
        "IPY_MODEL_1487452fb7aa411bac59acad3f63be18",
        "IPY_MODEL_14b381712025400bb2e6415a0e93b419",
        "IPY_MODEL_d4763823784946718362642bf0df6934"
       ],
       "layout": "IPY_MODEL_13fb3071fa7b4bb79b463f67b044b0bc"
      }
     },
     "66f56c22be2c4b8ba61032de62c80e20": {
      "model_module": "@jupyter-widgets/controls",
      "model_module_version": "1.5.0",
      "model_name": "DescriptionStyleModel",
      "state": {
       "description_width": ""
      }
     },
     "688f38611d904ed58ae42a66e4009820": {
      "model_module": "@jupyter-widgets/controls",
      "model_module_version": "1.5.0",
      "model_name": "DescriptionStyleModel",
      "state": {
       "description_width": ""
      }
     },
     "6cdd0c581a774dc1bfde0349e9ea8a5e": {
      "model_module": "@jupyter-widgets/controls",
      "model_module_version": "1.5.0",
      "model_name": "HTMLModel",
      "state": {
       "layout": "IPY_MODEL_ca8178652a66429dbdc472e83655c117",
       "style": "IPY_MODEL_dd2f545401794958b615c962dbe584c2",
       "value": " 64/64 [00:12&lt;00:00,  5.03it/s]"
      }
     },
     "71558d51863049cdac1dda08e1966164": {
      "model_module": "@jupyter-widgets/base",
      "model_module_version": "1.2.0",
      "model_name": "LayoutModel",
      "state": {}
     },
     "74f68497d6b543338d8aae522d2bd809": {
      "model_module": "@jupyter-widgets/controls",
      "model_module_version": "1.5.0",
      "model_name": "HTMLModel",
      "state": {
       "layout": "IPY_MODEL_395e9a6e515d488b9ed0364446dfec7f",
       "style": "IPY_MODEL_1e980907ef6f48db9e6abef6b7949af3",
       "value": "100%"
      }
     },
     "76eeb7031a504e179f8a6297600c4636": {
      "model_module": "@jupyter-widgets/controls",
      "model_module_version": "1.5.0",
      "model_name": "HTMLModel",
      "state": {
       "layout": "IPY_MODEL_786798150b3a4d31b52bab94209912cd",
       "style": "IPY_MODEL_962be893c04741e989ac5babb97c2d3f",
       "value": " 64/64 [00:13&lt;00:00,  4.69it/s]"
      }
     },
     "786798150b3a4d31b52bab94209912cd": {
      "model_module": "@jupyter-widgets/base",
      "model_module_version": "1.2.0",
      "model_name": "LayoutModel",
      "state": {}
     },
     "7c03a2312adc416399ceae12d7e26053": {
      "model_module": "@jupyter-widgets/controls",
      "model_module_version": "1.5.0",
      "model_name": "HBoxModel",
      "state": {
       "children": [
        "IPY_MODEL_8357c3b68dac43389231dbdd8a232739",
        "IPY_MODEL_1a8f3e17c6b9447990d90d2b3a42b4c2",
        "IPY_MODEL_6cdd0c581a774dc1bfde0349e9ea8a5e"
       ],
       "layout": "IPY_MODEL_e6194cfc66c54cf2ae432fead072b0da"
      }
     },
     "7c56d816f00347e4b90f904ff4e9bc3b": {
      "model_module": "@jupyter-widgets/base",
      "model_module_version": "1.2.0",
      "model_name": "LayoutModel",
      "state": {}
     },
     "8357c3b68dac43389231dbdd8a232739": {
      "model_module": "@jupyter-widgets/controls",
      "model_module_version": "1.5.0",
      "model_name": "HTMLModel",
      "state": {
       "layout": "IPY_MODEL_ad812994f76a4fe7af82d0b1e3a32a29",
       "style": "IPY_MODEL_343281f1f61546be8d076df5fefb0f04",
       "value": "100%"
      }
     },
     "85360902288b41d2bc38fc7c747ca8da": {
      "model_module": "@jupyter-widgets/controls",
      "model_module_version": "1.5.0",
      "model_name": "ProgressStyleModel",
      "state": {
       "description_width": ""
      }
     },
     "857d2d78c0064503b89b3051b63cf2aa": {
      "model_module": "@jupyter-widgets/controls",
      "model_module_version": "1.5.0",
      "model_name": "ProgressStyleModel",
      "state": {
       "description_width": ""
      }
     },
     "858cb8abd74c48289fea4dc32ad1a2f7": {
      "model_module": "@jupyter-widgets/base",
      "model_module_version": "1.2.0",
      "model_name": "LayoutModel",
      "state": {}
     },
     "869e0d2968b24e2dbdd57f97f28fe0cf": {
      "model_module": "@jupyter-widgets/controls",
      "model_module_version": "1.5.0",
      "model_name": "HBoxModel",
      "state": {
       "children": [
        "IPY_MODEL_74f68497d6b543338d8aae522d2bd809",
        "IPY_MODEL_e3812411a390433384a94a3788c47d0a",
        "IPY_MODEL_37f487724c0e4265b7ba2bb6472c7e09"
       ],
       "layout": "IPY_MODEL_a3e412de64414a4a9583929c4b367200"
      }
     },
     "962be893c04741e989ac5babb97c2d3f": {
      "model_module": "@jupyter-widgets/controls",
      "model_module_version": "1.5.0",
      "model_name": "DescriptionStyleModel",
      "state": {
       "description_width": ""
      }
     },
     "97d8dcc2452343ebb0d5a6bc34fd4402": {
      "model_module": "@jupyter-widgets/controls",
      "model_module_version": "1.5.0",
      "model_name": "FloatProgressModel",
      "state": {
       "bar_style": "success",
       "layout": "IPY_MODEL_71558d51863049cdac1dda08e1966164",
       "max": 64,
       "style": "IPY_MODEL_85360902288b41d2bc38fc7c747ca8da",
       "value": 64
      }
     },
     "a3e412de64414a4a9583929c4b367200": {
      "model_module": "@jupyter-widgets/base",
      "model_module_version": "1.2.0",
      "model_name": "LayoutModel",
      "state": {}
     },
     "ad812994f76a4fe7af82d0b1e3a32a29": {
      "model_module": "@jupyter-widgets/base",
      "model_module_version": "1.2.0",
      "model_name": "LayoutModel",
      "state": {}
     },
     "add59501c10141fa9260b99662501828": {
      "model_module": "@jupyter-widgets/controls",
      "model_module_version": "1.5.0",
      "model_name": "HBoxModel",
      "state": {
       "children": [
        "IPY_MODEL_5237e8d6e7964f7087231a73b5d7b536",
        "IPY_MODEL_97d8dcc2452343ebb0d5a6bc34fd4402",
        "IPY_MODEL_76eeb7031a504e179f8a6297600c4636"
       ],
       "layout": "IPY_MODEL_4ae3b8b243164abfbcdfd262b03586f5"
      }
     },
     "af94f054159544a3aff929d1ee14355f": {
      "model_module": "@jupyter-widgets/controls",
      "model_module_version": "1.5.0",
      "model_name": "ProgressStyleModel",
      "state": {
       "description_width": ""
      }
     },
     "b9e85c89893f46a488c1a3b0c5c2f343": {
      "model_module": "@jupyter-widgets/base",
      "model_module_version": "1.2.0",
      "model_name": "LayoutModel",
      "state": {}
     },
     "c97fd488b032414caa715f873d8afe46": {
      "model_module": "@jupyter-widgets/controls",
      "model_module_version": "1.5.0",
      "model_name": "ProgressStyleModel",
      "state": {
       "description_width": ""
      }
     },
     "ca8178652a66429dbdc472e83655c117": {
      "model_module": "@jupyter-widgets/base",
      "model_module_version": "1.2.0",
      "model_name": "LayoutModel",
      "state": {}
     },
     "d4763823784946718362642bf0df6934": {
      "model_module": "@jupyter-widgets/controls",
      "model_module_version": "1.5.0",
      "model_name": "HTMLModel",
      "state": {
       "layout": "IPY_MODEL_858cb8abd74c48289fea4dc32ad1a2f7",
       "style": "IPY_MODEL_688f38611d904ed58ae42a66e4009820",
       "value": " 0/64 [05:07&lt;?, ?it/s]"
      }
     },
     "dd2f545401794958b615c962dbe584c2": {
      "model_module": "@jupyter-widgets/controls",
      "model_module_version": "1.5.0",
      "model_name": "DescriptionStyleModel",
      "state": {
       "description_width": ""
      }
     },
     "e3812411a390433384a94a3788c47d0a": {
      "model_module": "@jupyter-widgets/controls",
      "model_module_version": "1.5.0",
      "model_name": "FloatProgressModel",
      "state": {
       "bar_style": "success",
       "layout": "IPY_MODEL_b9e85c89893f46a488c1a3b0c5c2f343",
       "max": 64,
       "style": "IPY_MODEL_af94f054159544a3aff929d1ee14355f",
       "value": 64
      }
     },
     "e6194cfc66c54cf2ae432fead072b0da": {
      "model_module": "@jupyter-widgets/base",
      "model_module_version": "1.2.0",
      "model_name": "LayoutModel",
      "state": {}
     },
     "efc9417be07e4845951c73cca07367d6": {
      "model_module": "@jupyter-widgets/base",
      "model_module_version": "1.2.0",
      "model_name": "LayoutModel",
      "state": {}
     },
     "fc91f95fbefd4b008a4061886217d29f": {
      "model_module": "@jupyter-widgets/controls",
      "model_module_version": "1.5.0",
      "model_name": "DescriptionStyleModel",
      "state": {
       "description_width": ""
      }
     }
    },
    "version_major": 2,
    "version_minor": 0
   }
  }
 },
 "nbformat": 4,
 "nbformat_minor": 4
}
