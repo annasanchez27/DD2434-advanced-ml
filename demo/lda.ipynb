{
 "cells": [
  {
   "cell_type": "code",
   "execution_count": 1,
   "metadata": {},
   "outputs": [],
   "source": [
    "from lda import lda\n",
    "from lda.data.corpus import Corpus\n",
    "from lda.data.document import Document"
   ]
  },
  {
   "cell_type": "code",
   "execution_count": 2,
   "metadata": {},
   "outputs": [
    {
     "data": {
      "text/plain": [
       "Corpus with 5 documents"
      ]
     },
     "execution_count": 2,
     "metadata": {},
     "output_type": "execute_result"
    }
   ],
   "source": [
    "corpus = Corpus(documents=[\n",
    "    Document.from_text('Have a jolly christmas!'),\n",
    "    Document.from_text('Merry christmas!'),\n",
    "    Document.from_text('Jens Lagergen is the best professor at university.'),\n",
    "    Document.from_text('Universities are important learning centers. Especially because of Jens Lagergen.'),\n",
    "    Document.from_text('What even is a university? Experts disagree.')\n",
    "])\n",
    "corpus"
   ]
  },
  {
   "cell_type": "code",
   "execution_count": 3,
   "metadata": {},
   "outputs": [
    {
     "data": {
      "text/plain": [
       "[Word(original_form='jolly', lda_form='jolly', include=True),\n",
       " Word(original_form='christmas', lda_form='christmas', include=True)]"
      ]
     },
     "execution_count": 3,
     "metadata": {},
     "output_type": "execute_result"
    }
   ],
   "source": [
    "corpus.documents[0].included_words"
   ]
  },
  {
   "cell_type": "code",
   "execution_count": 4,
   "metadata": {},
   "outputs": [
    {
     "data": {
      "text/plain": [
       "[Word(original_form='Merry', lda_form='merry', include=True),\n",
       " Word(original_form='christmas', lda_form='christmas', include=True)]"
      ]
     },
     "execution_count": 4,
     "metadata": {},
     "output_type": "execute_result"
    }
   ],
   "source": [
    "corpus.documents[1].included_words"
   ]
  },
  {
   "cell_type": "code",
   "execution_count": 5,
   "metadata": {},
   "outputs": [
    {
     "data": {
      "text/plain": [
       "[Word(original_form='Jens', lda_form='jens', include=True),\n",
       " Word(original_form='Lagergen', lda_form='lagergen', include=True),\n",
       " Word(original_form='best', lda_form='good', include=True),\n",
       " Word(original_form='professor', lda_form='professor', include=True),\n",
       " Word(original_form='university', lda_form='university', include=True)]"
      ]
     },
     "execution_count": 5,
     "metadata": {},
     "output_type": "execute_result"
    }
   ],
   "source": [
    "corpus.documents[2].included_words"
   ]
  },
  {
   "cell_type": "code",
   "execution_count": 6,
   "metadata": {},
   "outputs": [
    {
     "data": {
      "text/plain": [
       "[Word(original_form='Universities', lda_form='university', include=True),\n",
       " Word(original_form='important', lda_form='important', include=True),\n",
       " Word(original_form='learning', lda_form='learning', include=True),\n",
       " Word(original_form='centers', lda_form='center', include=True),\n",
       " Word(original_form='Especially', lda_form='especially', include=True),\n",
       " Word(original_form='Jens', lda_form='jens', include=True),\n",
       " Word(original_form='Lagergen', lda_form='lagergen', include=True)]"
      ]
     },
     "execution_count": 6,
     "metadata": {},
     "output_type": "execute_result"
    }
   ],
   "source": [
    "corpus.documents[3].included_words"
   ]
  },
  {
   "cell_type": "code",
   "execution_count": 7,
   "metadata": {},
   "outputs": [
    {
     "data": {
      "text/plain": [
       "True"
      ]
     },
     "execution_count": 7,
     "metadata": {},
     "output_type": "execute_result"
    }
   ],
   "source": [
    "corpus.documents[2].included_words[-1] == corpus.documents[3].included_words[0]"
   ]
  },
  {
   "cell_type": "code",
   "execution_count": 8,
   "metadata": {},
   "outputs": [
    {
     "data": {
      "text/plain": [
       "Counter({Word(original_form='jolly', lda_form='jolly', include=True): 1,\n",
       "         Word(original_form='christmas', lda_form='christmas', include=True): 2,\n",
       "         Word(original_form='Merry', lda_form='merry', include=True): 1,\n",
       "         Word(original_form='Jens', lda_form='jens', include=True): 2,\n",
       "         Word(original_form='Lagergen', lda_form='lagergen', include=True): 2,\n",
       "         Word(original_form='best', lda_form='good', include=True): 1,\n",
       "         Word(original_form='professor', lda_form='professor', include=True): 1,\n",
       "         Word(original_form='university', lda_form='university', include=True): 3,\n",
       "         Word(original_form='important', lda_form='important', include=True): 1,\n",
       "         Word(original_form='learning', lda_form='learning', include=True): 1,\n",
       "         Word(original_form='centers', lda_form='center', include=True): 1,\n",
       "         Word(original_form='Especially', lda_form='especially', include=True): 1,\n",
       "         Word(original_form='Experts', lda_form='expert', include=True): 1,\n",
       "         Word(original_form='disagree', lda_form='disagree', include=True): 1})"
      ]
     },
     "execution_count": 8,
     "metadata": {},
     "output_type": "execute_result"
    }
   ],
   "source": [
    "corpus.word_count"
   ]
  },
  {
   "cell_type": "code",
   "execution_count": 9,
   "metadata": {},
   "outputs": [
    {
     "data": {
      "application/vnd.jupyter.widget-view+json": {
       "model_id": "55f6522d319b4e479832850a33b15def",
       "version_major": 2,
       "version_minor": 0
      },
      "text/plain": [
       "HBox(children=(HTML(value=''), FloatProgress(value=0.0, max=64.0), HTML(value='')))"
      ]
     },
     "metadata": {},
     "output_type": "display_data"
    },
    {
     "name": "stdout",
     "output_type": "stream",
     "text": [
      "\n"
     ]
    },
    {
     "data": {
      "text/plain": [
       "{'alpha': array([0.01395469, 0.00950191]),\n",
       " 'beta': [{Word(original_form='learning', lda_form='learning', include=True): 0.0,\n",
       "   Word(original_form='professor', lda_form='professor', include=True): 0.0,\n",
       "   Word(original_form='university', lda_form='university', include=True): 0.1428550195797132,\n",
       "   Word(original_form='Especially', lda_form='especially', include=True): 0.0,\n",
       "   Word(original_form='Experts', lda_form='expert', include=True): 0.14285749673671447,\n",
       "   Word(original_form='christmas', lda_form='christmas', include=True): 0.28571499347342894,\n",
       "   Word(original_form='important', lda_form='important', include=True): 0.0,\n",
       "   Word(original_form='Merry', lda_form='merry', include=True): 0.14285749673671447,\n",
       "   Word(original_form='centers', lda_form='center', include=True): 0.0,\n",
       "   Word(original_form='disagree', lda_form='disagree', include=True): 0.14285749673671447,\n",
       "   Word(original_form='best', lda_form='good', include=True): 0.0,\n",
       "   Word(original_form='Lagergen', lda_form='lagergen', include=True): 0.0,\n",
       "   Word(original_form='jolly', lda_form='jolly', include=True): 0.14285749673671447,\n",
       "   Word(original_form='Jens', lda_form='jens', include=True): 0.0},\n",
       "  {Word(original_form='learning', lda_form='learning', include=True): 0.0833332129164514,\n",
       "   Word(original_form='professor', lda_form='professor', include=True): 0.0833332129164514,\n",
       "   Word(original_form='university', lda_form='university', include=True): 0.16666787083548604,\n",
       "   Word(original_form='Especially', lda_form='especially', include=True): 0.0833332129164514,\n",
       "   Word(original_form='Experts', lda_form='expert', include=True): 1.3362059677417572e-242,\n",
       "   Word(original_form='christmas', lda_form='christmas', include=True): 0.0,\n",
       "   Word(original_form='important', lda_form='important', include=True): 0.0833332129164514,\n",
       "   Word(original_form='Merry', lda_form='merry', include=True): 0.0,\n",
       "   Word(original_form='centers', lda_form='center', include=True): 0.0833332129164514,\n",
       "   Word(original_form='disagree', lda_form='disagree', include=True): 2.139986441458745e-242,\n",
       "   Word(original_form='best', lda_form='good', include=True): 0.0833332129164514,\n",
       "   Word(original_form='Lagergen', lda_form='lagergen', include=True): 0.1666664258329028,\n",
       "   Word(original_form='jolly', lda_form='jolly', include=True): 0.0,\n",
       "   Word(original_form='Jens', lda_form='jens', include=True): 0.1666664258329028}],\n",
       " 'phis': {Document including 2 words: array([[1., 0.],\n",
       "         [1., 0.]]),\n",
       "  Document including 2 words: array([[1., 0.],\n",
       "         [1., 0.]]),\n",
       "  Document including 5 words: array([[0.00000000e+00, 1.00000000e+00],\n",
       "         [0.00000000e+00, 1.00000000e+00],\n",
       "         [0.00000000e+00, 1.00000000e+00],\n",
       "         [0.00000000e+00, 1.00000000e+00],\n",
       "         [3.04299226e-32, 1.00000000e+00]]),\n",
       "  Document including 7 words: array([[2.11029914e-32, 1.00000000e+00],\n",
       "         [0.00000000e+00, 1.00000000e+00],\n",
       "         [0.00000000e+00, 1.00000000e+00],\n",
       "         [0.00000000e+00, 1.00000000e+00],\n",
       "         [0.00000000e+00, 1.00000000e+00],\n",
       "         [0.00000000e+00, 1.00000000e+00],\n",
       "         [0.00000000e+00, 1.00000000e+00]]),\n",
       "  Document including 3 words: array([[9.99982660e-001, 1.73400561e-005],\n",
       "         [1.00000000e+000, 1.60344948e-241],\n",
       "         [1.00000000e+000, 2.56798744e-241]])},\n",
       " 'gammas': {Document including 2 words: array([2.01421396, 0.00968212]),\n",
       "  Document including 2 words: array([2.01421396, 0.00968212]),\n",
       "  Document including 5 words: array([0.01421396, 5.00968212]),\n",
       "  Document including 7 words: array([0.01421396, 7.00968212]),\n",
       "  Document including 3 words: array([3.01419662, 0.00969946])}}"
      ]
     },
     "execution_count": 9,
     "metadata": {},
     "output_type": "execute_result"
    }
   ],
   "source": [
    "lda(corpus, num_topics=2, num_iterations=64)"
   ]
  }
 ],
 "metadata": {
  "kernelspec": {
   "display_name": "Python 3",
   "language": "python",
   "name": "python3"
  },
  "language_info": {
   "codemirror_mode": {
    "name": "ipython",
    "version": 3
   },
   "file_extension": ".py",
   "mimetype": "text/x-python",
   "name": "python",
   "nbconvert_exporter": "python",
   "pygments_lexer": "ipython3",
   "version": "3.8.6"
  }
 },
 "nbformat": 4,
 "nbformat_minor": 4
}
