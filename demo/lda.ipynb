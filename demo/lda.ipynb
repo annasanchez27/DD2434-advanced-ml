{
 "cells": [
  {
   "cell_type": "code",
   "execution_count": 1,
   "metadata": {},
   "outputs": [],
   "source": [
    "from lda import lda\n",
    "from lda.data.corpus import Corpus\n",
    "from lda.data.document import Document\n",
    "import matplotlib.pyplot as plt"
   ]
  },
  {
   "cell_type": "code",
   "execution_count": 2,
   "metadata": {},
   "outputs": [
    {
     "data": {
      "text/plain": [
       "Corpus with 5 documents"
      ]
     },
     "execution_count": 2,
     "metadata": {},
     "output_type": "execute_result"
    }
   ],
   "source": [
    "corpus = Corpus(documents=[\n",
    "    Document.from_text('Have a jolly christmas!'),\n",
    "    Document.from_text('Merry christmas, Jens!'),\n",
    "    Document.from_text('Jens Lagergen is the best professor at university.'),\n",
    "    Document.from_text('Universities are important learning centers. Especially because of Jens Lagergen.'),\n",
    "    Document.from_text('What even is a university? Experts disagree.')\n",
    "])\n",
    "corpus"
   ]
  },
  {
   "cell_type": "code",
   "execution_count": 3,
   "metadata": {},
   "outputs": [
    {
     "data": {
      "text/plain": [
       "[Word(original_form='jolly', lda_form='jolly', include=True),\n",
       " Word(original_form='christmas', lda_form='christmas', include=True)]"
      ]
     },
     "execution_count": 3,
     "metadata": {},
     "output_type": "execute_result"
    }
   ],
   "source": [
    "corpus.documents[0].included_words"
   ]
  },
  {
   "cell_type": "code",
   "execution_count": 4,
   "metadata": {},
   "outputs": [
    {
     "data": {
      "text/plain": [
       "[Word(original_form='Merry', lda_form='merry', include=True),\n",
       " Word(original_form='christmas', lda_form='christmas', include=True),\n",
       " Word(original_form='Jens', lda_form='jens', include=True)]"
      ]
     },
     "execution_count": 4,
     "metadata": {},
     "output_type": "execute_result"
    }
   ],
   "source": [
    "corpus.documents[1].included_words"
   ]
  },
  {
   "cell_type": "code",
   "execution_count": 5,
   "metadata": {},
   "outputs": [
    {
     "data": {
      "text/plain": [
       "[Word(original_form='Jens', lda_form='jens', include=True),\n",
       " Word(original_form='Lagergen', lda_form='lagergen', include=True),\n",
       " Word(original_form='best', lda_form='good', include=True),\n",
       " Word(original_form='professor', lda_form='professor', include=True),\n",
       " Word(original_form='university', lda_form='university', include=True)]"
      ]
     },
     "execution_count": 5,
     "metadata": {},
     "output_type": "execute_result"
    }
   ],
   "source": [
    "corpus.documents[2].included_words"
   ]
  },
  {
   "cell_type": "code",
   "execution_count": 6,
   "metadata": {},
   "outputs": [
    {
     "data": {
      "text/plain": [
       "[Word(original_form='Universities', lda_form='university', include=True),\n",
       " Word(original_form='important', lda_form='important', include=True),\n",
       " Word(original_form='learning', lda_form='learning', include=True),\n",
       " Word(original_form='centers', lda_form='center', include=True),\n",
       " Word(original_form='Especially', lda_form='especially', include=True),\n",
       " Word(original_form='Jens', lda_form='jens', include=True),\n",
       " Word(original_form='Lagergen', lda_form='lagergen', include=True)]"
      ]
     },
     "execution_count": 6,
     "metadata": {},
     "output_type": "execute_result"
    }
   ],
   "source": [
    "corpus.documents[3].included_words"
   ]
  },
  {
   "cell_type": "code",
   "execution_count": 7,
   "metadata": {},
   "outputs": [
    {
     "data": {
      "text/plain": [
       "True"
      ]
     },
     "execution_count": 7,
     "metadata": {},
     "output_type": "execute_result"
    }
   ],
   "source": [
    "corpus.documents[2].included_words[-1] == corpus.documents[3].included_words[0]"
   ]
  },
  {
   "cell_type": "code",
   "execution_count": 8,
   "metadata": {},
   "outputs": [
    {
     "data": {
      "text/plain": [
       "Counter({Word(original_form='jolly', lda_form='jolly', include=True): 1,\n",
       "         Word(original_form='christmas', lda_form='christmas', include=True): 2,\n",
       "         Word(original_form='Merry', lda_form='merry', include=True): 1,\n",
       "         Word(original_form='Jens', lda_form='jens', include=True): 3,\n",
       "         Word(original_form='Lagergen', lda_form='lagergen', include=True): 2,\n",
       "         Word(original_form='best', lda_form='good', include=True): 1,\n",
       "         Word(original_form='professor', lda_form='professor', include=True): 1,\n",
       "         Word(original_form='university', lda_form='university', include=True): 3,\n",
       "         Word(original_form='important', lda_form='important', include=True): 1,\n",
       "         Word(original_form='learning', lda_form='learning', include=True): 1,\n",
       "         Word(original_form='centers', lda_form='center', include=True): 1,\n",
       "         Word(original_form='Especially', lda_form='especially', include=True): 1,\n",
       "         Word(original_form='Experts', lda_form='expert', include=True): 1,\n",
       "         Word(original_form='disagree', lda_form='disagree', include=True): 1})"
      ]
     },
     "execution_count": 8,
     "metadata": {},
     "output_type": "execute_result"
    }
   ],
   "source": [
    "corpus.word_count"
   ]
  },
  {
   "cell_type": "code",
   "execution_count": 9,
   "metadata": {},
   "outputs": [
    {
     "data": {
      "application/vnd.jupyter.widget-view+json": {
       "model_id": "add59501c10141fa9260b99662501828",
       "version_major": 2,
       "version_minor": 0
      },
      "text/plain": [
       "HBox(children=(HTML(value=''), FloatProgress(value=0.0, max=64.0), HTML(value='')))"
      ]
     },
     "metadata": {},
     "output_type": "display_data"
    },
    {
     "name": "stderr",
     "output_type": "stream",
     "text": [
      "/home/malyvsen/org/education/kth/ml2/lda/demo/lda/variational/lda.py:95: RuntimeWarning: divide by zero encountered in log\n",
      "  phi[word_idx, topic] * np.log(beta[topic][vocab_word])\n",
      "/home/malyvsen/org/education/kth/ml2/lda/demo/lda/variational/lda.py:95: RuntimeWarning: invalid value encountered in double_scalars\n",
      "  phi[word_idx, topic] * np.log(beta[topic][vocab_word])\n",
      "/home/malyvsen/org/education/kth/ml2/lda/demo/lda/variational/lda.py:103: RuntimeWarning: divide by zero encountered in log\n",
      "  - np.sum(phi * np.log(phi))\n",
      "/home/malyvsen/org/education/kth/ml2/lda/demo/lda/variational/lda.py:103: RuntimeWarning: invalid value encountered in multiply\n",
      "  - np.sum(phi * np.log(phi))\n"
     ]
    },
    {
     "name": "stdout",
     "output_type": "stream",
     "text": [
      "\n"
     ]
    }
   ],
   "source": [
    "params, lower_bound_evol = lda(corpus, num_topics=2, num_iterations=64)"
   ]
  },
  {
   "cell_type": "code",
   "execution_count": 10,
   "metadata": {},
   "outputs": [
    {
     "data": {
      "text/plain": [
       "{'alpha': array([0.01249787, 0.01811392]),\n",
       " 'beta': [{Word(original_form='Lagergen', lda_form='lagergen', include=True): 0.1666610876340846,\n",
       "   Word(original_form='important', lda_form='important', include=True): 0.0833305438170423,\n",
       "   Word(original_form='best', lda_form='good', include=True): 0.0833305438170423,\n",
       "   Word(original_form='Experts', lda_form='expert', include=True): 1.627655422914378e-172,\n",
       "   Word(original_form='jolly', lda_form='jolly', include=True): 0.0,\n",
       "   Word(original_form='Merry', lda_form='merry', include=True): 5.894352652316048e-177,\n",
       "   Word(original_form='Especially', lda_form='especially', include=True): 0.0833305438170423,\n",
       "   Word(original_form='learning', lda_form='learning', include=True): 0.0833305438170423,\n",
       "   Word(original_form='university', lda_form='university', include=True): 0.16667782473183076,\n",
       "   Word(original_form='professor', lda_form='professor', include=True): 0.0833305438170423,\n",
       "   Word(original_form='disagree', lda_form='disagree', include=True): 3.539262388059778e-174,\n",
       "   Word(original_form='christmas', lda_form='christmas', include=True): 3.3223895070041927e-192,\n",
       "   Word(original_form='centers', lda_form='center', include=True): 0.0833305438170423,\n",
       "   Word(original_form='Jens', lda_form='jens', include=True): 0.16667782473183076},\n",
       "  {Word(original_form='Lagergen', lda_form='lagergen', include=True): 0.0,\n",
       "   Word(original_form='important', lda_form='important', include=True): 0.0,\n",
       "   Word(original_form='best', lda_form='good', include=True): 0.0,\n",
       "   Word(original_form='Experts', lda_form='expert', include=True): 0.12500627693694336,\n",
       "   Word(original_form='jolly', lda_form='jolly', include=True): 0.12500627693694336,\n",
       "   Word(original_form='Merry', lda_form='merry', include=True): 0.12500627693694336,\n",
       "   Word(original_form='Especially', lda_form='especially', include=True): 0.0,\n",
       "   Word(original_form='learning', lda_form='learning', include=True): 0.0,\n",
       "   Word(original_form='university', lda_form='university', include=True): 0.12498116918917,\n",
       "   Word(original_form='professor', lda_form='professor', include=True): 0.0,\n",
       "   Word(original_form='disagree', lda_form='disagree', include=True): 0.12500627693694336,\n",
       "   Word(original_form='christmas', lda_form='christmas', include=True): 0.2500125538738867,\n",
       "   Word(original_form='centers', lda_form='center', include=True): 0.0,\n",
       "   Word(original_form='Jens', lda_form='jens', include=True): 0.12498116918917}],\n",
       " 'phis': {Document including 2 words: array([[0.00000000e+000, 1.00000000e+000],\n",
       "         [8.43336193e-222, 1.00000000e+000]]),\n",
       "  Document including 3 words: array([[7.07345996e-176, 1.00000000e+000],\n",
       "         [3.98700087e-191, 1.00000000e+000],\n",
       "         [2.00851896e-004, 9.99799148e-001]]),\n",
       "  Document including 5 words: array([[1.00000000e+00, 2.93006604e-25],\n",
       "         [1.00000000e+00, 0.00000000e+00],\n",
       "         [1.00000000e+00, 0.00000000e+00],\n",
       "         [1.00000000e+00, 0.00000000e+00],\n",
       "         [1.00000000e+00, 2.93006604e-25]]),\n",
       "  Document including 7 words: array([[1.000000e+00, 2.032406e-25],\n",
       "         [1.000000e+00, 0.000000e+00],\n",
       "         [1.000000e+00, 0.000000e+00],\n",
       "         [1.000000e+00, 0.000000e+00],\n",
       "         [1.000000e+00, 0.000000e+00],\n",
       "         [1.000000e+00, 2.032406e-25],\n",
       "         [1.000000e+00, 0.000000e+00]]),\n",
       "  Document including 3 words: array([[2.00851896e-004, 9.99799148e-001],\n",
       "         [1.95325189e-171, 1.00000000e+000],\n",
       "         [4.24725704e-173, 1.00000000e+000]])},\n",
       " 'gammas': {Document including 2 words: array([0.01274851, 2.01846875]),\n",
       "  Document including 3 words: array([0.01294936, 3.0182679 ]),\n",
       "  Document including 5 words: array([5.01274851, 0.01846875]),\n",
       "  Document including 7 words: array([7.01274851, 0.01846875]),\n",
       "  Document including 3 words: array([0.01294936, 3.0182679 ])}}"
      ]
     },
     "execution_count": 10,
     "metadata": {},
     "output_type": "execute_result"
    }
   ],
   "source": [
    "params"
   ]
  },
  {
   "cell_type": "code",
   "execution_count": 11,
   "metadata": {},
   "outputs": [
    {
     "data": {
      "text/plain": [
       "[<matplotlib.lines.Line2D at 0x7ff683ae6b20>]"
      ]
     },
     "execution_count": 11,
     "metadata": {},
     "output_type": "execute_result"
    },
    {
     "data": {
      "image/png": "[encoded data removed]",
      "text/plain": [
       "<Figure size 432x288 with 1 Axes>"
      ]
     },
     "metadata": {
      "needs_background": "light"
     },
     "output_type": "display_data"
    }
   ],
   "source": [
    "plt.figure()\n",
    "plt.plot(lower_bound_evol)"
   ]
  },
  {
   "cell_type": "code",
   "execution_count": 12,
   "metadata": {},
   "outputs": [
    {
     "data": {
      "text/plain": [
       "array([-52.08085525, -50.70434757, -49.88534301, -49.32601086,\n",
       "       -48.83897491, -48.33045447, -47.92055739, -47.67613249,\n",
       "       -47.51229154, -47.37017157, -47.2331454 , -47.10236761,\n",
       "       -46.97683881, -46.83995056, -46.65429543, -46.38246386,\n",
       "       -46.0718279 , -45.81656212, -45.61974861, -45.45904037,\n",
       "       -45.32471137, -45.21194964, -45.11709665, -45.03702833,\n",
       "       -44.96909965, -44.91112149, -44.86131212, -44.81823471,\n",
       "       -44.78073458, -44.74788333, -44.71893215, -44.6932743 ,\n",
       "       -44.67041532, -44.64994991, -44.63154369, -44.61491912,\n",
       "       -44.5998444 , -44.58612478, -44.57359569, -44.5621173 ,\n",
       "       -44.5515702 , -44.54185186, -44.53287385, -44.52455956,\n",
       "                nan,          nan,          nan,          nan,\n",
       "                nan,          nan,          nan,          nan,\n",
       "                nan,          nan,          nan,          nan,\n",
       "                nan,          nan,          nan,          nan,\n",
       "                nan,          nan,          nan,          nan])"
      ]
     },
     "execution_count": 12,
     "metadata": {},
     "output_type": "execute_result"
    }
   ],
   "source": [
    "lower_bound_evol"
   ]
  }
 ],
 "metadata": {
  "kernelspec": {
   "display_name": "Python 3",
   "language": "python",
   "name": "python3"
  },
  "language_info": {
   "codemirror_mode": {
    "name": "ipython",
    "version": 3
   },
   "file_extension": ".py",
   "mimetype": "text/x-python",
   "name": "python",
   "nbconvert_exporter": "python",
   "pygments_lexer": "ipython3",
   "version": "3.8.6"
  },
  "widgets": {
   "application/vnd.jupyter.widget-state+json": {
    "state": {
     "13fb3071fa7b4bb79b463f67b044b0bc": {
      "model_module": "@jupyter-widgets/base",
      "model_module_version": "1.2.0",
      "model_name": "LayoutModel",
      "state": {}
     },
     "1487452fb7aa411bac59acad3f63be18": {
      "model_module": "@jupyter-widgets/controls",
      "model_module_version": "1.5.0",
      "model_name": "HTMLModel",
      "state": {
       "layout": "IPY_MODEL_7c56d816f00347e4b90f904ff4e9bc3b",
       "style": "IPY_MODEL_fc91f95fbefd4b008a4061886217d29f",
       "value": "  0%"
      }
     },
     "14b381712025400bb2e6415a0e93b419": {
      "model_module": "@jupyter-widgets/controls",
      "model_module_version": "1.5.0",
      "model_name": "FloatProgressModel",
      "state": {
       "bar_style": "danger",
       "layout": "IPY_MODEL_efc9417be07e4845951c73cca07367d6",
       "max": 64,
       "style": "IPY_MODEL_857d2d78c0064503b89b3051b63cf2aa"
      }
     },
     "1a8f3e17c6b9447990d90d2b3a42b4c2": {
      "model_module": "@jupyter-widgets/controls",
      "model_module_version": "1.5.0",
      "model_name": "FloatProgressModel",
      "state": {
       "bar_style": "success",
       "layout": "IPY_MODEL_1c9ef5ff103340549a310aec33b796fb",
       "max": 64,
       "style": "IPY_MODEL_c97fd488b032414caa715f873d8afe46",
       "value": 64
      }
     },
     "1c9ef5ff103340549a310aec33b796fb": {
      "model_module": "@jupyter-widgets/base",
      "model_module_version": "1.2.0",
      "model_name": "LayoutModel",
      "state": {}
     },
     "1fc506d3c3cc435eb4319ef229c092b1": {
      "model_module": "@jupyter-widgets/base",
      "model_module_version": "1.2.0",
      "model_name": "LayoutModel",
      "state": {}
     },
     "26d730736557431e9f5ddaa6ae2832e5": {
      "model_module": "@jupyter-widgets/controls",
      "model_module_version": "1.5.0",
      "model_name": "DescriptionStyleModel",
      "state": {
       "description_width": ""
      }
     },
     "343281f1f61546be8d076df5fefb0f04": {
      "model_module": "@jupyter-widgets/controls",
      "model_module_version": "1.5.0",
      "model_name": "DescriptionStyleModel",
      "state": {
       "description_width": ""
      }
     },
     "4ae3b8b243164abfbcdfd262b03586f5": {
      "model_module": "@jupyter-widgets/base",
      "model_module_version": "1.2.0",
      "model_name": "LayoutModel",
      "state": {}
     },
     "5237e8d6e7964f7087231a73b5d7b536": {
      "model_module": "@jupyter-widgets/controls",
      "model_module_version": "1.5.0",
      "model_name": "HTMLModel",
      "state": {
       "layout": "IPY_MODEL_1fc506d3c3cc435eb4319ef229c092b1",
       "style": "IPY_MODEL_26d730736557431e9f5ddaa6ae2832e5",
       "value": "100%"
      }
     },
     "5cb6024d7c88460480aa626f9b4ec0b9": {
      "model_module": "@jupyter-widgets/controls",
      "model_module_version": "1.5.0",
      "model_name": "HBoxModel",
      "state": {
       "children": [
        "IPY_MODEL_1487452fb7aa411bac59acad3f63be18",
        "IPY_MODEL_14b381712025400bb2e6415a0e93b419",
        "IPY_MODEL_d4763823784946718362642bf0df6934"
       ],
       "layout": "IPY_MODEL_13fb3071fa7b4bb79b463f67b044b0bc"
      }
     },
     "688f38611d904ed58ae42a66e4009820": {
      "model_module": "@jupyter-widgets/controls",
      "model_module_version": "1.5.0",
      "model_name": "DescriptionStyleModel",
      "state": {
       "description_width": ""
      }
     },
     "6cdd0c581a774dc1bfde0349e9ea8a5e": {
      "model_module": "@jupyter-widgets/controls",
      "model_module_version": "1.5.0",
      "model_name": "HTMLModel",
      "state": {
       "layout": "IPY_MODEL_ca8178652a66429dbdc472e83655c117",
       "style": "IPY_MODEL_dd2f545401794958b615c962dbe584c2",
       "value": " 64/64 [00:12&lt;00:00,  5.03it/s]"
      }
     },
     "71558d51863049cdac1dda08e1966164": {
      "model_module": "@jupyter-widgets/base",
      "model_module_version": "1.2.0",
      "model_name": "LayoutModel",
      "state": {}
     },
     "76eeb7031a504e179f8a6297600c4636": {
      "model_module": "@jupyter-widgets/controls",
      "model_module_version": "1.5.0",
      "model_name": "HTMLModel",
      "state": {
       "layout": "IPY_MODEL_786798150b3a4d31b52bab94209912cd",
       "style": "IPY_MODEL_962be893c04741e989ac5babb97c2d3f",
       "value": " 64/64 [00:13&lt;00:00,  4.69it/s]"
      }
     },
     "786798150b3a4d31b52bab94209912cd": {
      "model_module": "@jupyter-widgets/base",
      "model_module_version": "1.2.0",
      "model_name": "LayoutModel",
      "state": {}
     },
     "7c03a2312adc416399ceae12d7e26053": {
      "model_module": "@jupyter-widgets/controls",
      "model_module_version": "1.5.0",
      "model_name": "HBoxModel",
      "state": {
       "children": [
        "IPY_MODEL_8357c3b68dac43389231dbdd8a232739",
        "IPY_MODEL_1a8f3e17c6b9447990d90d2b3a42b4c2",
        "IPY_MODEL_6cdd0c581a774dc1bfde0349e9ea8a5e"
       ],
       "layout": "IPY_MODEL_e6194cfc66c54cf2ae432fead072b0da"
      }
     },
     "7c56d816f00347e4b90f904ff4e9bc3b": {
      "model_module": "@jupyter-widgets/base",
      "model_module_version": "1.2.0",
      "model_name": "LayoutModel",
      "state": {}
     },
     "8357c3b68dac43389231dbdd8a232739": {
      "model_module": "@jupyter-widgets/controls",
      "model_module_version": "1.5.0",
      "model_name": "HTMLModel",
      "state": {
       "layout": "IPY_MODEL_ad812994f76a4fe7af82d0b1e3a32a29",
       "style": "IPY_MODEL_343281f1f61546be8d076df5fefb0f04",
       "value": "100%"
      }
     },
     "85360902288b41d2bc38fc7c747ca8da": {
      "model_module": "@jupyter-widgets/controls",
      "model_module_version": "1.5.0",
      "model_name": "ProgressStyleModel",
      "state": {
       "description_width": ""
      }
     },
     "857d2d78c0064503b89b3051b63cf2aa": {
      "model_module": "@jupyter-widgets/controls",
      "model_module_version": "1.5.0",
      "model_name": "ProgressStyleModel",
      "state": {
       "description_width": ""
      }
     },
     "858cb8abd74c48289fea4dc32ad1a2f7": {
      "model_module": "@jupyter-widgets/base",
      "model_module_version": "1.2.0",
      "model_name": "LayoutModel",
      "state": {}
     },
     "962be893c04741e989ac5babb97c2d3f": {
      "model_module": "@jupyter-widgets/controls",
      "model_module_version": "1.5.0",
      "model_name": "DescriptionStyleModel",
      "state": {
       "description_width": ""
      }
     },
     "97d8dcc2452343ebb0d5a6bc34fd4402": {
      "model_module": "@jupyter-widgets/controls",
      "model_module_version": "1.5.0",
      "model_name": "FloatProgressModel",
      "state": {
       "bar_style": "success",
       "layout": "IPY_MODEL_71558d51863049cdac1dda08e1966164",
       "max": 64,
       "style": "IPY_MODEL_85360902288b41d2bc38fc7c747ca8da",
       "value": 64
      }
     },
     "ad812994f76a4fe7af82d0b1e3a32a29": {
      "model_module": "@jupyter-widgets/base",
      "model_module_version": "1.2.0",
      "model_name": "LayoutModel",
      "state": {}
     },
     "add59501c10141fa9260b99662501828": {
      "model_module": "@jupyter-widgets/controls",
      "model_module_version": "1.5.0",
      "model_name": "HBoxModel",
      "state": {
       "children": [
        "IPY_MODEL_5237e8d6e7964f7087231a73b5d7b536",
        "IPY_MODEL_97d8dcc2452343ebb0d5a6bc34fd4402",
        "IPY_MODEL_76eeb7031a504e179f8a6297600c4636"
       ],
       "layout": "IPY_MODEL_4ae3b8b243164abfbcdfd262b03586f5"
      }
     },
     "c97fd488b032414caa715f873d8afe46": {
      "model_module": "@jupyter-widgets/controls",
      "model_module_version": "1.5.0",
      "model_name": "ProgressStyleModel",
      "state": {
       "description_width": ""
      }
     },
     "ca8178652a66429dbdc472e83655c117": {
      "model_module": "@jupyter-widgets/base",
      "model_module_version": "1.2.0",
      "model_name": "LayoutModel",
      "state": {}
     },
     "d4763823784946718362642bf0df6934": {
      "model_module": "@jupyter-widgets/controls",
      "model_module_version": "1.5.0",
      "model_name": "HTMLModel",
      "state": {
       "layout": "IPY_MODEL_858cb8abd74c48289fea4dc32ad1a2f7",
       "style": "IPY_MODEL_688f38611d904ed58ae42a66e4009820",
       "value": " 0/64 [05:07&lt;?, ?it/s]"
      }
     },
     "dd2f545401794958b615c962dbe584c2": {
      "model_module": "@jupyter-widgets/controls",
      "model_module_version": "1.5.0",
      "model_name": "DescriptionStyleModel",
      "state": {
       "description_width": ""
      }
     },
     "e6194cfc66c54cf2ae432fead072b0da": {
      "model_module": "@jupyter-widgets/base",
      "model_module_version": "1.2.0",
      "model_name": "LayoutModel",
      "state": {}
     },
     "efc9417be07e4845951c73cca07367d6": {
      "model_module": "@jupyter-widgets/base",
      "model_module_version": "1.2.0",
      "model_name": "LayoutModel",
      "state": {}
     },
     "fc91f95fbefd4b008a4061886217d29f": {
      "model_module": "@jupyter-widgets/controls",
      "model_module_version": "1.5.0",
      "model_name": "DescriptionStyleModel",
      "state": {
       "description_width": ""
      }
     }
    },
    "version_major": 2,
    "version_minor": 0
   }
  }
 },
 "nbformat": 4,
 "nbformat_minor": 4
}
