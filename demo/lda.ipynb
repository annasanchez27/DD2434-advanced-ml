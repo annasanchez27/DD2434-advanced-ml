{
 "cells": [
  {
   "cell_type": "code",
   "execution_count": 1,
   "metadata": {},
   "outputs": [],
   "source": [
    "from lda import lda\n",
    "from lda.data.corpus import Corpus\n",
    "from lda.data.document import Document\n",
    "import matplotlib.pyplot as plt"
   ]
  },
  {
   "cell_type": "code",
   "execution_count": 2,
   "metadata": {},
   "outputs": [
    {
     "data": {
      "text/plain": [
       "Corpus with 5 documents"
      ]
     },
     "execution_count": 2,
     "metadata": {},
     "output_type": "execute_result"
    }
   ],
   "source": [
    "corpus = Corpus(documents=[\n",
    "    Document.from_text('Have a jolly christmas!'),\n",
    "    Document.from_text('Merry christmas!'),\n",
    "    Document.from_text('Jens Lagergen is the best professor at university.'),\n",
    "    Document.from_text('Universities are important learning centers. Especially because of Jens Lagergen.'),\n",
    "    Document.from_text('What even is a university? Experts disagree.')\n",
    "])\n",
    "corpus"
   ]
  },
  {
   "cell_type": "code",
   "execution_count": 3,
   "metadata": {},
   "outputs": [
    {
     "data": {
      "text/plain": [
       "[Word(original_form='jolly', lda_form='jolly', include=True),\n",
       " Word(original_form='christmas', lda_form='christmas', include=True)]"
      ]
     },
     "execution_count": 3,
     "metadata": {},
     "output_type": "execute_result"
    }
   ],
   "source": [
    "corpus.documents[0].included_words"
   ]
  },
  {
   "cell_type": "code",
   "execution_count": 4,
   "metadata": {},
   "outputs": [
    {
     "data": {
      "text/plain": [
       "[Word(original_form='Merry', lda_form='merry', include=True),\n",
       " Word(original_form='christmas', lda_form='christmas', include=True)]"
      ]
     },
     "execution_count": 4,
     "metadata": {},
     "output_type": "execute_result"
    }
   ],
   "source": [
    "corpus.documents[1].included_words"
   ]
  },
  {
   "cell_type": "code",
   "execution_count": 5,
   "metadata": {},
   "outputs": [
    {
     "data": {
      "text/plain": [
       "[Word(original_form='Jens', lda_form='jens', include=True),\n",
       " Word(original_form='Lagergen', lda_form='lagergen', include=True),\n",
       " Word(original_form='best', lda_form='good', include=True),\n",
       " Word(original_form='professor', lda_form='professor', include=True),\n",
       " Word(original_form='university', lda_form='university', include=True)]"
      ]
     },
     "execution_count": 5,
     "metadata": {},
     "output_type": "execute_result"
    }
   ],
   "source": [
    "corpus.documents[2].included_words"
   ]
  },
  {
   "cell_type": "code",
   "execution_count": 6,
   "metadata": {},
   "outputs": [
    {
     "data": {
      "text/plain": [
       "[Word(original_form='Universities', lda_form='university', include=True),\n",
       " Word(original_form='important', lda_form='important', include=True),\n",
       " Word(original_form='learning', lda_form='learning', include=True),\n",
       " Word(original_form='centers', lda_form='center', include=True),\n",
       " Word(original_form='Especially', lda_form='especially', include=True),\n",
       " Word(original_form='Jens', lda_form='jens', include=True),\n",
       " Word(original_form='Lagergen', lda_form='lagergen', include=True)]"
      ]
     },
     "execution_count": 6,
     "metadata": {},
     "output_type": "execute_result"
    }
   ],
   "source": [
    "corpus.documents[3].included_words"
   ]
  },
  {
   "cell_type": "code",
   "execution_count": 7,
   "metadata": {},
   "outputs": [
    {
     "data": {
      "text/plain": [
       "True"
      ]
     },
     "execution_count": 7,
     "metadata": {},
     "output_type": "execute_result"
    }
   ],
   "source": [
    "corpus.documents[2].included_words[-1] == corpus.documents[3].included_words[0]"
   ]
  },
  {
   "cell_type": "code",
   "execution_count": 8,
   "metadata": {},
   "outputs": [
    {
     "data": {
      "text/plain": [
       "Counter({Word(original_form='jolly', lda_form='jolly', include=True): 1,\n",
       "         Word(original_form='christmas', lda_form='christmas', include=True): 2,\n",
       "         Word(original_form='Merry', lda_form='merry', include=True): 1,\n",
       "         Word(original_form='Jens', lda_form='jens', include=True): 2,\n",
       "         Word(original_form='Lagergen', lda_form='lagergen', include=True): 2,\n",
       "         Word(original_form='best', lda_form='good', include=True): 1,\n",
       "         Word(original_form='professor', lda_form='professor', include=True): 1,\n",
       "         Word(original_form='university', lda_form='university', include=True): 3,\n",
       "         Word(original_form='important', lda_form='important', include=True): 1,\n",
       "         Word(original_form='learning', lda_form='learning', include=True): 1,\n",
       "         Word(original_form='centers', lda_form='center', include=True): 1,\n",
       "         Word(original_form='Especially', lda_form='especially', include=True): 1,\n",
       "         Word(original_form='Experts', lda_form='expert', include=True): 1,\n",
       "         Word(original_form='disagree', lda_form='disagree', include=True): 1})"
      ]
     },
     "execution_count": 8,
     "metadata": {},
     "output_type": "execute_result"
    }
   ],
   "source": [
    "corpus.word_count"
   ]
  },
  {
   "cell_type": "code",
   "execution_count": 9,
   "metadata": {},
   "outputs": [
    {
     "data": {
      "application/vnd.jupyter.widget-view+json": {
       "model_id": "2b4c2da6e7a642778c844217220fbccb",
       "version_major": 2,
       "version_minor": 0
      },
      "text/plain": [
       "HBox(children=(HTML(value=''), FloatProgress(value=0.0, max=64.0), HTML(value='')))"
      ]
     },
     "metadata": {},
     "output_type": "display_data"
    },
    {
     "name": "stderr",
     "output_type": "stream",
     "text": [
      "/home/aleix/Desktop/GroupProject/projectLDA/demo/lda/variational/lda.py:91: RuntimeWarning: divide by zero encountered in log\n",
      "  phi[word_idx, topic] * np.log(beta[topic][vocab_word])\n",
      "/home/aleix/Desktop/GroupProject/projectLDA/demo/lda/variational/lda.py:91: RuntimeWarning: invalid value encountered in double_scalars\n",
      "  phi[word_idx, topic] * np.log(beta[topic][vocab_word])\n",
      "/home/aleix/Desktop/GroupProject/projectLDA/demo/lda/variational/lda.py:99: RuntimeWarning: divide by zero encountered in log\n",
      "  - np.sum(phi * np.log(phi))\n",
      "/home/aleix/Desktop/GroupProject/projectLDA/demo/lda/variational/lda.py:99: RuntimeWarning: invalid value encountered in multiply\n",
      "  - np.sum(phi * np.log(phi))\n"
     ]
    },
    {
     "name": "stdout",
     "output_type": "stream",
     "text": [
      "\n"
     ]
    }
   ],
   "source": [
    "params, lower_bound_evol = lda(corpus, num_topics=2, num_iterations=64)"
   ]
  },
  {
   "cell_type": "code",
   "execution_count": 11,
   "metadata": {},
   "outputs": [
    {
     "data": {
      "text/plain": [
       "[<matplotlib.lines.Line2D at 0x7f94f47c1df0>]"
      ]
     },
     "execution_count": 11,
     "metadata": {},
     "output_type": "execute_result"
    },
    {
     "data": {
      "image/png": "[encoded data removed]",
      "text/plain": [
       "<Figure size 432x288 with 1 Axes>"
      ]
     },
     "metadata": {
      "needs_background": "light"
     },
     "output_type": "display_data"
    }
   ],
   "source": [
    "plt.figure()\n",
    "plt.plot(lower_bound_evol)"
   ]
  },
  {
   "cell_type": "code",
   "execution_count": 12,
   "metadata": {},
   "outputs": [
    {
     "name": "stdout",
     "output_type": "stream",
     "text": [
      "[-50.607276866379486, -47.30636719974211, -46.15353990158748, -45.15080449554613, -44.02421941067354, -43.47062019453071, -43.11111759139372, -42.82143428177508, -42.58726695086736, -42.39906319986464, -42.24793179202563, -42.12612444898287, -42.02721610336376, -41.946109320904505, -41.87887595573058, -41.822530747356694, -41.774811962157536, -41.733999759369595, -41.69877656751277, -41.668123483399796, -41.64124452423856, -41.61751142741745, -41.59642330084601, -41.577576935131624, -41.56064477731552, -41.545358438180834, -41.53149622554419, -41.51887363156593, -41.507336007053475, -41.496752869683355, -41.487013443971875, -41.478023138001184, -41.469700738627395, -41.461976162268336, nan, nan, nan, nan, nan, nan, nan, nan, nan, nan, nan, nan, nan, nan, nan, nan, nan, nan, nan, nan, nan, nan, nan, nan, nan, nan, nan, nan, nan, nan]\n"
     ]
    }
   ],
   "source": [
    "print(lower_bound_evol)"
   ]
  },
  {
   "cell_type": "code",
   "execution_count": null,
   "metadata": {},
   "outputs": [],
   "source": []
  }
 ],
 "metadata": {
  "kernelspec": {
   "display_name": "Python 3",
   "language": "python",
   "name": "python3"
  },
  "language_info": {
   "codemirror_mode": {
    "name": "ipython",
    "version": 3
   },
   "file_extension": ".py",
   "mimetype": "text/x-python",
   "name": "python",
   "nbconvert_exporter": "python",
   "pygments_lexer": "ipython3",
   "version": "3.8.5"
  }
 },
 "nbformat": 4,
 "nbformat_minor": 4
}
