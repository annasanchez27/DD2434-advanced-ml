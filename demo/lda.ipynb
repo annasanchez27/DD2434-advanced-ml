{
 "cells": [
  {
   "cell_type": "code",
   "execution_count": 1,
   "metadata": {},
   "outputs": [],
   "source": [
    "from lda import lda\n",
    "from lda.data.corpus import Corpus\n",
    "from lda.data.document import Document\n",
    "from lda.utils import color_by_phis\n",
    "import matplotlib.pyplot as plt"
   ]
  },
  {
   "cell_type": "code",
   "execution_count": 2,
   "metadata": {},
   "outputs": [
    {
     "data": {
      "text/plain": [
       "Corpus with 6 documents"
      ]
     },
     "execution_count": 2,
     "metadata": {},
     "output_type": "execute_result"
    }
   ],
   "source": [
    "corpus = Corpus(documents=[\n",
    "    Document.from_text('Have a jolly christmas at university!'),\n",
    "    Document.from_text('Merry christmas, Jens Lagergen!'),\n",
    "    Document.from_text('Christmas is a very merry time.'),\n",
    "    Document.from_text('Jens Lagergen is the best professor at university.'),\n",
    "    Document.from_text('Universities are important learning centers. Especially because of Jens Lagergen.'),\n",
    "    Document.from_text('What even is a university? Experts disagree.')\n",
    "])\n",
    "corpus"
   ]
  },
  {
   "cell_type": "code",
   "execution_count": 3,
   "metadata": {},
   "outputs": [
    {
     "data": {
      "text/plain": [
       "[Word(original_form='jolly', lda_form='jolly', include=True),\n",
       " Word(original_form='christmas', lda_form='christmas', include=True),\n",
       " Word(original_form='university', lda_form='university', include=True)]"
      ]
     },
     "execution_count": 3,
     "metadata": {},
     "output_type": "execute_result"
    }
   ],
   "source": [
    "corpus.documents[0].included_words"
   ]
  },
  {
   "cell_type": "code",
   "execution_count": 4,
   "metadata": {},
   "outputs": [
    {
     "data": {
      "text/plain": [
       "[Word(original_form='Merry', lda_form='merry', include=True),\n",
       " Word(original_form='christmas', lda_form='christmas', include=True),\n",
       " Word(original_form='Jens', lda_form='jens', include=True),\n",
       " Word(original_form='Lagergen', lda_form='lagergen', include=True)]"
      ]
     },
     "execution_count": 4,
     "metadata": {},
     "output_type": "execute_result"
    }
   ],
   "source": [
    "corpus.documents[1].included_words"
   ]
  },
  {
   "cell_type": "code",
   "execution_count": 5,
   "metadata": {},
   "outputs": [
    {
     "data": {
      "text/plain": [
       "[Word(original_form='Christmas', lda_form='christmas', include=True),\n",
       " Word(original_form='merry', lda_form='merry', include=True),\n",
       " Word(original_form='time', lda_form='time', include=True)]"
      ]
     },
     "execution_count": 5,
     "metadata": {},
     "output_type": "execute_result"
    }
   ],
   "source": [
    "corpus.documents[2].included_words"
   ]
  },
  {
   "cell_type": "code",
   "execution_count": 6,
   "metadata": {},
   "outputs": [
    {
     "data": {
      "text/plain": [
       "[Word(original_form='Jens', lda_form='jens', include=True),\n",
       " Word(original_form='Lagergen', lda_form='lagergen', include=True),\n",
       " Word(original_form='best', lda_form='good', include=True),\n",
       " Word(original_form='professor', lda_form='professor', include=True),\n",
       " Word(original_form='university', lda_form='university', include=True)]"
      ]
     },
     "execution_count": 6,
     "metadata": {},
     "output_type": "execute_result"
    }
   ],
   "source": [
    "corpus.documents[3].included_words"
   ]
  },
  {
   "cell_type": "code",
   "execution_count": 7,
   "metadata": {},
   "outputs": [
    {
     "data": {
      "text/plain": [
       "False"
      ]
     },
     "execution_count": 7,
     "metadata": {},
     "output_type": "execute_result"
    }
   ],
   "source": [
    "corpus.documents[2].included_words[-1] == corpus.documents[3].included_words[0]"
   ]
  },
  {
   "cell_type": "code",
   "execution_count": 8,
   "metadata": {},
   "outputs": [
    {
     "data": {
      "text/plain": [
       "Counter({Word(original_form='jolly', lda_form='jolly', include=True): 1,\n",
       "         Word(original_form='christmas', lda_form='christmas', include=True): 3,\n",
       "         Word(original_form='university', lda_form='university', include=True): 4,\n",
       "         Word(original_form='Merry', lda_form='merry', include=True): 2,\n",
       "         Word(original_form='Jens', lda_form='jens', include=True): 3,\n",
       "         Word(original_form='Lagergen', lda_form='lagergen', include=True): 3,\n",
       "         Word(original_form='time', lda_form='time', include=True): 1,\n",
       "         Word(original_form='best', lda_form='good', include=True): 1,\n",
       "         Word(original_form='professor', lda_form='professor', include=True): 1,\n",
       "         Word(original_form='important', lda_form='important', include=True): 1,\n",
       "         Word(original_form='learning', lda_form='learning', include=True): 1,\n",
       "         Word(original_form='centers', lda_form='center', include=True): 1,\n",
       "         Word(original_form='Especially', lda_form='especially', include=True): 1,\n",
       "         Word(original_form='Experts', lda_form='expert', include=True): 1,\n",
       "         Word(original_form='disagree', lda_form='disagree', include=True): 1})"
      ]
     },
     "execution_count": 8,
     "metadata": {},
     "output_type": "execute_result"
    }
   ],
   "source": [
    "corpus.word_count"
   ]
  },
  {
   "cell_type": "code",
   "execution_count": 9,
   "metadata": {},
   "outputs": [
    {
     "data": {
      "application/vnd.jupyter.widget-view+json": {
       "model_id": "b4ff0b9f56f249f489149a35fcfed9c2",
       "version_major": 2,
       "version_minor": 0
      },
      "text/plain": [
       "  0%|          | 0/64 [00:00<?, ?it/s]"
      ]
     },
     "metadata": {},
     "output_type": "display_data"
    }
   ],
   "source": [
    "params, lower_bound_evol = lda(corpus, num_topics=2, num_iterations=64)"
   ]
  },
  {
   "cell_type": "code",
   "execution_count": 10,
   "metadata": {},
   "outputs": [
    {
     "data": {
      "text/plain": [
       "{'alpha': array([0.13460757, 0.1017766 ]),\n",
       " 'beta': [{Word(original_form='christmas', lda_form='christmas', include=True): 0.27272300524086013,\n",
       "   Word(original_form='Merry', lda_form='merry', include=True): 0.18181533682724008,\n",
       "   Word(original_form='jolly', lda_form='jolly', include=True): 0.09090766841362004,\n",
       "   Word(original_form='disagree', lda_form='disagree', include=True): 0.09090766841362004,\n",
       "   Word(original_form='time', lda_form='time', include=True): 0.09090766841362004,\n",
       "   Word(original_form='university', lda_form='university', include=True): 0.18183098427741962,\n",
       "   Word(original_form='Experts', lda_form='expert', include=True): 0.09090766841362004,\n",
       "   Word(original_form='best', lda_form='good', include=True): 3.677066852255389e-136,\n",
       "   Word(original_form='Especially', lda_form='especially', include=True): 5.457491027853747e-147,\n",
       "   Word(original_form='centers', lda_form='center', include=True): 1.5537228214242098e-146,\n",
       "   Word(original_form='important', lda_form='important', include=True): 1.123915264307348e-146,\n",
       "   Word(original_form='Jens', lda_form='jens', include=True): 1.9151765255696158e-18,\n",
       "   Word(original_form='learning', lda_form='learning', include=True): 8.568752285078996e-147,\n",
       "   Word(original_form='professor', lda_form='professor', include=True): 9.39572722058221e-136,\n",
       "   Word(original_form='Lagergen', lda_form='lagergen', include=True): 6.981544485583234e-17},\n",
       "  {Word(original_form='christmas', lda_form='christmas', include=True): 1.4998300042735968e-32,\n",
       "   Word(original_form='Merry', lda_form='merry', include=True): 7.713066436477673e-25,\n",
       "   Word(original_form='jolly', lda_form='jolly', include=True): 5.6639718868535257e-179,\n",
       "   Word(original_form='disagree', lda_form='disagree', include=True): 5.141610496112132e-179,\n",
       "   Word(original_form='time', lda_form='time', include=True): 6.738770275509862e-171,\n",
       "   Word(original_form='university', lda_form='university', include=True): 0.14284660448398862,\n",
       "   Word(original_form='Experts', lda_form='expert', include=True): 3.2928671180608485e-180,\n",
       "   Word(original_form='best', lda_form='good', include=True): 0.0714294496263343,\n",
       "   Word(original_form='Especially', lda_form='especially', include=True): 0.0714294496263343,\n",
       "   Word(original_form='centers', lda_form='center', include=True): 0.0714294496263343,\n",
       "   Word(original_form='important', lda_form='important', include=True): 0.0714294496263343,\n",
       "   Word(original_form='Jens', lda_form='jens', include=True): 0.2142883488790029,\n",
       "   Word(original_form='learning', lda_form='learning', include=True): 0.0714294496263343,\n",
       "   Word(original_form='professor', lda_form='professor', include=True): 0.0714294496263343,\n",
       "   Word(original_form='Lagergen', lda_form='lagergen', include=True): 0.2142883488790028}],\n",
       " 'phis': {Document including 3 words: array([[1.00000000e+000, 8.34948845e-183],\n",
       "         [1.00000000e+000, 7.36986550e-037],\n",
       "         [9.99989472e-001, 1.05277790e-005]]),\n",
       "  Document including 4 words: array([[1.00000000e+00, 4.15944812e-24],\n",
       "         [1.00000000e+00, 5.39211838e-32],\n",
       "         [9.11530273e-18, 1.00000000e+00],\n",
       "         [3.32287341e-16, 1.00000000e+00]]),\n",
       "  Document including 3 words: array([[1.00000000e+000, 7.36196913e-037],\n",
       "         [1.00000000e+000, 5.67897930e-029],\n",
       "         [1.00000000e+000, 9.92324835e-175]]),\n",
       "  Document including 5 words: array([[7.95965208e-022, 1.00000000e+000],\n",
       "         [2.90159494e-020, 1.00000000e+000],\n",
       "         [4.58466973e-139, 1.00000000e+000],\n",
       "         [1.17148553e-138, 1.00000000e+000],\n",
       "         [1.13352883e-004, 9.99886647e-001]]),\n",
       "  Document including 7 words: array([[7.89395732e-005, 9.99921060e-001],\n",
       "         [9.75859638e-150, 1.00000000e+000],\n",
       "         [7.43997325e-150, 1.00000000e+000],\n",
       "         [1.34904778e-149, 1.00000000e+000],\n",
       "         [4.73856472e-150, 1.00000000e+000],\n",
       "         [5.54295486e-022, 1.00000000e+000],\n",
       "         [2.02061718e-020, 1.00000000e+000]]),\n",
       "  Document including 3 words: array([[9.99989472e-001, 1.05277790e-005],\n",
       "         [1.00000000e+000, 4.85414768e-184],\n",
       "         [1.00000000e+000, 7.57945454e-183]])},\n",
       " 'gammas': {Document including 3 words: array([3.13459666, 0.1017875 ]),\n",
       "  Document including 4 words: array([2.13460757, 2.1017766 ]),\n",
       "  Document including 3 words: array([3.13460757, 0.1017766 ]),\n",
       "  Document including 5 words: array([0.13472101, 5.10166316]),\n",
       "  Document including 7 words: array([0.13468652, 7.10169765]),\n",
       "  Document including 3 words: array([3.13459666, 0.1017875 ])}}"
      ]
     },
     "execution_count": 10,
     "metadata": {},
     "output_type": "execute_result"
    }
   ],
   "source": [
    "params"
   ]
  },
  {
   "cell_type": "code",
   "execution_count": 11,
   "metadata": {},
   "outputs": [
    {
     "data": {
      "text/plain": [
       "[<matplotlib.lines.Line2D at 0x7fee524ae970>]"
      ]
     },
     "execution_count": 11,
     "metadata": {},
     "output_type": "execute_result"
    },
    {
     "data": {
      "image/png": "[encoded data removed]",
      "text/plain": [
       "<Figure size 432x288 with 1 Axes>"
      ]
     },
     "metadata": {
      "needs_background": "light"
     },
     "output_type": "display_data"
    }
   ],
   "source": [
    "plt.figure()\n",
    "plt.plot(lower_bound_evol)"
   ]
  },
  {
   "cell_type": "code",
   "execution_count": 12,
   "metadata": {},
   "outputs": [
    {
     "data": {
      "text/plain": [
       "array([-65.90071372, -65.09464364, -64.55137975, -64.1623435 ,\n",
       "       -63.877515  , -63.67345161, -63.53278902, -63.43780237,\n",
       "       -63.37130566, -63.31843729, -63.26667804, -63.20395386,\n",
       "       -63.11556524, -62.98222206, -62.78798457, -62.54299975,\n",
       "       -62.28034594, -62.01548418, -61.74378916, -61.46252517,\n",
       "       -61.16912569, -60.84446108, -60.44328538, -59.94235667,\n",
       "       -59.47558862, -59.16871957, -58.96444316, -58.81613034,\n",
       "       -58.70702403, -58.62735389, -58.56961876, -58.52795699,\n",
       "       -58.49792316, -58.47624196, -58.46054933, -58.44915298,\n",
       "       -58.44084715, -58.43477257, -58.43031464, -58.42703299,\n",
       "       -58.42461045, -58.42281762, -58.42148784, -58.42049956,\n",
       "       -58.41976401, -58.41921551, -58.41880596, -58.4184998 ,\n",
       "       -58.4182707 , -58.41809911, -58.41797049, -58.41787401,\n",
       "       -58.41780161, -58.41774724, -58.4177064 , -58.4176757 ,\n",
       "       -58.41765263, -58.41763527, -58.41762222, -58.4176124 ,\n",
       "       -58.417605  , -58.41759944, -58.41759525, -58.4175921 ])"
      ]
     },
     "execution_count": 12,
     "metadata": {},
     "output_type": "execute_result"
    }
   ],
   "source": [
    "lower_bound_evol"
   ]
  },
  {
   "cell_type": "code",
   "execution_count": 13,
   "metadata": {},
   "outputs": [
    {
     "name": "stdout",
     "output_type": "stream",
     "text": [
      "Have\u001b[0m a\u001b[0m \u001b[32mjolly\u001b[0m \u001b[32mchristmas\u001b[0m at\u001b[0m \u001b[32muniversity\u001b[0m !\u001b[0m\n",
      "\u001b[32mMerry\u001b[0m \u001b[32mchristmas\u001b[0m ,\u001b[0m \u001b[31mJens\u001b[0m \u001b[31mLagergen\u001b[0m !\u001b[0m\n",
      "\u001b[32mChristmas\u001b[0m is\u001b[0m a\u001b[0m very\u001b[0m \u001b[32mmerry\u001b[0m \u001b[32mtime\u001b[0m .\u001b[0m\n",
      "\u001b[31mJens\u001b[0m \u001b[31mLagergen\u001b[0m is\u001b[0m the\u001b[0m \u001b[31mbest\u001b[0m \u001b[31mprofessor\u001b[0m at\u001b[0m \u001b[31muniversity\u001b[0m .\u001b[0m\n",
      "\u001b[31mUniversities\u001b[0m are\u001b[0m \u001b[31mimportant\u001b[0m \u001b[31mlearning\u001b[0m \u001b[31mcenters\u001b[0m .\u001b[0m \u001b[31mEspecially\u001b[0m because\u001b[0m of\u001b[0m \u001b[31mJens\u001b[0m \u001b[31mLagergen\u001b[0m .\u001b[0m\n",
      "What\u001b[0m even\u001b[0m is\u001b[0m a\u001b[0m \u001b[32muniversity\u001b[0m ?\u001b[0m \u001b[32mExperts\u001b[0m \u001b[32mdisagree\u001b[0m .\u001b[0m\n"
     ]
    }
   ],
   "source": [
    "colored = color_by_phis(corpus, params['phis'])\n",
    "for text in colored.values():\n",
    "    print(text)"
   ]
  }
 ],
 "metadata": {
  "kernelspec": {
   "display_name": "Python 3",
   "language": "python",
   "name": "python3"
  },
  "language_info": {
   "codemirror_mode": {
    "name": "ipython",
    "version": 3
   },
   "file_extension": ".py",
   "mimetype": "text/x-python",
   "name": "python",
   "nbconvert_exporter": "python",
   "pygments_lexer": "ipython3",
   "version": "3.8.6"
  },
  "widgets": {
   "application/vnd.jupyter.widget-state+json": {
    "state": {
     "019e80f5b6a34128ab73c8974430129f": {
      "model_module": "@jupyter-widgets/controls",
      "model_module_version": "1.5.0",
      "model_name": "HTMLModel",
      "state": {
       "layout": "IPY_MODEL_4682c22d2226438c8b26a2d3b3c4aa26",
       "style": "IPY_MODEL_f2db43c24f8c406aa58beb8cb60b5ffd",
       "value": "100%"
      }
     },
     "03070a4f4b494543b4d87d14861c7300": {
      "model_module": "@jupyter-widgets/base",
      "model_module_version": "1.2.0",
      "model_name": "LayoutModel",
      "state": {}
     },
     "067a4445b66142449bd1a472246662ff": {
      "model_module": "@jupyter-widgets/controls",
      "model_module_version": "1.5.0",
      "model_name": "ProgressStyleModel",
      "state": {
       "description_width": ""
      }
     },
     "0ae920b0d6e1478c9a864c0e7133ffda": {
      "model_module": "@jupyter-widgets/controls",
      "model_module_version": "1.5.0",
      "model_name": "ProgressStyleModel",
      "state": {
       "description_width": ""
      }
     },
     "0bcc45618e92472d8adb60f430a45e69": {
      "model_module": "@jupyter-widgets/controls",
      "model_module_version": "1.5.0",
      "model_name": "DescriptionStyleModel",
      "state": {
       "description_width": ""
      }
     },
     "12469770c30a41719fe36f541a71361d": {
      "model_module": "@jupyter-widgets/base",
      "model_module_version": "1.2.0",
      "model_name": "LayoutModel",
      "state": {}
     },
     "13fb3071fa7b4bb79b463f67b044b0bc": {
      "model_module": "@jupyter-widgets/base",
      "model_module_version": "1.2.0",
      "model_name": "LayoutModel",
      "state": {}
     },
     "1487452fb7aa411bac59acad3f63be18": {
      "model_module": "@jupyter-widgets/controls",
      "model_module_version": "1.5.0",
      "model_name": "HTMLModel",
      "state": {
       "layout": "IPY_MODEL_7c56d816f00347e4b90f904ff4e9bc3b",
       "style": "IPY_MODEL_fc91f95fbefd4b008a4061886217d29f",
       "value": "  0%"
      }
     },
     "14b381712025400bb2e6415a0e93b419": {
      "model_module": "@jupyter-widgets/controls",
      "model_module_version": "1.5.0",
      "model_name": "FloatProgressModel",
      "state": {
       "bar_style": "danger",
       "layout": "IPY_MODEL_efc9417be07e4845951c73cca07367d6",
       "max": 64,
       "style": "IPY_MODEL_857d2d78c0064503b89b3051b63cf2aa"
      }
     },
     "177c301a9146450699aefd3bda149097": {
      "model_module": "@jupyter-widgets/controls",
      "model_module_version": "1.5.0",
      "model_name": "HTMLModel",
      "state": {
       "layout": "IPY_MODEL_60d8246fd13e4d2e8ffcd7452f1f80e2",
       "style": "IPY_MODEL_6fa3ae8388aa4186845412bc140a0e15",
       "value": "100%"
      }
     },
     "195543538d5d4c548ee00ac718cf80e1": {
      "model_module": "@jupyter-widgets/base",
      "model_module_version": "1.2.0",
      "model_name": "LayoutModel",
      "state": {}
     },
     "1a8f3e17c6b9447990d90d2b3a42b4c2": {
      "model_module": "@jupyter-widgets/controls",
      "model_module_version": "1.5.0",
      "model_name": "FloatProgressModel",
      "state": {
       "bar_style": "success",
       "layout": "IPY_MODEL_1c9ef5ff103340549a310aec33b796fb",
       "max": 64,
       "style": "IPY_MODEL_c97fd488b032414caa715f873d8afe46",
       "value": 64
      }
     },
     "1c9ef5ff103340549a310aec33b796fb": {
      "model_module": "@jupyter-widgets/base",
      "model_module_version": "1.2.0",
      "model_name": "LayoutModel",
      "state": {}
     },
     "1d1f3cfdcf424a62aff02b2bcb42ab51": {
      "model_module": "@jupyter-widgets/controls",
      "model_module_version": "1.5.0",
      "model_name": "DescriptionStyleModel",
      "state": {
       "description_width": ""
      }
     },
     "1d521429e9e54482934a5198bd7e566b": {
      "model_module": "@jupyter-widgets/base",
      "model_module_version": "1.2.0",
      "model_name": "LayoutModel",
      "state": {}
     },
     "1e980907ef6f48db9e6abef6b7949af3": {
      "model_module": "@jupyter-widgets/controls",
      "model_module_version": "1.5.0",
      "model_name": "DescriptionStyleModel",
      "state": {
       "description_width": ""
      }
     },
     "1f55aef79b924311bde5442eb78105b2": {
      "model_module": "@jupyter-widgets/controls",
      "model_module_version": "1.5.0",
      "model_name": "DescriptionStyleModel",
      "state": {
       "description_width": ""
      }
     },
     "1fc506d3c3cc435eb4319ef229c092b1": {
      "model_module": "@jupyter-widgets/base",
      "model_module_version": "1.2.0",
      "model_name": "LayoutModel",
      "state": {}
     },
     "245dc73bab664f33b68a7d0852df01fb": {
      "model_module": "@jupyter-widgets/controls",
      "model_module_version": "1.5.0",
      "model_name": "HTMLModel",
      "state": {
       "layout": "IPY_MODEL_706d0defbc5e4c8ca67860bb8554c1f2",
       "style": "IPY_MODEL_ebce26bbcf9742f388dee7fa617f8294",
       "value": " 64/64 [00:16&lt;00:00,  3.86it/s]"
      }
     },
     "2563c7208ab1477c8c9e532b8adcc91d": {
      "model_module": "@jupyter-widgets/controls",
      "model_module_version": "1.5.0",
      "model_name": "HBoxModel",
      "state": {
       "children": [
        "IPY_MODEL_46a8d9443a704b538d6c3a4fb72335a7",
        "IPY_MODEL_363505bb40a0441b80e4d05436d32a75",
        "IPY_MODEL_f589306b5a424be28e010a13b25b4987"
       ],
       "layout": "IPY_MODEL_195543538d5d4c548ee00ac718cf80e1"
      }
     },
     "26d730736557431e9f5ddaa6ae2832e5": {
      "model_module": "@jupyter-widgets/controls",
      "model_module_version": "1.5.0",
      "model_name": "DescriptionStyleModel",
      "state": {
       "description_width": ""
      }
     },
     "2e17bea8dd79425189cf6c68425dce45": {
      "model_module": "@jupyter-widgets/controls",
      "model_module_version": "1.5.0",
      "model_name": "FloatProgressModel",
      "state": {
       "bar_style": "success",
       "layout": "IPY_MODEL_5533211dfbd3400eb99821cefcd17fcb",
       "max": 64,
       "style": "IPY_MODEL_eb333a4264f24632871234a33648e435",
       "value": 64
      }
     },
     "2f351ccd2fd24865bd94137f12290a98": {
      "model_module": "@jupyter-widgets/controls",
      "model_module_version": "1.5.0",
      "model_name": "HTMLModel",
      "state": {
       "layout": "IPY_MODEL_6c7446fa8d484b328d1f4872bf87ac4c",
       "style": "IPY_MODEL_da7e5cdb0ba1432b80bbb0fccab407be",
       "value": " 64/64 [00:11&lt;00:00,  5.38it/s]"
      }
     },
     "3250d716f6fc4f2a90b68486544a6fd6": {
      "model_module": "@jupyter-widgets/controls",
      "model_module_version": "1.5.0",
      "model_name": "ProgressStyleModel",
      "state": {
       "description_width": ""
      }
     },
     "343281f1f61546be8d076df5fefb0f04": {
      "model_module": "@jupyter-widgets/controls",
      "model_module_version": "1.5.0",
      "model_name": "DescriptionStyleModel",
      "state": {
       "description_width": ""
      }
     },
     "363505bb40a0441b80e4d05436d32a75": {
      "model_module": "@jupyter-widgets/controls",
      "model_module_version": "1.5.0",
      "model_name": "FloatProgressModel",
      "state": {
       "bar_style": "success",
       "layout": "IPY_MODEL_bce22f7f9a074f7ebd8a108f6bf982b0",
       "max": 64,
       "style": "IPY_MODEL_e3e229e62e20404192e634e95d018419",
       "value": 64
      }
     },
     "37f487724c0e4265b7ba2bb6472c7e09": {
      "model_module": "@jupyter-widgets/controls",
      "model_module_version": "1.5.0",
      "model_name": "HTMLModel",
      "state": {
       "layout": "IPY_MODEL_5281f5ea3a704814b7f4df2b1ba5d245",
       "style": "IPY_MODEL_66f56c22be2c4b8ba61032de62c80e20",
       "value": " 64/64 [00:11&lt;00:00,  5.56it/s]"
      }
     },
     "395e9a6e515d488b9ed0364446dfec7f": {
      "model_module": "@jupyter-widgets/base",
      "model_module_version": "1.2.0",
      "model_name": "LayoutModel",
      "state": {}
     },
     "4682c22d2226438c8b26a2d3b3c4aa26": {
      "model_module": "@jupyter-widgets/base",
      "model_module_version": "1.2.0",
      "model_name": "LayoutModel",
      "state": {}
     },
     "46a8d9443a704b538d6c3a4fb72335a7": {
      "model_module": "@jupyter-widgets/controls",
      "model_module_version": "1.5.0",
      "model_name": "HTMLModel",
      "state": {
       "layout": "IPY_MODEL_c3ebb3d904654d1d82a40ac760e17da5",
       "style": "IPY_MODEL_1d1f3cfdcf424a62aff02b2bcb42ab51",
       "value": "100%"
      }
     },
     "47f247d4e9ce43e2af4d5c222582684c": {
      "model_module": "@jupyter-widgets/controls",
      "model_module_version": "1.5.0",
      "model_name": "FloatProgressModel",
      "state": {
       "bar_style": "success",
       "layout": "IPY_MODEL_5391a11fd3584e01b816ff5d53ef6284",
       "max": 64,
       "style": "IPY_MODEL_067a4445b66142449bd1a472246662ff",
       "value": 64
      }
     },
     "4ae3b8b243164abfbcdfd262b03586f5": {
      "model_module": "@jupyter-widgets/base",
      "model_module_version": "1.2.0",
      "model_name": "LayoutModel",
      "state": {}
     },
     "4af8a61fb75440aaa2998335ba03d56b": {
      "model_module": "@jupyter-widgets/base",
      "model_module_version": "1.2.0",
      "model_name": "LayoutModel",
      "state": {}
     },
     "4d7174280c2f4ba1b7b25fab9cbb315d": {
      "model_module": "@jupyter-widgets/base",
      "model_module_version": "1.2.0",
      "model_name": "LayoutModel",
      "state": {}
     },
     "521bff20058548f6afc6a8ba86d4b5f5": {
      "model_module": "@jupyter-widgets/base",
      "model_module_version": "1.2.0",
      "model_name": "LayoutModel",
      "state": {}
     },
     "5237e8d6e7964f7087231a73b5d7b536": {
      "model_module": "@jupyter-widgets/controls",
      "model_module_version": "1.5.0",
      "model_name": "HTMLModel",
      "state": {
       "layout": "IPY_MODEL_1fc506d3c3cc435eb4319ef229c092b1",
       "style": "IPY_MODEL_26d730736557431e9f5ddaa6ae2832e5",
       "value": "100%"
      }
     },
     "5281f5ea3a704814b7f4df2b1ba5d245": {
      "model_module": "@jupyter-widgets/base",
      "model_module_version": "1.2.0",
      "model_name": "LayoutModel",
      "state": {}
     },
     "5391a11fd3584e01b816ff5d53ef6284": {
      "model_module": "@jupyter-widgets/base",
      "model_module_version": "1.2.0",
      "model_name": "LayoutModel",
      "state": {}
     },
     "5533211dfbd3400eb99821cefcd17fcb": {
      "model_module": "@jupyter-widgets/base",
      "model_module_version": "1.2.0",
      "model_name": "LayoutModel",
      "state": {}
     },
     "5963716d9b8942558371e732bc4e972f": {
      "model_module": "@jupyter-widgets/controls",
      "model_module_version": "1.5.0",
      "model_name": "HTMLModel",
      "state": {
       "layout": "IPY_MODEL_e100e9cfe6dd4d86966ea1c4c9fcd0a8",
       "style": "IPY_MODEL_b787482009244f2fab4e0a4264890c2b",
       "value": " 64/64 [00:18&lt;00:00,  3.53it/s]"
      }
     },
     "5cb6024d7c88460480aa626f9b4ec0b9": {
      "model_module": "@jupyter-widgets/controls",
      "model_module_version": "1.5.0",
      "model_name": "HBoxModel",
      "state": {
       "children": [
        "IPY_MODEL_1487452fb7aa411bac59acad3f63be18",
        "IPY_MODEL_14b381712025400bb2e6415a0e93b419",
        "IPY_MODEL_d4763823784946718362642bf0df6934"
       ],
       "layout": "IPY_MODEL_13fb3071fa7b4bb79b463f67b044b0bc"
      }
     },
     "60d8246fd13e4d2e8ffcd7452f1f80e2": {
      "model_module": "@jupyter-widgets/base",
      "model_module_version": "1.2.0",
      "model_name": "LayoutModel",
      "state": {}
     },
     "6199f7105d694687960177a2ed148796": {
      "model_module": "@jupyter-widgets/base",
      "model_module_version": "1.2.0",
      "model_name": "LayoutModel",
      "state": {}
     },
     "61c9ec0aa538449bb990673add59b022": {
      "model_module": "@jupyter-widgets/controls",
      "model_module_version": "1.5.0",
      "model_name": "HBoxModel",
      "state": {
       "children": [
        "IPY_MODEL_019e80f5b6a34128ab73c8974430129f",
        "IPY_MODEL_2e17bea8dd79425189cf6c68425dce45",
        "IPY_MODEL_6e90d8fa3a564f8eb5be95b0c7b9258e"
       ],
       "layout": "IPY_MODEL_d9738a9956ff4badb95df7c6ae559cbb"
      }
     },
     "6210b1f831904be39fcf7848ff35de80": {
      "model_module": "@jupyter-widgets/controls",
      "model_module_version": "1.5.0",
      "model_name": "HTMLModel",
      "state": {
       "layout": "IPY_MODEL_4d7174280c2f4ba1b7b25fab9cbb315d",
       "style": "IPY_MODEL_f87020f2167e4d1082fd6918168d4388",
       "value": "100%"
      }
     },
     "62322cae68c0441ebfa523a8585d4243": {
      "model_module": "@jupyter-widgets/base",
      "model_module_version": "1.2.0",
      "model_name": "LayoutModel",
      "state": {}
     },
     "626347bc49ea4c4c91382defdef4eb69": {
      "model_module": "@jupyter-widgets/controls",
      "model_module_version": "1.5.0",
      "model_name": "HTMLModel",
      "state": {
       "layout": "IPY_MODEL_fd54aace021b499f968b11afbad17ddc",
       "style": "IPY_MODEL_64236e9efe594a6f9491993ae8c5f5ac",
       "value": "100%"
      }
     },
     "64236e9efe594a6f9491993ae8c5f5ac": {
      "model_module": "@jupyter-widgets/controls",
      "model_module_version": "1.5.0",
      "model_name": "DescriptionStyleModel",
      "state": {
       "description_width": ""
      }
     },
     "66f56c22be2c4b8ba61032de62c80e20": {
      "model_module": "@jupyter-widgets/controls",
      "model_module_version": "1.5.0",
      "model_name": "DescriptionStyleModel",
      "state": {
       "description_width": ""
      }
     },
     "688f38611d904ed58ae42a66e4009820": {
      "model_module": "@jupyter-widgets/controls",
      "model_module_version": "1.5.0",
      "model_name": "DescriptionStyleModel",
      "state": {
       "description_width": ""
      }
     },
     "6c7446fa8d484b328d1f4872bf87ac4c": {
      "model_module": "@jupyter-widgets/base",
      "model_module_version": "1.2.0",
      "model_name": "LayoutModel",
      "state": {}
     },
     "6cdd0c581a774dc1bfde0349e9ea8a5e": {
      "model_module": "@jupyter-widgets/controls",
      "model_module_version": "1.5.0",
      "model_name": "HTMLModel",
      "state": {
       "layout": "IPY_MODEL_ca8178652a66429dbdc472e83655c117",
       "style": "IPY_MODEL_dd2f545401794958b615c962dbe584c2",
       "value": " 64/64 [00:12&lt;00:00,  5.03it/s]"
      }
     },
     "6e90d8fa3a564f8eb5be95b0c7b9258e": {
      "model_module": "@jupyter-widgets/controls",
      "model_module_version": "1.5.0",
      "model_name": "HTMLModel",
      "state": {
       "layout": "IPY_MODEL_1d521429e9e54482934a5198bd7e566b",
       "style": "IPY_MODEL_1f55aef79b924311bde5442eb78105b2",
       "value": " 64/64 [00:18&lt;00:00,  3.61it/s]"
      }
     },
     "6fa3ae8388aa4186845412bc140a0e15": {
      "model_module": "@jupyter-widgets/controls",
      "model_module_version": "1.5.0",
      "model_name": "DescriptionStyleModel",
      "state": {
       "description_width": ""
      }
     },
     "706d0defbc5e4c8ca67860bb8554c1f2": {
      "model_module": "@jupyter-widgets/base",
      "model_module_version": "1.2.0",
      "model_name": "LayoutModel",
      "state": {}
     },
     "71558d51863049cdac1dda08e1966164": {
      "model_module": "@jupyter-widgets/base",
      "model_module_version": "1.2.0",
      "model_name": "LayoutModel",
      "state": {}
     },
     "74f68497d6b543338d8aae522d2bd809": {
      "model_module": "@jupyter-widgets/controls",
      "model_module_version": "1.5.0",
      "model_name": "HTMLModel",
      "state": {
       "layout": "IPY_MODEL_395e9a6e515d488b9ed0364446dfec7f",
       "style": "IPY_MODEL_1e980907ef6f48db9e6abef6b7949af3",
       "value": "100%"
      }
     },
     "76eeb7031a504e179f8a6297600c4636": {
      "model_module": "@jupyter-widgets/controls",
      "model_module_version": "1.5.0",
      "model_name": "HTMLModel",
      "state": {
       "layout": "IPY_MODEL_786798150b3a4d31b52bab94209912cd",
       "style": "IPY_MODEL_962be893c04741e989ac5babb97c2d3f",
       "value": " 64/64 [00:13&lt;00:00,  4.69it/s]"
      }
     },
     "786798150b3a4d31b52bab94209912cd": {
      "model_module": "@jupyter-widgets/base",
      "model_module_version": "1.2.0",
      "model_name": "LayoutModel",
      "state": {}
     },
     "7c03a2312adc416399ceae12d7e26053": {
      "model_module": "@jupyter-widgets/controls",
      "model_module_version": "1.5.0",
      "model_name": "HBoxModel",
      "state": {
       "children": [
        "IPY_MODEL_8357c3b68dac43389231dbdd8a232739",
        "IPY_MODEL_1a8f3e17c6b9447990d90d2b3a42b4c2",
        "IPY_MODEL_6cdd0c581a774dc1bfde0349e9ea8a5e"
       ],
       "layout": "IPY_MODEL_e6194cfc66c54cf2ae432fead072b0da"
      }
     },
     "7c56d816f00347e4b90f904ff4e9bc3b": {
      "model_module": "@jupyter-widgets/base",
      "model_module_version": "1.2.0",
      "model_name": "LayoutModel",
      "state": {}
     },
     "7d03ca15dc2f40fb996550d6a3ee0fd3": {
      "model_module": "@jupyter-widgets/controls",
      "model_module_version": "1.5.0",
      "model_name": "FloatProgressModel",
      "state": {
       "bar_style": "success",
       "layout": "IPY_MODEL_9d17c42cba5249c2bcaed5f6f1eb7000",
       "max": 64,
       "style": "IPY_MODEL_3250d716f6fc4f2a90b68486544a6fd6",
       "value": 64
      }
     },
     "831e5969b52d4012a5bb9afdfb2711b5": {
      "model_module": "@jupyter-widgets/base",
      "model_module_version": "1.2.0",
      "model_name": "LayoutModel",
      "state": {}
     },
     "8357c3b68dac43389231dbdd8a232739": {
      "model_module": "@jupyter-widgets/controls",
      "model_module_version": "1.5.0",
      "model_name": "HTMLModel",
      "state": {
       "layout": "IPY_MODEL_ad812994f76a4fe7af82d0b1e3a32a29",
       "style": "IPY_MODEL_343281f1f61546be8d076df5fefb0f04",
       "value": "100%"
      }
     },
     "85360902288b41d2bc38fc7c747ca8da": {
      "model_module": "@jupyter-widgets/controls",
      "model_module_version": "1.5.0",
      "model_name": "ProgressStyleModel",
      "state": {
       "description_width": ""
      }
     },
     "857d2d78c0064503b89b3051b63cf2aa": {
      "model_module": "@jupyter-widgets/controls",
      "model_module_version": "1.5.0",
      "model_name": "ProgressStyleModel",
      "state": {
       "description_width": ""
      }
     },
     "858cb8abd74c48289fea4dc32ad1a2f7": {
      "model_module": "@jupyter-widgets/base",
      "model_module_version": "1.2.0",
      "model_name": "LayoutModel",
      "state": {}
     },
     "869e0d2968b24e2dbdd57f97f28fe0cf": {
      "model_module": "@jupyter-widgets/controls",
      "model_module_version": "1.5.0",
      "model_name": "HBoxModel",
      "state": {
       "children": [
        "IPY_MODEL_74f68497d6b543338d8aae522d2bd809",
        "IPY_MODEL_e3812411a390433384a94a3788c47d0a",
        "IPY_MODEL_37f487724c0e4265b7ba2bb6472c7e09"
       ],
       "layout": "IPY_MODEL_a3e412de64414a4a9583929c4b367200"
      }
     },
     "8a5aa237472c4ea6a051ffa5f3ffc617": {
      "model_module": "@jupyter-widgets/base",
      "model_module_version": "1.2.0",
      "model_name": "LayoutModel",
      "state": {}
     },
     "8e608927b2894f6481954e3955bd7055": {
      "model_module": "@jupyter-widgets/controls",
      "model_module_version": "1.5.0",
      "model_name": "FloatProgressModel",
      "state": {
       "bar_style": "success",
       "layout": "IPY_MODEL_93b80d2915064680b27d9557909cad2b",
       "max": 64,
       "style": "IPY_MODEL_8ee422aee26c44c29732824b075bf8b6",
       "value": 64
      }
     },
     "8ee422aee26c44c29732824b075bf8b6": {
      "model_module": "@jupyter-widgets/controls",
      "model_module_version": "1.5.0",
      "model_name": "ProgressStyleModel",
      "state": {
       "description_width": ""
      }
     },
     "90ef56547a8f4d34850cf0c4a8f28f10": {
      "model_module": "@jupyter-widgets/controls",
      "model_module_version": "1.5.0",
      "model_name": "FloatProgressModel",
      "state": {
       "bar_style": "success",
       "layout": "IPY_MODEL_03070a4f4b494543b4d87d14861c7300",
       "max": 64,
       "style": "IPY_MODEL_d4bff07b8d80443892c6c7d980366e6f",
       "value": 64
      }
     },
     "92aec23b81064dbfb1391024d65aa82f": {
      "model_module": "@jupyter-widgets/controls",
      "model_module_version": "1.5.0",
      "model_name": "DescriptionStyleModel",
      "state": {
       "description_width": ""
      }
     },
     "93b80d2915064680b27d9557909cad2b": {
      "model_module": "@jupyter-widgets/base",
      "model_module_version": "1.2.0",
      "model_name": "LayoutModel",
      "state": {}
     },
     "962be893c04741e989ac5babb97c2d3f": {
      "model_module": "@jupyter-widgets/controls",
      "model_module_version": "1.5.0",
      "model_name": "DescriptionStyleModel",
      "state": {
       "description_width": ""
      }
     },
     "97d8dcc2452343ebb0d5a6bc34fd4402": {
      "model_module": "@jupyter-widgets/controls",
      "model_module_version": "1.5.0",
      "model_name": "FloatProgressModel",
      "state": {
       "bar_style": "success",
       "layout": "IPY_MODEL_71558d51863049cdac1dda08e1966164",
       "max": 64,
       "style": "IPY_MODEL_85360902288b41d2bc38fc7c747ca8da",
       "value": 64
      }
     },
     "9d17c42cba5249c2bcaed5f6f1eb7000": {
      "model_module": "@jupyter-widgets/base",
      "model_module_version": "1.2.0",
      "model_name": "LayoutModel",
      "state": {}
     },
     "9e535432fa8840798f965d22578f1677": {
      "model_module": "@jupyter-widgets/controls",
      "model_module_version": "1.5.0",
      "model_name": "HTMLModel",
      "state": {
       "layout": "IPY_MODEL_12469770c30a41719fe36f541a71361d",
       "style": "IPY_MODEL_adf91e4de71e42929524ac7f6ff79570",
       "value": "100%"
      }
     },
     "a3e412de64414a4a9583929c4b367200": {
      "model_module": "@jupyter-widgets/base",
      "model_module_version": "1.2.0",
      "model_name": "LayoutModel",
      "state": {}
     },
     "a9daca9e4c2d4600965d4cc5b27502b6": {
      "model_module": "@jupyter-widgets/controls",
      "model_module_version": "1.5.0",
      "model_name": "DescriptionStyleModel",
      "state": {
       "description_width": ""
      }
     },
     "ad812994f76a4fe7af82d0b1e3a32a29": {
      "model_module": "@jupyter-widgets/base",
      "model_module_version": "1.2.0",
      "model_name": "LayoutModel",
      "state": {}
     },
     "add59501c10141fa9260b99662501828": {
      "model_module": "@jupyter-widgets/controls",
      "model_module_version": "1.5.0",
      "model_name": "HBoxModel",
      "state": {
       "children": [
        "IPY_MODEL_5237e8d6e7964f7087231a73b5d7b536",
        "IPY_MODEL_97d8dcc2452343ebb0d5a6bc34fd4402",
        "IPY_MODEL_76eeb7031a504e179f8a6297600c4636"
       ],
       "layout": "IPY_MODEL_4ae3b8b243164abfbcdfd262b03586f5"
      }
     },
     "adf91e4de71e42929524ac7f6ff79570": {
      "model_module": "@jupyter-widgets/controls",
      "model_module_version": "1.5.0",
      "model_name": "DescriptionStyleModel",
      "state": {
       "description_width": ""
      }
     },
     "af6d3f8ecc884686a2af34ade48af085": {
      "model_module": "@jupyter-widgets/base",
      "model_module_version": "1.2.0",
      "model_name": "LayoutModel",
      "state": {}
     },
     "af94f054159544a3aff929d1ee14355f": {
      "model_module": "@jupyter-widgets/controls",
      "model_module_version": "1.5.0",
      "model_name": "ProgressStyleModel",
      "state": {
       "description_width": ""
      }
     },
     "b0e291c018bd4b04856a2d624fcbbf55": {
      "model_module": "@jupyter-widgets/controls",
      "model_module_version": "1.5.0",
      "model_name": "HBoxModel",
      "state": {
       "children": [
        "IPY_MODEL_9e535432fa8840798f965d22578f1677",
        "IPY_MODEL_47f247d4e9ce43e2af4d5c222582684c",
        "IPY_MODEL_5963716d9b8942558371e732bc4e972f"
       ],
       "layout": "IPY_MODEL_4af8a61fb75440aaa2998335ba03d56b"
      }
     },
     "b4ff0b9f56f249f489149a35fcfed9c2": {
      "model_module": "@jupyter-widgets/controls",
      "model_module_version": "1.5.0",
      "model_name": "HBoxModel",
      "state": {
       "children": [
        "IPY_MODEL_6210b1f831904be39fcf7848ff35de80",
        "IPY_MODEL_7d03ca15dc2f40fb996550d6a3ee0fd3",
        "IPY_MODEL_ee0fb96ec3ae41e3a0b3586ac0a67afe"
       ],
       "layout": "IPY_MODEL_62322cae68c0441ebfa523a8585d4243"
      }
     },
     "b787482009244f2fab4e0a4264890c2b": {
      "model_module": "@jupyter-widgets/controls",
      "model_module_version": "1.5.0",
      "model_name": "DescriptionStyleModel",
      "state": {
       "description_width": ""
      }
     },
     "b9e85c89893f46a488c1a3b0c5c2f343": {
      "model_module": "@jupyter-widgets/base",
      "model_module_version": "1.2.0",
      "model_name": "LayoutModel",
      "state": {}
     },
     "bce22f7f9a074f7ebd8a108f6bf982b0": {
      "model_module": "@jupyter-widgets/base",
      "model_module_version": "1.2.0",
      "model_name": "LayoutModel",
      "state": {}
     },
     "c011adf95eca497681ddcf76c6d10fd6": {
      "model_module": "@jupyter-widgets/controls",
      "model_module_version": "1.5.0",
      "model_name": "HBoxModel",
      "state": {
       "children": [
        "IPY_MODEL_626347bc49ea4c4c91382defdef4eb69",
        "IPY_MODEL_d62edfc5a82c4d788ce2d9ac3257c3fd",
        "IPY_MODEL_ebd771112921481faace82206445690d"
       ],
       "layout": "IPY_MODEL_c660c6932e04427290a221059be616a7"
      }
     },
     "c11998d238e34a5888fa681fa53c9730": {
      "model_module": "@jupyter-widgets/controls",
      "model_module_version": "1.5.0",
      "model_name": "HBoxModel",
      "state": {
       "children": [
        "IPY_MODEL_f1f6d43d41354715a4f5e24c9ea36fe6",
        "IPY_MODEL_90ef56547a8f4d34850cf0c4a8f28f10",
        "IPY_MODEL_2f351ccd2fd24865bd94137f12290a98"
       ],
       "layout": "IPY_MODEL_dfb8b62f243a409db4edf84a02bfa9fa"
      }
     },
     "c3ebb3d904654d1d82a40ac760e17da5": {
      "model_module": "@jupyter-widgets/base",
      "model_module_version": "1.2.0",
      "model_name": "LayoutModel",
      "state": {}
     },
     "c660c6932e04427290a221059be616a7": {
      "model_module": "@jupyter-widgets/base",
      "model_module_version": "1.2.0",
      "model_name": "LayoutModel",
      "state": {}
     },
     "c97fd488b032414caa715f873d8afe46": {
      "model_module": "@jupyter-widgets/controls",
      "model_module_version": "1.5.0",
      "model_name": "ProgressStyleModel",
      "state": {
       "description_width": ""
      }
     },
     "ca8178652a66429dbdc472e83655c117": {
      "model_module": "@jupyter-widgets/base",
      "model_module_version": "1.2.0",
      "model_name": "LayoutModel",
      "state": {}
     },
     "d34033d3687d448f99338d56561346d8": {
      "model_module": "@jupyter-widgets/controls",
      "model_module_version": "1.5.0",
      "model_name": "HBoxModel",
      "state": {
       "children": [
        "IPY_MODEL_177c301a9146450699aefd3bda149097",
        "IPY_MODEL_8e608927b2894f6481954e3955bd7055",
        "IPY_MODEL_245dc73bab664f33b68a7d0852df01fb"
       ],
       "layout": "IPY_MODEL_af6d3f8ecc884686a2af34ade48af085"
      }
     },
     "d4763823784946718362642bf0df6934": {
      "model_module": "@jupyter-widgets/controls",
      "model_module_version": "1.5.0",
      "model_name": "HTMLModel",
      "state": {
       "layout": "IPY_MODEL_858cb8abd74c48289fea4dc32ad1a2f7",
       "style": "IPY_MODEL_688f38611d904ed58ae42a66e4009820",
       "value": " 0/64 [05:07&lt;?, ?it/s]"
      }
     },
     "d4bff07b8d80443892c6c7d980366e6f": {
      "model_module": "@jupyter-widgets/controls",
      "model_module_version": "1.5.0",
      "model_name": "ProgressStyleModel",
      "state": {
       "description_width": ""
      }
     },
     "d62edfc5a82c4d788ce2d9ac3257c3fd": {
      "model_module": "@jupyter-widgets/controls",
      "model_module_version": "1.5.0",
      "model_name": "FloatProgressModel",
      "state": {
       "bar_style": "success",
       "layout": "IPY_MODEL_521bff20058548f6afc6a8ba86d4b5f5",
       "max": 64,
       "style": "IPY_MODEL_0ae920b0d6e1478c9a864c0e7133ffda",
       "value": 64
      }
     },
     "d90a798244004b07a2c076d0cadffe6a": {
      "model_module": "@jupyter-widgets/base",
      "model_module_version": "1.2.0",
      "model_name": "LayoutModel",
      "state": {}
     },
     "d9738a9956ff4badb95df7c6ae559cbb": {
      "model_module": "@jupyter-widgets/base",
      "model_module_version": "1.2.0",
      "model_name": "LayoutModel",
      "state": {}
     },
     "da7e5cdb0ba1432b80bbb0fccab407be": {
      "model_module": "@jupyter-widgets/controls",
      "model_module_version": "1.5.0",
      "model_name": "DescriptionStyleModel",
      "state": {
       "description_width": ""
      }
     },
     "dd2f545401794958b615c962dbe584c2": {
      "model_module": "@jupyter-widgets/controls",
      "model_module_version": "1.5.0",
      "model_name": "DescriptionStyleModel",
      "state": {
       "description_width": ""
      }
     },
     "dfb8b62f243a409db4edf84a02bfa9fa": {
      "model_module": "@jupyter-widgets/base",
      "model_module_version": "1.2.0",
      "model_name": "LayoutModel",
      "state": {}
     },
     "e100e9cfe6dd4d86966ea1c4c9fcd0a8": {
      "model_module": "@jupyter-widgets/base",
      "model_module_version": "1.2.0",
      "model_name": "LayoutModel",
      "state": {}
     },
     "e3812411a390433384a94a3788c47d0a": {
      "model_module": "@jupyter-widgets/controls",
      "model_module_version": "1.5.0",
      "model_name": "FloatProgressModel",
      "state": {
       "bar_style": "success",
       "layout": "IPY_MODEL_b9e85c89893f46a488c1a3b0c5c2f343",
       "max": 64,
       "style": "IPY_MODEL_af94f054159544a3aff929d1ee14355f",
       "value": 64
      }
     },
     "e3e229e62e20404192e634e95d018419": {
      "model_module": "@jupyter-widgets/controls",
      "model_module_version": "1.5.0",
      "model_name": "ProgressStyleModel",
      "state": {
       "description_width": ""
      }
     },
     "e6194cfc66c54cf2ae432fead072b0da": {
      "model_module": "@jupyter-widgets/base",
      "model_module_version": "1.2.0",
      "model_name": "LayoutModel",
      "state": {}
     },
     "eb333a4264f24632871234a33648e435": {
      "model_module": "@jupyter-widgets/controls",
      "model_module_version": "1.5.0",
      "model_name": "ProgressStyleModel",
      "state": {
       "description_width": ""
      }
     },
     "ebce26bbcf9742f388dee7fa617f8294": {
      "model_module": "@jupyter-widgets/controls",
      "model_module_version": "1.5.0",
      "model_name": "DescriptionStyleModel",
      "state": {
       "description_width": ""
      }
     },
     "ebd771112921481faace82206445690d": {
      "model_module": "@jupyter-widgets/controls",
      "model_module_version": "1.5.0",
      "model_name": "HTMLModel",
      "state": {
       "layout": "IPY_MODEL_6199f7105d694687960177a2ed148796",
       "style": "IPY_MODEL_efc530f5c7f342ebb1513b4d403fceb8",
       "value": " 64/64 [00:12&lt;00:00,  5.42it/s]"
      }
     },
     "ee0fb96ec3ae41e3a0b3586ac0a67afe": {
      "model_module": "@jupyter-widgets/controls",
      "model_module_version": "1.5.0",
      "model_name": "HTMLModel",
      "state": {
       "layout": "IPY_MODEL_d90a798244004b07a2c076d0cadffe6a",
       "style": "IPY_MODEL_92aec23b81064dbfb1391024d65aa82f",
       "value": " 64/64 [00:14&lt;00:00,  5.28it/s]"
      }
     },
     "efc530f5c7f342ebb1513b4d403fceb8": {
      "model_module": "@jupyter-widgets/controls",
      "model_module_version": "1.5.0",
      "model_name": "DescriptionStyleModel",
      "state": {
       "description_width": ""
      }
     },
     "efc9417be07e4845951c73cca07367d6": {
      "model_module": "@jupyter-widgets/base",
      "model_module_version": "1.2.0",
      "model_name": "LayoutModel",
      "state": {}
     },
     "f1f6d43d41354715a4f5e24c9ea36fe6": {
      "model_module": "@jupyter-widgets/controls",
      "model_module_version": "1.5.0",
      "model_name": "HTMLModel",
      "state": {
       "layout": "IPY_MODEL_831e5969b52d4012a5bb9afdfb2711b5",
       "style": "IPY_MODEL_0bcc45618e92472d8adb60f430a45e69",
       "value": "100%"
      }
     },
     "f2db43c24f8c406aa58beb8cb60b5ffd": {
      "model_module": "@jupyter-widgets/controls",
      "model_module_version": "1.5.0",
      "model_name": "DescriptionStyleModel",
      "state": {
       "description_width": ""
      }
     },
     "f589306b5a424be28e010a13b25b4987": {
      "model_module": "@jupyter-widgets/controls",
      "model_module_version": "1.5.0",
      "model_name": "HTMLModel",
      "state": {
       "layout": "IPY_MODEL_8a5aa237472c4ea6a051ffa5f3ffc617",
       "style": "IPY_MODEL_a9daca9e4c2d4600965d4cc5b27502b6",
       "value": " 64/64 [00:20&lt;00:00,  3.12it/s]"
      }
     },
     "f87020f2167e4d1082fd6918168d4388": {
      "model_module": "@jupyter-widgets/controls",
      "model_module_version": "1.5.0",
      "model_name": "DescriptionStyleModel",
      "state": {
       "description_width": ""
      }
     },
     "fc91f95fbefd4b008a4061886217d29f": {
      "model_module": "@jupyter-widgets/controls",
      "model_module_version": "1.5.0",
      "model_name": "DescriptionStyleModel",
      "state": {
       "description_width": ""
      }
     },
     "fd54aace021b499f968b11afbad17ddc": {
      "model_module": "@jupyter-widgets/base",
      "model_module_version": "1.2.0",
      "model_name": "LayoutModel",
      "state": {}
     }
    },
    "version_major": 2,
    "version_minor": 0
   }
  }
 },
 "nbformat": 4,
 "nbformat_minor": 4
}
