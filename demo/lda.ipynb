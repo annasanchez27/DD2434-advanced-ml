{
 "cells": [
  {
   "cell_type": "code",
   "execution_count": 1,
   "metadata": {},
   "outputs": [],
   "source": [
    "from lda import lda\n",
    "from lda.data.corpus import Corpus\n",
    "from lda.data.document import Document\n",
    "from lda.utils import color_by_phis\n",
    "import matplotlib.pyplot as plt"
   ]
  },
  {
   "cell_type": "code",
   "execution_count": 2,
   "metadata": {},
   "outputs": [
    {
     "data": {
      "text/plain": [
       "Corpus with 6 documents"
      ]
     },
     "execution_count": 2,
     "metadata": {},
     "output_type": "execute_result"
    }
   ],
   "source": [
    "corpus = Corpus(documents=[\n",
    "    Document.from_text('Have a jolly christmas at university!'),\n",
    "    Document.from_text('Merry christmas, Jens Lagergen!'),\n",
    "    Document.from_text('Christmas is a very merry time.'),\n",
    "    Document.from_text('Jens Lagergen is the best professor at university.'),\n",
    "    Document.from_text('Universities are important learning centers. Especially because of Jens Lagergen.'),\n",
    "    Document.from_text('What even is a university? Experts disagree.')\n",
    "])\n",
    "corpus"
   ]
  },
  {
   "cell_type": "code",
   "execution_count": 3,
   "metadata": {},
   "outputs": [
    {
     "data": {
      "text/plain": [
       "[Word(original_form='jolly', lda_form='jolly', include=True),\n",
       " Word(original_form='christmas', lda_form='christmas', include=True),\n",
       " Word(original_form='university', lda_form='university', include=True)]"
      ]
     },
     "execution_count": 3,
     "metadata": {},
     "output_type": "execute_result"
    }
   ],
   "source": [
    "corpus.documents[0].included_words"
   ]
  },
  {
   "cell_type": "code",
   "execution_count": 4,
   "metadata": {},
   "outputs": [
    {
     "data": {
      "text/plain": [
       "[Word(original_form='Merry', lda_form='merry', include=True),\n",
       " Word(original_form='christmas', lda_form='christmas', include=True),\n",
       " Word(original_form='Jens', lda_form='jens', include=True),\n",
       " Word(original_form='Lagergen', lda_form='lagergen', include=True)]"
      ]
     },
     "execution_count": 4,
     "metadata": {},
     "output_type": "execute_result"
    }
   ],
   "source": [
    "corpus.documents[1].included_words"
   ]
  },
  {
   "cell_type": "code",
   "execution_count": 5,
   "metadata": {},
   "outputs": [
    {
     "data": {
      "text/plain": [
       "[Word(original_form='Christmas', lda_form='christmas', include=True),\n",
       " Word(original_form='merry', lda_form='merry', include=True),\n",
       " Word(original_form='time', lda_form='time', include=True)]"
      ]
     },
     "execution_count": 5,
     "metadata": {},
     "output_type": "execute_result"
    }
   ],
   "source": [
    "corpus.documents[2].included_words"
   ]
  },
  {
   "cell_type": "code",
   "execution_count": 6,
   "metadata": {},
   "outputs": [
    {
     "data": {
      "text/plain": [
       "[Word(original_form='Jens', lda_form='jens', include=True),\n",
       " Word(original_form='Lagergen', lda_form='lagergen', include=True),\n",
       " Word(original_form='best', lda_form='good', include=True),\n",
       " Word(original_form='professor', lda_form='professor', include=True),\n",
       " Word(original_form='university', lda_form='university', include=True)]"
      ]
     },
     "execution_count": 6,
     "metadata": {},
     "output_type": "execute_result"
    }
   ],
   "source": [
    "corpus.documents[3].included_words"
   ]
  },
  {
   "cell_type": "code",
   "execution_count": 7,
   "metadata": {},
   "outputs": [
    {
     "data": {
      "text/plain": [
       "False"
      ]
     },
     "execution_count": 7,
     "metadata": {},
     "output_type": "execute_result"
    }
   ],
   "source": [
    "corpus.documents[2].included_words[-1] == corpus.documents[3].included_words[0]"
   ]
  },
  {
   "cell_type": "code",
   "execution_count": 8,
   "metadata": {},
   "outputs": [
    {
     "data": {
      "text/plain": [
       "Counter({Word(original_form='jolly', lda_form='jolly', include=True): 1,\n",
       "         Word(original_form='christmas', lda_form='christmas', include=True): 3,\n",
       "         Word(original_form='university', lda_form='university', include=True): 4,\n",
       "         Word(original_form='Merry', lda_form='merry', include=True): 2,\n",
       "         Word(original_form='Jens', lda_form='jens', include=True): 3,\n",
       "         Word(original_form='Lagergen', lda_form='lagergen', include=True): 3,\n",
       "         Word(original_form='time', lda_form='time', include=True): 1,\n",
       "         Word(original_form='best', lda_form='good', include=True): 1,\n",
       "         Word(original_form='professor', lda_form='professor', include=True): 1,\n",
       "         Word(original_form='important', lda_form='important', include=True): 1,\n",
       "         Word(original_form='learning', lda_form='learning', include=True): 1,\n",
       "         Word(original_form='centers', lda_form='center', include=True): 1,\n",
       "         Word(original_form='Especially', lda_form='especially', include=True): 1,\n",
       "         Word(original_form='Experts', lda_form='expert', include=True): 1,\n",
       "         Word(original_form='disagree', lda_form='disagree', include=True): 1})"
      ]
     },
     "execution_count": 8,
     "metadata": {},
     "output_type": "execute_result"
    }
   ],
   "source": [
    "corpus.word_count"
   ]
  },
  {
   "cell_type": "code",
   "execution_count": 9,
   "metadata": {},
   "outputs": [
    {
     "data": {
      "application/vnd.jupyter.widget-view+json": {
       "model_id": "59e736ecbb1740819a863258071d8250",
       "version_major": 2,
       "version_minor": 0
      },
      "text/plain": [
       "Attempt 0:   0%|          | 0/64 [00:00<?, ?it/s]"
      ]
     },
     "metadata": {},
     "output_type": "display_data"
    }
   ],
   "source": [
    "out = lda(corpus, num_topics=2, num_iterations=64)\n",
    "params = out['params']\n",
    "lower_bound_evol = out['lower_bound_evol']"
   ]
  },
  {
   "cell_type": "code",
   "execution_count": 10,
   "metadata": {},
   "outputs": [
    {
     "data": {
      "text/plain": [
       "{'alpha': array([0.02902788, 0.00598489]),\n",
       " 'beta': [{Word(original_form='disagree', lda_form='disagree', include=True): 0.0,\n",
       "   Word(original_form='christmas', lda_form='christmas', include=True): 0.13636363636363635,\n",
       "   Word(original_form='important', lda_form='important', include=True): 0.045454545454545456,\n",
       "   Word(original_form='Experts', lda_form='expert', include=True): 0.0,\n",
       "   Word(original_form='learning', lda_form='learning', include=True): 0.045454545454545456,\n",
       "   Word(original_form='Especially', lda_form='especially', include=True): 0.045454545454545456,\n",
       "   Word(original_form='professor', lda_form='professor', include=True): 0.045454545454545456,\n",
       "   Word(original_form='university', lda_form='university', include=True): 0.13636363636363635,\n",
       "   Word(original_form='centers', lda_form='center', include=True): 0.045454545454545456,\n",
       "   Word(original_form='jolly', lda_form='jolly', include=True): 0.045454545454545456,\n",
       "   Word(original_form='Jens', lda_form='jens', include=True): 0.13636363636363635,\n",
       "   Word(original_form='Lagergen', lda_form='lagergen', include=True): 0.13636363636363635,\n",
       "   Word(original_form='time', lda_form='time', include=True): 0.045454545454545456,\n",
       "   Word(original_form='Merry', lda_form='merry', include=True): 0.09090909090909091,\n",
       "   Word(original_form='best', lda_form='good', include=True): 0.045454545454545456},\n",
       "  {Word(original_form='disagree', lda_form='disagree', include=True): 0.3333333333333333,\n",
       "   Word(original_form='christmas', lda_form='christmas', include=True): 0.0,\n",
       "   Word(original_form='important', lda_form='important', include=True): 0.0,\n",
       "   Word(original_form='Experts', lda_form='expert', include=True): 0.3333333333333333,\n",
       "   Word(original_form='learning', lda_form='learning', include=True): 0.0,\n",
       "   Word(original_form='Especially', lda_form='especially', include=True): 0.0,\n",
       "   Word(original_form='professor', lda_form='professor', include=True): 0.0,\n",
       "   Word(original_form='university', lda_form='university', include=True): 0.3333333333333333,\n",
       "   Word(original_form='centers', lda_form='center', include=True): 0.0,\n",
       "   Word(original_form='jolly', lda_form='jolly', include=True): 0.0,\n",
       "   Word(original_form='Jens', lda_form='jens', include=True): 0.0,\n",
       "   Word(original_form='Lagergen', lda_form='lagergen', include=True): 0.0,\n",
       "   Word(original_form='time', lda_form='time', include=True): 0.0,\n",
       "   Word(original_form='Merry', lda_form='merry', include=True): 0.0,\n",
       "   Word(original_form='best', lda_form='good', include=True): 0.0}],\n",
       " 'phis': {Document including 3 words: array([[1.00000000e+00, 0.00000000e+00],\n",
       "         [1.00000000e+00, 0.00000000e+00],\n",
       "         [1.00000000e+00, 1.48207997e-73]]),\n",
       "  Document including 4 words: array([[1., 0.],\n",
       "         [1., 0.],\n",
       "         [1., 0.],\n",
       "         [1., 0.]]),\n",
       "  Document including 3 words: array([[1., 0.],\n",
       "         [1., 0.],\n",
       "         [1., 0.]]),\n",
       "  Document including 5 words: array([[1.00000000e+00, 0.00000000e+00],\n",
       "         [1.00000000e+00, 0.00000000e+00],\n",
       "         [1.00000000e+00, 0.00000000e+00],\n",
       "         [1.00000000e+00, 0.00000000e+00],\n",
       "         [1.00000000e+00, 8.31194654e-74]]),\n",
       "  Document including 7 words: array([[1.00000000e+00, 5.77180015e-74],\n",
       "         [1.00000000e+00, 0.00000000e+00],\n",
       "         [1.00000000e+00, 0.00000000e+00],\n",
       "         [1.00000000e+00, 0.00000000e+00],\n",
       "         [1.00000000e+00, 0.00000000e+00],\n",
       "         [1.00000000e+00, 0.00000000e+00],\n",
       "         [1.00000000e+00, 0.00000000e+00]]),\n",
       "  Document including 3 words: array([[1.04321263e-16, 1.00000000e+00],\n",
       "         [0.00000000e+00, 1.00000000e+00],\n",
       "         [0.00000000e+00, 1.00000000e+00]])},\n",
       " 'gammas': {Document including 3 words: array([3.02902788, 0.00598489]),\n",
       "  Document including 4 words: array([4.02902788, 0.00598489]),\n",
       "  Document including 3 words: array([3.02902788, 0.00598489]),\n",
       "  Document including 5 words: array([5.02902788, 0.00598489]),\n",
       "  Document including 7 words: array([7.02902788e+00, 5.98488868e-03]),\n",
       "  Document including 3 words: array([0.02902788, 3.00598489])}}"
      ]
     },
     "execution_count": 10,
     "metadata": {},
     "output_type": "execute_result"
    }
   ],
   "source": [
    "params"
   ]
  },
  {
   "cell_type": "code",
   "execution_count": 11,
   "metadata": {},
   "outputs": [
    {
     "data": {
      "text/plain": [
       "[<matplotlib.lines.Line2D at 0x7f1d1efa1910>]"
      ]
     },
     "execution_count": 11,
     "metadata": {},
     "output_type": "execute_result"
    },
    {
     "data": {
      "image/png": "[encoded data removed]",
      "text/plain": [
       "<Figure size 432x288 with 1 Axes>"
      ]
     },
     "metadata": {
      "needs_background": "light"
     },
     "output_type": "display_data"
    }
   ],
   "source": [
    "plt.figure()\n",
    "plt.plot(lower_bound_evol)"
   ]
  },
  {
   "cell_type": "code",
   "execution_count": 12,
   "metadata": {},
   "outputs": [
    {
     "data": {
      "text/plain": [
       "array([-61.17998647, -60.47611074, -60.32726905, -60.23652025,\n",
       "       -60.16497412, -60.10447355, -60.05219002, -60.00657968,\n",
       "       -59.96653338, -59.93117398, -59.89978903, -59.87179046,\n",
       "       -59.84669425, -59.82409846, -59.80366779, -59.78512119,\n",
       "       -59.76822194, -59.75276967, -59.73859399, -59.72554925,\n",
       "       -59.71351045, -59.70236974, -59.69203374, -59.68242121,\n",
       "       -59.67346121, -59.66509179, -59.65725789, -59.64991123,\n",
       "       -59.64300903, -59.63651327, -59.63039004, -59.62460905,\n",
       "       -59.61914311, -59.6139678 , -59.60906112, -59.60440317,\n",
       "       -59.59997596, -59.59576315, -59.59174987, -59.5879226 ,\n",
       "       -59.58426897, -59.58077768, -59.57743836, -59.57424151,\n",
       "       -59.57117838, -59.56824092, -59.5654217 , -59.56271384,\n",
       "       -59.56011102, -59.55760733, -59.55519732, -59.55287594,\n",
       "       -59.55063845, -59.54848047, -59.54639791, -59.54438694,\n",
       "       -59.542444  , -59.54056575, -59.53874906, -59.53699101,\n",
       "       -59.53528883, -59.53363995, -59.53204194, -59.53049251])"
      ]
     },
     "execution_count": 12,
     "metadata": {},
     "output_type": "execute_result"
    }
   ],
   "source": [
    "lower_bound_evol"
   ]
  },
  {
   "cell_type": "code",
   "execution_count": 13,
   "metadata": {},
   "outputs": [
    {
     "name": "stdout",
     "output_type": "stream",
     "text": [
      "Have\u001b[0m a\u001b[0m \u001b[31mjolly\u001b[0m \u001b[31mchristmas\u001b[0m at\u001b[0m \u001b[31muniversity\u001b[0m !\u001b[0m\n",
      "\u001b[31mMerry\u001b[0m \u001b[31mchristmas\u001b[0m ,\u001b[0m \u001b[31mJens\u001b[0m \u001b[31mLagergen\u001b[0m !\u001b[0m\n",
      "\u001b[31mChristmas\u001b[0m is\u001b[0m a\u001b[0m very\u001b[0m \u001b[31mmerry\u001b[0m \u001b[31mtime\u001b[0m .\u001b[0m\n",
      "\u001b[31mJens\u001b[0m \u001b[31mLagergen\u001b[0m is\u001b[0m the\u001b[0m \u001b[31mbest\u001b[0m \u001b[31mprofessor\u001b[0m at\u001b[0m \u001b[31muniversity\u001b[0m .\u001b[0m\n",
      "\u001b[31mUniversities\u001b[0m are\u001b[0m \u001b[31mimportant\u001b[0m \u001b[31mlearning\u001b[0m \u001b[31mcenters\u001b[0m .\u001b[0m \u001b[31mEspecially\u001b[0m because\u001b[0m of\u001b[0m \u001b[31mJens\u001b[0m \u001b[31mLagergen\u001b[0m .\u001b[0m\n",
      "What\u001b[0m even\u001b[0m is\u001b[0m a\u001b[0m \u001b[32muniversity\u001b[0m ?\u001b[0m \u001b[32mExperts\u001b[0m \u001b[32mdisagree\u001b[0m .\u001b[0m\n"
     ]
    }
   ],
   "source": [
    "colored = color_by_phis(corpus, params['phis'])\n",
    "for text in colored.values():\n",
    "    print(text)"
   ]
  }
 ],
 "metadata": {
  "kernelspec": {
   "display_name": "Python 3",
   "language": "python",
   "name": "python3"
  },
  "language_info": {
   "codemirror_mode": {
    "name": "ipython",
    "version": 3
   },
   "file_extension": ".py",
   "mimetype": "text/x-python",
   "name": "python",
   "nbconvert_exporter": "python",
   "pygments_lexer": "ipython3",
   "version": "3.9.1"
  },
  "widgets": {
   "application/vnd.jupyter.widget-state+json": {
    "state": {
     "019e80f5b6a34128ab73c8974430129f": {
      "model_module": "@jupyter-widgets/controls",
      "model_module_version": "1.5.0",
      "model_name": "HTMLModel",
      "state": {
       "layout": "IPY_MODEL_4682c22d2226438c8b26a2d3b3c4aa26",
       "style": "IPY_MODEL_f2db43c24f8c406aa58beb8cb60b5ffd",
       "value": "100%"
      }
     },
     "03070a4f4b494543b4d87d14861c7300": {
      "model_module": "@jupyter-widgets/base",
      "model_module_version": "1.2.0",
      "model_name": "LayoutModel",
      "state": {}
     },
     "067a4445b66142449bd1a472246662ff": {
      "model_module": "@jupyter-widgets/controls",
      "model_module_version": "1.5.0",
      "model_name": "ProgressStyleModel",
      "state": {
       "description_width": ""
      }
     },
     "0ae920b0d6e1478c9a864c0e7133ffda": {
      "model_module": "@jupyter-widgets/controls",
      "model_module_version": "1.5.0",
      "model_name": "ProgressStyleModel",
      "state": {
       "description_width": ""
      }
     },
     "0bcc45618e92472d8adb60f430a45e69": {
      "model_module": "@jupyter-widgets/controls",
      "model_module_version": "1.5.0",
      "model_name": "DescriptionStyleModel",
      "state": {
       "description_width": ""
      }
     },
     "12187e8168294ed89ba2ed5a8a8ed102": {
      "model_module": "@jupyter-widgets/controls",
      "model_module_version": "1.5.0",
      "model_name": "ProgressStyleModel",
      "state": {
       "description_width": ""
      }
     },
     "12469770c30a41719fe36f541a71361d": {
      "model_module": "@jupyter-widgets/base",
      "model_module_version": "1.2.0",
      "model_name": "LayoutModel",
      "state": {}
     },
     "13fb3071fa7b4bb79b463f67b044b0bc": {
      "model_module": "@jupyter-widgets/base",
      "model_module_version": "1.2.0",
      "model_name": "LayoutModel",
      "state": {}
     },
     "1487452fb7aa411bac59acad3f63be18": {
      "model_module": "@jupyter-widgets/controls",
      "model_module_version": "1.5.0",
      "model_name": "HTMLModel",
      "state": {
       "layout": "IPY_MODEL_7c56d816f00347e4b90f904ff4e9bc3b",
       "style": "IPY_MODEL_fc91f95fbefd4b008a4061886217d29f",
       "value": "  0%"
      }
     },
     "14b381712025400bb2e6415a0e93b419": {
      "model_module": "@jupyter-widgets/controls",
      "model_module_version": "1.5.0",
      "model_name": "FloatProgressModel",
      "state": {
       "bar_style": "danger",
       "layout": "IPY_MODEL_efc9417be07e4845951c73cca07367d6",
       "max": 64,
       "style": "IPY_MODEL_857d2d78c0064503b89b3051b63cf2aa"
      }
     },
     "177c301a9146450699aefd3bda149097": {
      "model_module": "@jupyter-widgets/controls",
      "model_module_version": "1.5.0",
      "model_name": "HTMLModel",
      "state": {
       "layout": "IPY_MODEL_60d8246fd13e4d2e8ffcd7452f1f80e2",
       "style": "IPY_MODEL_6fa3ae8388aa4186845412bc140a0e15",
       "value": "100%"
      }
     },
     "195543538d5d4c548ee00ac718cf80e1": {
      "model_module": "@jupyter-widgets/base",
      "model_module_version": "1.2.0",
      "model_name": "LayoutModel",
      "state": {}
     },
     "1a8f3e17c6b9447990d90d2b3a42b4c2": {
      "model_module": "@jupyter-widgets/controls",
      "model_module_version": "1.5.0",
      "model_name": "FloatProgressModel",
      "state": {
       "bar_style": "success",
       "layout": "IPY_MODEL_1c9ef5ff103340549a310aec33b796fb",
       "max": 64,
       "style": "IPY_MODEL_c97fd488b032414caa715f873d8afe46",
       "value": 64
      }
     },
     "1c9ef5ff103340549a310aec33b796fb": {
      "model_module": "@jupyter-widgets/base",
      "model_module_version": "1.2.0",
      "model_name": "LayoutModel",
      "state": {}
     },
     "1d1f3cfdcf424a62aff02b2bcb42ab51": {
      "model_module": "@jupyter-widgets/controls",
      "model_module_version": "1.5.0",
      "model_name": "DescriptionStyleModel",
      "state": {
       "description_width": ""
      }
     },
     "1d521429e9e54482934a5198bd7e566b": {
      "model_module": "@jupyter-widgets/base",
      "model_module_version": "1.2.0",
      "model_name": "LayoutModel",
      "state": {}
     },
     "1e980907ef6f48db9e6abef6b7949af3": {
      "model_module": "@jupyter-widgets/controls",
      "model_module_version": "1.5.0",
      "model_name": "DescriptionStyleModel",
      "state": {
       "description_width": ""
      }
     },
     "1ee1a46743a1481cb71601733a234878": {
      "model_module": "@jupyter-widgets/base",
      "model_module_version": "1.2.0",
      "model_name": "LayoutModel",
      "state": {}
     },
     "1f55aef79b924311bde5442eb78105b2": {
      "model_module": "@jupyter-widgets/controls",
      "model_module_version": "1.5.0",
      "model_name": "DescriptionStyleModel",
      "state": {
       "description_width": ""
      }
     },
     "1fc506d3c3cc435eb4319ef229c092b1": {
      "model_module": "@jupyter-widgets/base",
      "model_module_version": "1.2.0",
      "model_name": "LayoutModel",
      "state": {}
     },
     "245dc73bab664f33b68a7d0852df01fb": {
      "model_module": "@jupyter-widgets/controls",
      "model_module_version": "1.5.0",
      "model_name": "HTMLModel",
      "state": {
       "layout": "IPY_MODEL_706d0defbc5e4c8ca67860bb8554c1f2",
       "style": "IPY_MODEL_ebce26bbcf9742f388dee7fa617f8294",
       "value": " 64/64 [00:16&lt;00:00,  3.86it/s]"
      }
     },
     "2563c7208ab1477c8c9e532b8adcc91d": {
      "model_module": "@jupyter-widgets/controls",
      "model_module_version": "1.5.0",
      "model_name": "HBoxModel",
      "state": {
       "children": [
        "IPY_MODEL_46a8d9443a704b538d6c3a4fb72335a7",
        "IPY_MODEL_363505bb40a0441b80e4d05436d32a75",
        "IPY_MODEL_f589306b5a424be28e010a13b25b4987"
       ],
       "layout": "IPY_MODEL_195543538d5d4c548ee00ac718cf80e1"
      }
     },
     "26d730736557431e9f5ddaa6ae2832e5": {
      "model_module": "@jupyter-widgets/controls",
      "model_module_version": "1.5.0",
      "model_name": "DescriptionStyleModel",
      "state": {
       "description_width": ""
      }
     },
     "2d651e0bedf4404a898645db274209a0": {
      "model_module": "@jupyter-widgets/controls",
      "model_module_version": "1.5.0",
      "model_name": "HTMLModel",
      "state": {
       "layout": "IPY_MODEL_7bb50aeba0044ac88235f06d55533b4a",
       "style": "IPY_MODEL_7b92ab954deb4d02bdde05ba9d3787f5",
       "value": "100%"
      }
     },
     "2e17bea8dd79425189cf6c68425dce45": {
      "model_module": "@jupyter-widgets/controls",
      "model_module_version": "1.5.0",
      "model_name": "FloatProgressModel",
      "state": {
       "bar_style": "success",
       "layout": "IPY_MODEL_5533211dfbd3400eb99821cefcd17fcb",
       "max": 64,
       "style": "IPY_MODEL_eb333a4264f24632871234a33648e435",
       "value": 64
      }
     },
     "2f351ccd2fd24865bd94137f12290a98": {
      "model_module": "@jupyter-widgets/controls",
      "model_module_version": "1.5.0",
      "model_name": "HTMLModel",
      "state": {
       "layout": "IPY_MODEL_6c7446fa8d484b328d1f4872bf87ac4c",
       "style": "IPY_MODEL_da7e5cdb0ba1432b80bbb0fccab407be",
       "value": " 64/64 [00:11&lt;00:00,  5.38it/s]"
      }
     },
     "3250d716f6fc4f2a90b68486544a6fd6": {
      "model_module": "@jupyter-widgets/controls",
      "model_module_version": "1.5.0",
      "model_name": "ProgressStyleModel",
      "state": {
       "description_width": ""
      }
     },
     "343281f1f61546be8d076df5fefb0f04": {
      "model_module": "@jupyter-widgets/controls",
      "model_module_version": "1.5.0",
      "model_name": "DescriptionStyleModel",
      "state": {
       "description_width": ""
      }
     },
     "363505bb40a0441b80e4d05436d32a75": {
      "model_module": "@jupyter-widgets/controls",
      "model_module_version": "1.5.0",
      "model_name": "FloatProgressModel",
      "state": {
       "bar_style": "success",
       "layout": "IPY_MODEL_bce22f7f9a074f7ebd8a108f6bf982b0",
       "max": 64,
       "style": "IPY_MODEL_e3e229e62e20404192e634e95d018419",
       "value": 64
      }
     },
     "37f487724c0e4265b7ba2bb6472c7e09": {
      "model_module": "@jupyter-widgets/controls",
      "model_module_version": "1.5.0",
      "model_name": "HTMLModel",
      "state": {
       "layout": "IPY_MODEL_5281f5ea3a704814b7f4df2b1ba5d245",
       "style": "IPY_MODEL_66f56c22be2c4b8ba61032de62c80e20",
       "value": " 64/64 [00:11&lt;00:00,  5.56it/s]"
      }
     },
     "395e9a6e515d488b9ed0364446dfec7f": {
      "model_module": "@jupyter-widgets/base",
      "model_module_version": "1.2.0",
      "model_name": "LayoutModel",
      "state": {}
     },
     "4682c22d2226438c8b26a2d3b3c4aa26": {
      "model_module": "@jupyter-widgets/base",
      "model_module_version": "1.2.0",
      "model_name": "LayoutModel",
      "state": {}
     },
     "46a8d9443a704b538d6c3a4fb72335a7": {
      "model_module": "@jupyter-widgets/controls",
      "model_module_version": "1.5.0",
      "model_name": "HTMLModel",
      "state": {
       "layout": "IPY_MODEL_c3ebb3d904654d1d82a40ac760e17da5",
       "style": "IPY_MODEL_1d1f3cfdcf424a62aff02b2bcb42ab51",
       "value": "100%"
      }
     },
     "47f247d4e9ce43e2af4d5c222582684c": {
      "model_module": "@jupyter-widgets/controls",
      "model_module_version": "1.5.0",
      "model_name": "FloatProgressModel",
      "state": {
       "bar_style": "success",
       "layout": "IPY_MODEL_5391a11fd3584e01b816ff5d53ef6284",
       "max": 64,
       "style": "IPY_MODEL_067a4445b66142449bd1a472246662ff",
       "value": 64
      }
     },
     "4ae3b8b243164abfbcdfd262b03586f5": {
      "model_module": "@jupyter-widgets/base",
      "model_module_version": "1.2.0",
      "model_name": "LayoutModel",
      "state": {}
     },
     "4af8a61fb75440aaa2998335ba03d56b": {
      "model_module": "@jupyter-widgets/base",
      "model_module_version": "1.2.0",
      "model_name": "LayoutModel",
      "state": {}
     },
     "4d7174280c2f4ba1b7b25fab9cbb315d": {
      "model_module": "@jupyter-widgets/base",
      "model_module_version": "1.2.0",
      "model_name": "LayoutModel",
      "state": {}
     },
     "521bff20058548f6afc6a8ba86d4b5f5": {
      "model_module": "@jupyter-widgets/base",
      "model_module_version": "1.2.0",
      "model_name": "LayoutModel",
      "state": {}
     },
     "5237e8d6e7964f7087231a73b5d7b536": {
      "model_module": "@jupyter-widgets/controls",
      "model_module_version": "1.5.0",
      "model_name": "HTMLModel",
      "state": {
       "layout": "IPY_MODEL_1fc506d3c3cc435eb4319ef229c092b1",
       "style": "IPY_MODEL_26d730736557431e9f5ddaa6ae2832e5",
       "value": "100%"
      }
     },
     "5281f5ea3a704814b7f4df2b1ba5d245": {
      "model_module": "@jupyter-widgets/base",
      "model_module_version": "1.2.0",
      "model_name": "LayoutModel",
      "state": {}
     },
     "5391a11fd3584e01b816ff5d53ef6284": {
      "model_module": "@jupyter-widgets/base",
      "model_module_version": "1.2.0",
      "model_name": "LayoutModel",
      "state": {}
     },
     "5533211dfbd3400eb99821cefcd17fcb": {
      "model_module": "@jupyter-widgets/base",
      "model_module_version": "1.2.0",
      "model_name": "LayoutModel",
      "state": {}
     },
     "5963716d9b8942558371e732bc4e972f": {
      "model_module": "@jupyter-widgets/controls",
      "model_module_version": "1.5.0",
      "model_name": "HTMLModel",
      "state": {
       "layout": "IPY_MODEL_e100e9cfe6dd4d86966ea1c4c9fcd0a8",
       "style": "IPY_MODEL_b787482009244f2fab4e0a4264890c2b",
       "value": " 64/64 [00:18&lt;00:00,  3.53it/s]"
      }
     },
     "59e736ecbb1740819a863258071d8250": {
      "model_module": "@jupyter-widgets/controls",
      "model_module_version": "1.5.0",
      "model_name": "HBoxModel",
      "state": {
       "children": [
        "IPY_MODEL_2d651e0bedf4404a898645db274209a0",
        "IPY_MODEL_ae4e56d3b44f4cec8a7a239f12a58489",
        "IPY_MODEL_b2dea99d7916414787763a38ad855743"
       ],
       "layout": "IPY_MODEL_1ee1a46743a1481cb71601733a234878"
      }
     },
     "5cb6024d7c88460480aa626f9b4ec0b9": {
      "model_module": "@jupyter-widgets/controls",
      "model_module_version": "1.5.0",
      "model_name": "HBoxModel",
      "state": {
       "children": [
        "IPY_MODEL_1487452fb7aa411bac59acad3f63be18",
        "IPY_MODEL_14b381712025400bb2e6415a0e93b419",
        "IPY_MODEL_d4763823784946718362642bf0df6934"
       ],
       "layout": "IPY_MODEL_13fb3071fa7b4bb79b463f67b044b0bc"
      }
     },
     "60d8246fd13e4d2e8ffcd7452f1f80e2": {
      "model_module": "@jupyter-widgets/base",
      "model_module_version": "1.2.0",
      "model_name": "LayoutModel",
      "state": {}
     },
     "6199f7105d694687960177a2ed148796": {
      "model_module": "@jupyter-widgets/base",
      "model_module_version": "1.2.0",
      "model_name": "LayoutModel",
      "state": {}
     },
     "61c9ec0aa538449bb990673add59b022": {
      "model_module": "@jupyter-widgets/controls",
      "model_module_version": "1.5.0",
      "model_name": "HBoxModel",
      "state": {
       "children": [
        "IPY_MODEL_019e80f5b6a34128ab73c8974430129f",
        "IPY_MODEL_2e17bea8dd79425189cf6c68425dce45",
        "IPY_MODEL_6e90d8fa3a564f8eb5be95b0c7b9258e"
       ],
       "layout": "IPY_MODEL_d9738a9956ff4badb95df7c6ae559cbb"
      }
     },
     "6210b1f831904be39fcf7848ff35de80": {
      "model_module": "@jupyter-widgets/controls",
      "model_module_version": "1.5.0",
      "model_name": "HTMLModel",
      "state": {
       "layout": "IPY_MODEL_4d7174280c2f4ba1b7b25fab9cbb315d",
       "style": "IPY_MODEL_f87020f2167e4d1082fd6918168d4388",
       "value": "100%"
      }
     },
     "62322cae68c0441ebfa523a8585d4243": {
      "model_module": "@jupyter-widgets/base",
      "model_module_version": "1.2.0",
      "model_name": "LayoutModel",
      "state": {}
     },
     "626347bc49ea4c4c91382defdef4eb69": {
      "model_module": "@jupyter-widgets/controls",
      "model_module_version": "1.5.0",
      "model_name": "HTMLModel",
      "state": {
       "layout": "IPY_MODEL_fd54aace021b499f968b11afbad17ddc",
       "style": "IPY_MODEL_64236e9efe594a6f9491993ae8c5f5ac",
       "value": "100%"
      }
     },
     "64236e9efe594a6f9491993ae8c5f5ac": {
      "model_module": "@jupyter-widgets/controls",
      "model_module_version": "1.5.0",
      "model_name": "DescriptionStyleModel",
      "state": {
       "description_width": ""
      }
     },
     "66142d8ebcd94d19a0d8e5d1ee3fc10d": {
      "model_module": "@jupyter-widgets/base",
      "model_module_version": "1.2.0",
      "model_name": "LayoutModel",
      "state": {}
     },
     "66f56c22be2c4b8ba61032de62c80e20": {
      "model_module": "@jupyter-widgets/controls",
      "model_module_version": "1.5.0",
      "model_name": "DescriptionStyleModel",
      "state": {
       "description_width": ""
      }
     },
     "688f38611d904ed58ae42a66e4009820": {
      "model_module": "@jupyter-widgets/controls",
      "model_module_version": "1.5.0",
      "model_name": "DescriptionStyleModel",
      "state": {
       "description_width": ""
      }
     },
     "6c7446fa8d484b328d1f4872bf87ac4c": {
      "model_module": "@jupyter-widgets/base",
      "model_module_version": "1.2.0",
      "model_name": "LayoutModel",
      "state": {}
     },
     "6cdd0c581a774dc1bfde0349e9ea8a5e": {
      "model_module": "@jupyter-widgets/controls",
      "model_module_version": "1.5.0",
      "model_name": "HTMLModel",
      "state": {
       "layout": "IPY_MODEL_ca8178652a66429dbdc472e83655c117",
       "style": "IPY_MODEL_dd2f545401794958b615c962dbe584c2",
       "value": " 64/64 [00:12&lt;00:00,  5.03it/s]"
      }
     },
     "6e90d8fa3a564f8eb5be95b0c7b9258e": {
      "model_module": "@jupyter-widgets/controls",
      "model_module_version": "1.5.0",
      "model_name": "HTMLModel",
      "state": {
       "layout": "IPY_MODEL_1d521429e9e54482934a5198bd7e566b",
       "style": "IPY_MODEL_1f55aef79b924311bde5442eb78105b2",
       "value": " 64/64 [00:18&lt;00:00,  3.61it/s]"
      }
     },
     "6fa3ae8388aa4186845412bc140a0e15": {
      "model_module": "@jupyter-widgets/controls",
      "model_module_version": "1.5.0",
      "model_name": "DescriptionStyleModel",
      "state": {
       "description_width": ""
      }
     },
     "706d0defbc5e4c8ca67860bb8554c1f2": {
      "model_module": "@jupyter-widgets/base",
      "model_module_version": "1.2.0",
      "model_name": "LayoutModel",
      "state": {}
     },
     "71558d51863049cdac1dda08e1966164": {
      "model_module": "@jupyter-widgets/base",
      "model_module_version": "1.2.0",
      "model_name": "LayoutModel",
      "state": {}
     },
     "74f68497d6b543338d8aae522d2bd809": {
      "model_module": "@jupyter-widgets/controls",
      "model_module_version": "1.5.0",
      "model_name": "HTMLModel",
      "state": {
       "layout": "IPY_MODEL_395e9a6e515d488b9ed0364446dfec7f",
       "style": "IPY_MODEL_1e980907ef6f48db9e6abef6b7949af3",
       "value": "100%"
      }
     },
     "76eeb7031a504e179f8a6297600c4636": {
      "model_module": "@jupyter-widgets/controls",
      "model_module_version": "1.5.0",
      "model_name": "HTMLModel",
      "state": {
       "layout": "IPY_MODEL_786798150b3a4d31b52bab94209912cd",
       "style": "IPY_MODEL_962be893c04741e989ac5babb97c2d3f",
       "value": " 64/64 [00:13&lt;00:00,  4.69it/s]"
      }
     },
     "786798150b3a4d31b52bab94209912cd": {
      "model_module": "@jupyter-widgets/base",
      "model_module_version": "1.2.0",
      "model_name": "LayoutModel",
      "state": {}
     },
     "7b92ab954deb4d02bdde05ba9d3787f5": {
      "model_module": "@jupyter-widgets/controls",
      "model_module_version": "1.5.0",
      "model_name": "DescriptionStyleModel",
      "state": {
       "description_width": ""
      }
     },
     "7bb50aeba0044ac88235f06d55533b4a": {
      "model_module": "@jupyter-widgets/base",
      "model_module_version": "1.2.0",
      "model_name": "LayoutModel",
      "state": {}
     },
     "7c03a2312adc416399ceae12d7e26053": {
      "model_module": "@jupyter-widgets/controls",
      "model_module_version": "1.5.0",
      "model_name": "HBoxModel",
      "state": {
       "children": [
        "IPY_MODEL_8357c3b68dac43389231dbdd8a232739",
        "IPY_MODEL_1a8f3e17c6b9447990d90d2b3a42b4c2",
        "IPY_MODEL_6cdd0c581a774dc1bfde0349e9ea8a5e"
       ],
       "layout": "IPY_MODEL_e6194cfc66c54cf2ae432fead072b0da"
      }
     },
     "7c56d816f00347e4b90f904ff4e9bc3b": {
      "model_module": "@jupyter-widgets/base",
      "model_module_version": "1.2.0",
      "model_name": "LayoutModel",
      "state": {}
     },
     "7d03ca15dc2f40fb996550d6a3ee0fd3": {
      "model_module": "@jupyter-widgets/controls",
      "model_module_version": "1.5.0",
      "model_name": "FloatProgressModel",
      "state": {
       "bar_style": "success",
       "layout": "IPY_MODEL_9d17c42cba5249c2bcaed5f6f1eb7000",
       "max": 64,
       "style": "IPY_MODEL_3250d716f6fc4f2a90b68486544a6fd6",
       "value": 64
      }
     },
     "831e5969b52d4012a5bb9afdfb2711b5": {
      "model_module": "@jupyter-widgets/base",
      "model_module_version": "1.2.0",
      "model_name": "LayoutModel",
      "state": {}
     },
     "8357c3b68dac43389231dbdd8a232739": {
      "model_module": "@jupyter-widgets/controls",
      "model_module_version": "1.5.0",
      "model_name": "HTMLModel",
      "state": {
       "layout": "IPY_MODEL_ad812994f76a4fe7af82d0b1e3a32a29",
       "style": "IPY_MODEL_343281f1f61546be8d076df5fefb0f04",
       "value": "100%"
      }
     },
     "85360902288b41d2bc38fc7c747ca8da": {
      "model_module": "@jupyter-widgets/controls",
      "model_module_version": "1.5.0",
      "model_name": "ProgressStyleModel",
      "state": {
       "description_width": ""
      }
     },
     "857d2d78c0064503b89b3051b63cf2aa": {
      "model_module": "@jupyter-widgets/controls",
      "model_module_version": "1.5.0",
      "model_name": "ProgressStyleModel",
      "state": {
       "description_width": ""
      }
     },
     "858cb8abd74c48289fea4dc32ad1a2f7": {
      "model_module": "@jupyter-widgets/base",
      "model_module_version": "1.2.0",
      "model_name": "LayoutModel",
      "state": {}
     },
     "869e0d2968b24e2dbdd57f97f28fe0cf": {
      "model_module": "@jupyter-widgets/controls",
      "model_module_version": "1.5.0",
      "model_name": "HBoxModel",
      "state": {
       "children": [
        "IPY_MODEL_74f68497d6b543338d8aae522d2bd809",
        "IPY_MODEL_e3812411a390433384a94a3788c47d0a",
        "IPY_MODEL_37f487724c0e4265b7ba2bb6472c7e09"
       ],
       "layout": "IPY_MODEL_a3e412de64414a4a9583929c4b367200"
      }
     },
     "8971bfffac8c48089b58731403a0f213": {
      "model_module": "@jupyter-widgets/base",
      "model_module_version": "1.2.0",
      "model_name": "LayoutModel",
      "state": {}
     },
     "8a5aa237472c4ea6a051ffa5f3ffc617": {
      "model_module": "@jupyter-widgets/base",
      "model_module_version": "1.2.0",
      "model_name": "LayoutModel",
      "state": {}
     },
     "8e608927b2894f6481954e3955bd7055": {
      "model_module": "@jupyter-widgets/controls",
      "model_module_version": "1.5.0",
      "model_name": "FloatProgressModel",
      "state": {
       "bar_style": "success",
       "layout": "IPY_MODEL_93b80d2915064680b27d9557909cad2b",
       "max": 64,
       "style": "IPY_MODEL_8ee422aee26c44c29732824b075bf8b6",
       "value": 64
      }
     },
     "8ee422aee26c44c29732824b075bf8b6": {
      "model_module": "@jupyter-widgets/controls",
      "model_module_version": "1.5.0",
      "model_name": "ProgressStyleModel",
      "state": {
       "description_width": ""
      }
     },
     "90ef56547a8f4d34850cf0c4a8f28f10": {
      "model_module": "@jupyter-widgets/controls",
      "model_module_version": "1.5.0",
      "model_name": "FloatProgressModel",
      "state": {
       "bar_style": "success",
       "layout": "IPY_MODEL_03070a4f4b494543b4d87d14861c7300",
       "max": 64,
       "style": "IPY_MODEL_d4bff07b8d80443892c6c7d980366e6f",
       "value": 64
      }
     },
     "92aec23b81064dbfb1391024d65aa82f": {
      "model_module": "@jupyter-widgets/controls",
      "model_module_version": "1.5.0",
      "model_name": "DescriptionStyleModel",
      "state": {
       "description_width": ""
      }
     },
     "93b80d2915064680b27d9557909cad2b": {
      "model_module": "@jupyter-widgets/base",
      "model_module_version": "1.2.0",
      "model_name": "LayoutModel",
      "state": {}
     },
     "962be893c04741e989ac5babb97c2d3f": {
      "model_module": "@jupyter-widgets/controls",
      "model_module_version": "1.5.0",
      "model_name": "DescriptionStyleModel",
      "state": {
       "description_width": ""
      }
     },
     "97d8dcc2452343ebb0d5a6bc34fd4402": {
      "model_module": "@jupyter-widgets/controls",
      "model_module_version": "1.5.0",
      "model_name": "FloatProgressModel",
      "state": {
       "bar_style": "success",
       "layout": "IPY_MODEL_71558d51863049cdac1dda08e1966164",
       "max": 64,
       "style": "IPY_MODEL_85360902288b41d2bc38fc7c747ca8da",
       "value": 64
      }
     },
     "9d17c42cba5249c2bcaed5f6f1eb7000": {
      "model_module": "@jupyter-widgets/base",
      "model_module_version": "1.2.0",
      "model_name": "LayoutModel",
      "state": {}
     },
     "9e535432fa8840798f965d22578f1677": {
      "model_module": "@jupyter-widgets/controls",
      "model_module_version": "1.5.0",
      "model_name": "HTMLModel",
      "state": {
       "layout": "IPY_MODEL_12469770c30a41719fe36f541a71361d",
       "style": "IPY_MODEL_adf91e4de71e42929524ac7f6ff79570",
       "value": "100%"
      }
     },
     "a3e412de64414a4a9583929c4b367200": {
      "model_module": "@jupyter-widgets/base",
      "model_module_version": "1.2.0",
      "model_name": "LayoutModel",
      "state": {}
     },
     "a9daca9e4c2d4600965d4cc5b27502b6": {
      "model_module": "@jupyter-widgets/controls",
      "model_module_version": "1.5.0",
      "model_name": "DescriptionStyleModel",
      "state": {
       "description_width": ""
      }
     },
     "ad812994f76a4fe7af82d0b1e3a32a29": {
      "model_module": "@jupyter-widgets/base",
      "model_module_version": "1.2.0",
      "model_name": "LayoutModel",
      "state": {}
     },
     "add59501c10141fa9260b99662501828": {
      "model_module": "@jupyter-widgets/controls",
      "model_module_version": "1.5.0",
      "model_name": "HBoxModel",
      "state": {
       "children": [
        "IPY_MODEL_5237e8d6e7964f7087231a73b5d7b536",
        "IPY_MODEL_97d8dcc2452343ebb0d5a6bc34fd4402",
        "IPY_MODEL_76eeb7031a504e179f8a6297600c4636"
       ],
       "layout": "IPY_MODEL_4ae3b8b243164abfbcdfd262b03586f5"
      }
     },
     "adf91e4de71e42929524ac7f6ff79570": {
      "model_module": "@jupyter-widgets/controls",
      "model_module_version": "1.5.0",
      "model_name": "DescriptionStyleModel",
      "state": {
       "description_width": ""
      }
     },
     "ae4e56d3b44f4cec8a7a239f12a58489": {
      "model_module": "@jupyter-widgets/controls",
      "model_module_version": "1.5.0",
      "model_name": "FloatProgressModel",
      "state": {
       "bar_style": "success",
       "layout": "IPY_MODEL_66142d8ebcd94d19a0d8e5d1ee3fc10d",
       "max": 64,
       "style": "IPY_MODEL_12187e8168294ed89ba2ed5a8a8ed102",
       "value": 64
      }
     },
     "af6d3f8ecc884686a2af34ade48af085": {
      "model_module": "@jupyter-widgets/base",
      "model_module_version": "1.2.0",
      "model_name": "LayoutModel",
      "state": {}
     },
     "af94f054159544a3aff929d1ee14355f": {
      "model_module": "@jupyter-widgets/controls",
      "model_module_version": "1.5.0",
      "model_name": "ProgressStyleModel",
      "state": {
       "description_width": ""
      }
     },
     "b0e291c018bd4b04856a2d624fcbbf55": {
      "model_module": "@jupyter-widgets/controls",
      "model_module_version": "1.5.0",
      "model_name": "HBoxModel",
      "state": {
       "children": [
        "IPY_MODEL_9e535432fa8840798f965d22578f1677",
        "IPY_MODEL_47f247d4e9ce43e2af4d5c222582684c",
        "IPY_MODEL_5963716d9b8942558371e732bc4e972f"
       ],
       "layout": "IPY_MODEL_4af8a61fb75440aaa2998335ba03d56b"
      }
     },
     "b2dea99d7916414787763a38ad855743": {
      "model_module": "@jupyter-widgets/controls",
      "model_module_version": "1.5.0",
      "model_name": "HTMLModel",
      "state": {
       "layout": "IPY_MODEL_8971bfffac8c48089b58731403a0f213",
       "style": "IPY_MODEL_b970fbb1ae7b427ca4fcc52f7eb85fc5",
       "value": " 64/64 [00:13&lt;00:00,  4.89it/s]"
      }
     },
     "b4ff0b9f56f249f489149a35fcfed9c2": {
      "model_module": "@jupyter-widgets/controls",
      "model_module_version": "1.5.0",
      "model_name": "HBoxModel",
      "state": {
       "children": [
        "IPY_MODEL_6210b1f831904be39fcf7848ff35de80",
        "IPY_MODEL_7d03ca15dc2f40fb996550d6a3ee0fd3",
        "IPY_MODEL_ee0fb96ec3ae41e3a0b3586ac0a67afe"
       ],
       "layout": "IPY_MODEL_62322cae68c0441ebfa523a8585d4243"
      }
     },
     "b787482009244f2fab4e0a4264890c2b": {
      "model_module": "@jupyter-widgets/controls",
      "model_module_version": "1.5.0",
      "model_name": "DescriptionStyleModel",
      "state": {
       "description_width": ""
      }
     },
     "b970fbb1ae7b427ca4fcc52f7eb85fc5": {
      "model_module": "@jupyter-widgets/controls",
      "model_module_version": "1.5.0",
      "model_name": "DescriptionStyleModel",
      "state": {
       "description_width": ""
      }
     },
     "b9e85c89893f46a488c1a3b0c5c2f343": {
      "model_module": "@jupyter-widgets/base",
      "model_module_version": "1.2.0",
      "model_name": "LayoutModel",
      "state": {}
     },
     "bce22f7f9a074f7ebd8a108f6bf982b0": {
      "model_module": "@jupyter-widgets/base",
      "model_module_version": "1.2.0",
      "model_name": "LayoutModel",
      "state": {}
     },
     "c011adf95eca497681ddcf76c6d10fd6": {
      "model_module": "@jupyter-widgets/controls",
      "model_module_version": "1.5.0",
      "model_name": "HBoxModel",
      "state": {
       "children": [
        "IPY_MODEL_626347bc49ea4c4c91382defdef4eb69",
        "IPY_MODEL_d62edfc5a82c4d788ce2d9ac3257c3fd",
        "IPY_MODEL_ebd771112921481faace82206445690d"
       ],
       "layout": "IPY_MODEL_c660c6932e04427290a221059be616a7"
      }
     },
     "c11998d238e34a5888fa681fa53c9730": {
      "model_module": "@jupyter-widgets/controls",
      "model_module_version": "1.5.0",
      "model_name": "HBoxModel",
      "state": {
       "children": [
        "IPY_MODEL_f1f6d43d41354715a4f5e24c9ea36fe6",
        "IPY_MODEL_90ef56547a8f4d34850cf0c4a8f28f10",
        "IPY_MODEL_2f351ccd2fd24865bd94137f12290a98"
       ],
       "layout": "IPY_MODEL_dfb8b62f243a409db4edf84a02bfa9fa"
      }
     },
     "c3ebb3d904654d1d82a40ac760e17da5": {
      "model_module": "@jupyter-widgets/base",
      "model_module_version": "1.2.0",
      "model_name": "LayoutModel",
      "state": {}
     },
     "c660c6932e04427290a221059be616a7": {
      "model_module": "@jupyter-widgets/base",
      "model_module_version": "1.2.0",
      "model_name": "LayoutModel",
      "state": {}
     },
     "c97fd488b032414caa715f873d8afe46": {
      "model_module": "@jupyter-widgets/controls",
      "model_module_version": "1.5.0",
      "model_name": "ProgressStyleModel",
      "state": {
       "description_width": ""
      }
     },
     "ca8178652a66429dbdc472e83655c117": {
      "model_module": "@jupyter-widgets/base",
      "model_module_version": "1.2.0",
      "model_name": "LayoutModel",
      "state": {}
     },
     "d34033d3687d448f99338d56561346d8": {
      "model_module": "@jupyter-widgets/controls",
      "model_module_version": "1.5.0",
      "model_name": "HBoxModel",
      "state": {
       "children": [
        "IPY_MODEL_177c301a9146450699aefd3bda149097",
        "IPY_MODEL_8e608927b2894f6481954e3955bd7055",
        "IPY_MODEL_245dc73bab664f33b68a7d0852df01fb"
       ],
       "layout": "IPY_MODEL_af6d3f8ecc884686a2af34ade48af085"
      }
     },
     "d4763823784946718362642bf0df6934": {
      "model_module": "@jupyter-widgets/controls",
      "model_module_version": "1.5.0",
      "model_name": "HTMLModel",
      "state": {
       "layout": "IPY_MODEL_858cb8abd74c48289fea4dc32ad1a2f7",
       "style": "IPY_MODEL_688f38611d904ed58ae42a66e4009820",
       "value": " 0/64 [05:07&lt;?, ?it/s]"
      }
     },
     "d4bff07b8d80443892c6c7d980366e6f": {
      "model_module": "@jupyter-widgets/controls",
      "model_module_version": "1.5.0",
      "model_name": "ProgressStyleModel",
      "state": {
       "description_width": ""
      }
     },
     "d62edfc5a82c4d788ce2d9ac3257c3fd": {
      "model_module": "@jupyter-widgets/controls",
      "model_module_version": "1.5.0",
      "model_name": "FloatProgressModel",
      "state": {
       "bar_style": "success",
       "layout": "IPY_MODEL_521bff20058548f6afc6a8ba86d4b5f5",
       "max": 64,
       "style": "IPY_MODEL_0ae920b0d6e1478c9a864c0e7133ffda",
       "value": 64
      }
     },
     "d90a798244004b07a2c076d0cadffe6a": {
      "model_module": "@jupyter-widgets/base",
      "model_module_version": "1.2.0",
      "model_name": "LayoutModel",
      "state": {}
     },
     "d9738a9956ff4badb95df7c6ae559cbb": {
      "model_module": "@jupyter-widgets/base",
      "model_module_version": "1.2.0",
      "model_name": "LayoutModel",
      "state": {}
     },
     "da7e5cdb0ba1432b80bbb0fccab407be": {
      "model_module": "@jupyter-widgets/controls",
      "model_module_version": "1.5.0",
      "model_name": "DescriptionStyleModel",
      "state": {
       "description_width": ""
      }
     },
     "dd2f545401794958b615c962dbe584c2": {
      "model_module": "@jupyter-widgets/controls",
      "model_module_version": "1.5.0",
      "model_name": "DescriptionStyleModel",
      "state": {
       "description_width": ""
      }
     },
     "dfb8b62f243a409db4edf84a02bfa9fa": {
      "model_module": "@jupyter-widgets/base",
      "model_module_version": "1.2.0",
      "model_name": "LayoutModel",
      "state": {}
     },
     "e100e9cfe6dd4d86966ea1c4c9fcd0a8": {
      "model_module": "@jupyter-widgets/base",
      "model_module_version": "1.2.0",
      "model_name": "LayoutModel",
      "state": {}
     },
     "e3812411a390433384a94a3788c47d0a": {
      "model_module": "@jupyter-widgets/controls",
      "model_module_version": "1.5.0",
      "model_name": "FloatProgressModel",
      "state": {
       "bar_style": "success",
       "layout": "IPY_MODEL_b9e85c89893f46a488c1a3b0c5c2f343",
       "max": 64,
       "style": "IPY_MODEL_af94f054159544a3aff929d1ee14355f",
       "value": 64
      }
     },
     "e3e229e62e20404192e634e95d018419": {
      "model_module": "@jupyter-widgets/controls",
      "model_module_version": "1.5.0",
      "model_name": "ProgressStyleModel",
      "state": {
       "description_width": ""
      }
     },
     "e6194cfc66c54cf2ae432fead072b0da": {
      "model_module": "@jupyter-widgets/base",
      "model_module_version": "1.2.0",
      "model_name": "LayoutModel",
      "state": {}
     },
     "eb333a4264f24632871234a33648e435": {
      "model_module": "@jupyter-widgets/controls",
      "model_module_version": "1.5.0",
      "model_name": "ProgressStyleModel",
      "state": {
       "description_width": ""
      }
     },
     "ebce26bbcf9742f388dee7fa617f8294": {
      "model_module": "@jupyter-widgets/controls",
      "model_module_version": "1.5.0",
      "model_name": "DescriptionStyleModel",
      "state": {
       "description_width": ""
      }
     },
     "ebd771112921481faace82206445690d": {
      "model_module": "@jupyter-widgets/controls",
      "model_module_version": "1.5.0",
      "model_name": "HTMLModel",
      "state": {
       "layout": "IPY_MODEL_6199f7105d694687960177a2ed148796",
       "style": "IPY_MODEL_efc530f5c7f342ebb1513b4d403fceb8",
       "value": " 64/64 [00:12&lt;00:00,  5.42it/s]"
      }
     },
     "ee0fb96ec3ae41e3a0b3586ac0a67afe": {
      "model_module": "@jupyter-widgets/controls",
      "model_module_version": "1.5.0",
      "model_name": "HTMLModel",
      "state": {
       "layout": "IPY_MODEL_d90a798244004b07a2c076d0cadffe6a",
       "style": "IPY_MODEL_92aec23b81064dbfb1391024d65aa82f",
       "value": " 64/64 [00:14&lt;00:00,  5.28it/s]"
      }
     },
     "efc530f5c7f342ebb1513b4d403fceb8": {
      "model_module": "@jupyter-widgets/controls",
      "model_module_version": "1.5.0",
      "model_name": "DescriptionStyleModel",
      "state": {
       "description_width": ""
      }
     },
     "efc9417be07e4845951c73cca07367d6": {
      "model_module": "@jupyter-widgets/base",
      "model_module_version": "1.2.0",
      "model_name": "LayoutModel",
      "state": {}
     },
     "f1f6d43d41354715a4f5e24c9ea36fe6": {
      "model_module": "@jupyter-widgets/controls",
      "model_module_version": "1.5.0",
      "model_name": "HTMLModel",
      "state": {
       "layout": "IPY_MODEL_831e5969b52d4012a5bb9afdfb2711b5",
       "style": "IPY_MODEL_0bcc45618e92472d8adb60f430a45e69",
       "value": "100%"
      }
     },
     "f2db43c24f8c406aa58beb8cb60b5ffd": {
      "model_module": "@jupyter-widgets/controls",
      "model_module_version": "1.5.0",
      "model_name": "DescriptionStyleModel",
      "state": {
       "description_width": ""
      }
     },
     "f589306b5a424be28e010a13b25b4987": {
      "model_module": "@jupyter-widgets/controls",
      "model_module_version": "1.5.0",
      "model_name": "HTMLModel",
      "state": {
       "layout": "IPY_MODEL_8a5aa237472c4ea6a051ffa5f3ffc617",
       "style": "IPY_MODEL_a9daca9e4c2d4600965d4cc5b27502b6",
       "value": " 64/64 [00:20&lt;00:00,  3.12it/s]"
      }
     },
     "f87020f2167e4d1082fd6918168d4388": {
      "model_module": "@jupyter-widgets/controls",
      "model_module_version": "1.5.0",
      "model_name": "DescriptionStyleModel",
      "state": {
       "description_width": ""
      }
     },
     "fc91f95fbefd4b008a4061886217d29f": {
      "model_module": "@jupyter-widgets/controls",
      "model_module_version": "1.5.0",
      "model_name": "DescriptionStyleModel",
      "state": {
       "description_width": ""
      }
     },
     "fd54aace021b499f968b11afbad17ddc": {
      "model_module": "@jupyter-widgets/base",
      "model_module_version": "1.2.0",
      "model_name": "LayoutModel",
      "state": {}
     }
    },
    "version_major": 2,
    "version_minor": 0
   }
  }
 },
 "nbformat": 4,
 "nbformat_minor": 4
}
