{
 "cells": [
  {
   "cell_type": "code",
   "execution_count": 1,
   "metadata": {
    "execution": {
     "iopub.execute_input": "2020-12-21T15:08:02.729110Z",
     "iopub.status.busy": "2020-12-21T15:08:02.728343Z",
     "iopub.status.idle": "2020-12-21T15:08:07.963065Z",
     "shell.execute_reply": "2020-12-21T15:08:07.962284Z"
    }
   },
   "outputs": [],
   "source": [
    "from lda import data"
   ]
  },
  {
   "cell_type": "markdown",
   "metadata": {},
   "source": [
    "Each dataset is represented as a corpus object, which is really just a list of documents in a fancy wrapper."
   ]
  },
  {
   "cell_type": "code",
   "execution_count": 2,
   "metadata": {
    "execution": {
     "iopub.execute_input": "2020-12-21T15:08:07.972384Z",
     "iopub.status.busy": "2020-12-21T15:08:07.971667Z",
     "iopub.status.idle": "2020-12-21T15:08:07.974837Z",
     "shell.execute_reply": "2020-12-21T15:08:07.974367Z"
    }
   },
   "outputs": [
    {
     "data": {
      "text/plain": [
       "Corpus with 19042 documents"
      ]
     },
     "execution_count": 1,
     "metadata": {},
     "output_type": "execute_result"
    }
   ],
   "source": [
    "data.reuters"
   ]
  },
  {
   "cell_type": "markdown",
   "metadata": {},
   "source": [
    "Each document is, in turn, a list of words in a wrapper."
   ]
  },
  {
   "cell_type": "code",
   "execution_count": 3,
   "metadata": {
    "execution": {
     "iopub.execute_input": "2020-12-21T15:08:07.978553Z",
     "iopub.status.busy": "2020-12-21T15:08:07.977985Z",
     "iopub.status.idle": "2020-12-21T15:08:07.980847Z",
     "shell.execute_reply": "2020-12-21T15:08:07.980375Z"
    }
   },
   "outputs": [
    {
     "data": {
      "text/plain": [
       "Document including 43 words"
      ]
     },
     "execution_count": 1,
     "metadata": {},
     "output_type": "execute_result"
    }
   ],
   "source": [
    "data.reuters.documents[0]"
   ]
  },
  {
   "cell_type": "markdown",
   "metadata": {},
   "source": [
    "The Reuters dataset also has titles and topics for documents. This won't always be the case, though."
   ]
  },
  {
   "cell_type": "code",
   "execution_count": 4,
   "metadata": {
    "execution": {
     "iopub.execute_input": "2020-12-21T15:08:07.984316Z",
     "iopub.status.busy": "2020-12-21T15:08:07.983784Z",
     "iopub.status.idle": "2020-12-21T15:08:07.986187Z",
     "shell.execute_reply": "2020-12-21T15:08:07.986609Z"
    }
   },
   "outputs": [
    {
     "data": {
      "text/plain": [
       "'CHRYSLER <C> LATE MARCH U.S. CAR SALES UP'"
      ]
     },
     "execution_count": 1,
     "metadata": {},
     "output_type": "execute_result"
    }
   ],
   "source": [
    "data.reuters.documents[0].title"
   ]
  },
  {
   "cell_type": "code",
   "execution_count": 5,
   "metadata": {
    "execution": {
     "iopub.execute_input": "2020-12-21T15:08:07.989876Z",
     "iopub.status.busy": "2020-12-21T15:08:07.989352Z",
     "iopub.status.idle": "2020-12-21T15:08:07.991733Z",
     "shell.execute_reply": "2020-12-21T15:08:07.992152Z"
    }
   },
   "outputs": [
    {
     "data": {
      "text/plain": [
       "['ship', 'crude']"
      ]
     },
     "execution_count": 1,
     "metadata": {},
     "output_type": "execute_result"
    }
   ],
   "source": [
    "data.reuters.documents[70].topics"
   ]
  },
  {
   "cell_type": "markdown",
   "metadata": {},
   "source": [
    "A word has three important attributes:\n",
    "* Its original form (how it is displayed in text)\n",
    "* Its LDA form (standardized so that case etc. don't matter)\n",
    "* Whether it should be included in LDA (for example, the word \"the\" or \".\" should not)"
   ]
  },
  {
   "cell_type": "code",
   "execution_count": 6,
   "metadata": {
    "execution": {
     "iopub.execute_input": "2020-12-21T15:08:07.995792Z",
     "iopub.status.busy": "2020-12-21T15:08:07.995130Z",
     "iopub.status.idle": "2020-12-21T15:08:07.997671Z",
     "shell.execute_reply": "2020-12-21T15:08:07.998124Z"
    }
   },
   "outputs": [
    {
     "data": {
      "text/plain": [
       "Word(original_form='Chrysler', lda_form='chrysler', include=True)"
      ]
     },
     "execution_count": 1,
     "metadata": {},
     "output_type": "execute_result"
    }
   ],
   "source": [
    "data.reuters.documents[0].words[0]"
   ]
  },
  {
   "cell_type": "code",
   "execution_count": 7,
   "metadata": {
    "execution": {
     "iopub.execute_input": "2020-12-21T15:08:08.001813Z",
     "iopub.status.busy": "2020-12-21T15:08:08.001088Z",
     "iopub.status.idle": "2020-12-21T15:08:08.004182Z",
     "shell.execute_reply": "2020-12-21T15:08:08.003616Z"
    }
   },
   "outputs": [
    {
     "data": {
      "text/plain": [
       "Word(original_form='\\n', lda_form='\\n', include=False)"
      ]
     },
     "execution_count": 1,
     "metadata": {},
     "output_type": "execute_result"
    }
   ],
   "source": [
    "data.reuters.documents[0].words[7]"
   ]
  },
  {
   "cell_type": "markdown",
   "metadata": {},
   "source": [
    "You can also easily ask for only the words which should be included in LDA."
   ]
  },
  {
   "cell_type": "code",
   "execution_count": 8,
   "metadata": {
    "execution": {
     "iopub.execute_input": "2020-12-21T15:08:08.008369Z",
     "iopub.status.busy": "2020-12-21T15:08:08.007684Z",
     "iopub.status.idle": "2020-12-21T15:08:08.010634Z",
     "shell.execute_reply": "2020-12-21T15:08:08.010080Z"
    }
   },
   "outputs": [
    {
     "data": {
      "text/plain": [
       "[Word(original_form='Chrysler', lda_form='chrysler', include=True),\n",
       " Word(original_form='Corp', lda_form='corp', include=True),\n",
       " Word(original_form='said', lda_form='say', include=True),\n",
       " Word(original_form='car', lda_form='car', include=True),\n",
       " Word(original_form='sales', lda_form='sale', include=True),\n",
       " Word(original_form='March', lda_form='march', include=True),\n",
       " Word(original_form='period', lda_form='period', include=True),\n",
       " Word(original_form='rose', lda_form='rise', include=True),\n",
       " Word(original_form='pct', lda_form='pct', include=True),\n",
       " Word(original_form='year', lda_form='year', include=True),\n",
       " Word(original_form='earlier', lda_form='early', include=True),\n",
       " Word(original_form='month', lda_form='month', include=True),\n",
       " Word(original_form='March', lda_form='march', include=True),\n",
       " Word(original_form='said', lda_form='say', include=True),\n",
       " Word(original_form='auto', lda_form='auto', include=True),\n",
       " Word(original_form='sales', lda_form='sale', include=True),\n",
       " Word(original_form='increased', lda_form='increase', include=True),\n",
       " Word(original_form='pct', lda_form='pct', include=True),\n",
       " Word(original_form='Chrysler', lda_form='chrysler', include=True),\n",
       " Word(original_form='said', lda_form='say', include=True),\n",
       " Word(original_form='U.S.', lda_form='u.s.', include=True),\n",
       " Word(original_form='truck', lda_form='truck', include=True),\n",
       " Word(original_form='sales', lda_form='sale', include=True),\n",
       " Word(original_form='late', lda_form='late', include=True),\n",
       " Word(original_form='March', lda_form='march', include=True),\n",
       " Word(original_form='jumped', lda_form='jump', include=True),\n",
       " Word(original_form='pct', lda_form='pct', include=True),\n",
       " Word(original_form='year', lda_form='year', include=True),\n",
       " Word(original_form='ago', lda_form='ago', include=True),\n",
       " Word(original_form='entire', lda_form='entire', include=True),\n",
       " Word(original_form='month', lda_form='month', include=True),\n",
       " Word(original_form='truck', lda_form='truck', include=True),\n",
       " Word(original_form='sales', lda_form='sale', include=True),\n",
       " Word(original_form='advanced', lda_form='advance', include=True),\n",
       " Word(original_form='pct', lda_form='pct', include=True),\n",
       " Word(original_form='said', lda_form='say', include=True),\n",
       " Word(original_form='company', lda_form='company', include=True),\n",
       " Word(original_form='said', lda_form='say', include=True),\n",
       " Word(original_form='tabulating', lda_form='tabulate', include=True),\n",
       " Word(original_form='year', lda_form='year', include=True),\n",
       " Word(original_form='date', lda_form='date', include=True),\n",
       " Word(original_form='figures', lda_form='figure', include=True),\n",
       " Word(original_form='Reuter', lda_form='reuter', include=True)]"
      ]
     },
     "execution_count": 1,
     "metadata": {},
     "output_type": "execute_result"
    }
   ],
   "source": [
    "data.reuters.documents[0].included_words"
   ]
  },
  {
   "cell_type": "markdown",
   "metadata": {},
   "source": [
    "One more thing! Both documents and the corpus as a whole can count words for you. A word count is a dictionary mapping word objects to the number of times they appear in."
   ]
  },
  {
   "cell_type": "code",
   "execution_count": 9,
   "metadata": {
    "execution": {
     "iopub.execute_input": "2020-12-21T15:08:08.023162Z",
     "iopub.status.busy": "2020-12-21T15:08:08.018042Z",
     "iopub.status.idle": "2020-12-21T15:08:10.080765Z",
     "shell.execute_reply": "2020-12-21T15:08:10.080285Z"
    }
   },
   "outputs": [
    {
     "data": {
      "text/plain": [
       "[(Word(original_form='said', lda_form='say', include=True), 53721),\n",
       " (Word(original_form='dlrs', lda_form='dlrs', include=True), 20413),\n",
       " (Word(original_form='Reuter', lda_form='reuter', include=True), 18924),\n",
       " (Word(original_form='pct', lda_form='pct', include=True), 17036),\n",
       " (Word(original_form='vs', lda_form='vs', include=True), 14576),\n",
       " (Word(original_form='year', lda_form='year', include=True), 14347),\n",
       " (Word(original_form='mln', lda_form='mln', include=True), 14318),\n",
       " (Word(original_form='company', lda_form='company', include=True), 11383),\n",
       " (Word(original_form='Bank', lda_form='bank', include=True), 10103),\n",
       " (Word(original_form='shares', lda_form='share', include=True), 9646)]"
      ]
     },
     "execution_count": 1,
     "metadata": {},
     "output_type": "execute_result"
    }
   ],
   "source": [
    "data.reuters.word_count.most_common(10)"
   ]
  },
  {
   "cell_type": "code",
   "execution_count": 10,
   "metadata": {
    "execution": {
     "iopub.execute_input": "2020-12-21T15:08:10.084850Z",
     "iopub.status.busy": "2020-12-21T15:08:10.084307Z",
     "iopub.status.idle": "2020-12-21T15:08:10.087141Z",
     "shell.execute_reply": "2020-12-21T15:08:10.086612Z"
    }
   },
   "outputs": [
    {
     "data": {
      "text/plain": [
       "Counter({Word(original_form='Chrysler', lda_form='chrysler', include=True): 2,\n",
       "         Word(original_form='Corp', lda_form='corp', include=True): 1,\n",
       "         Word(original_form='said', lda_form='say', include=True): 5,\n",
       "         Word(original_form='car', lda_form='car', include=True): 1,\n",
       "         Word(original_form='sales', lda_form='sale', include=True): 4,\n",
       "         Word(original_form='March', lda_form='march', include=True): 3,\n",
       "         Word(original_form='period', lda_form='period', include=True): 1,\n",
       "         Word(original_form='rose', lda_form='rise', include=True): 1,\n",
       "         Word(original_form='pct', lda_form='pct', include=True): 4,\n",
       "         Word(original_form='year', lda_form='year', include=True): 3,\n",
       "         Word(original_form='earlier', lda_form='early', include=True): 1,\n",
       "         Word(original_form='month', lda_form='month', include=True): 2,\n",
       "         Word(original_form='auto', lda_form='auto', include=True): 1,\n",
       "         Word(original_form='increased', lda_form='increase', include=True): 1,\n",
       "         Word(original_form='U.S.', lda_form='u.s.', include=True): 1,\n",
       "         Word(original_form='truck', lda_form='truck', include=True): 2,\n",
       "         Word(original_form='late', lda_form='late', include=True): 1,\n",
       "         Word(original_form='jumped', lda_form='jump', include=True): 1,\n",
       "         Word(original_form='ago', lda_form='ago', include=True): 1,\n",
       "         Word(original_form='entire', lda_form='entire', include=True): 1,\n",
       "         Word(original_form='advanced', lda_form='advance', include=True): 1,\n",
       "         Word(original_form='company', lda_form='company', include=True): 1,\n",
       "         Word(original_form='tabulating', lda_form='tabulate', include=True): 1,\n",
       "         Word(original_form='date', lda_form='date', include=True): 1,\n",
       "         Word(original_form='figures', lda_form='figure', include=True): 1,\n",
       "         Word(original_form='Reuter', lda_form='reuter', include=True): 1})"
      ]
     },
     "execution_count": 1,
     "metadata": {},
     "output_type": "execute_result"
    }
   ],
   "source": [
    "data.reuters.documents[0].word_count"
   ]
  }
 ],
 "metadata": {
  "kernelspec": {
   "display_name": "Python 3",
   "language": "python",
   "name": "python3"
  },
  "language_info": {
   "codemirror_mode": {
    "name": "ipython",
    "version": 3
   },
   "file_extension": ".py",
   "mimetype": "text/x-python",
   "name": "python",
   "nbconvert_exporter": "python",
   "pygments_lexer": "ipython3",
   "version": "3.8.6"
  }
 },
 "nbformat": 4,
 "nbformat_minor": 4
}
