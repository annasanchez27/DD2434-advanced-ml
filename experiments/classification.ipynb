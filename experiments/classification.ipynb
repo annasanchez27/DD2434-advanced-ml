{
 "cells": [
  {
   "cell_type": "code",
   "execution_count": 1,
   "metadata": {},
   "outputs": [],
   "source": [
    "from lda import data\n",
    "from lda.data.corpus import Corpus\n",
    "from classification.utils import corpus_to_documents_with_topics\n",
    "from classification import plot_classification_for_label\n",
    "from lda import utils\n",
    "from lda import lda\n",
    "import matplotlib.pyplot as plt"
   ]
  },
  {
   "cell_type": "code",
   "execution_count": 2,
   "metadata": {},
   "outputs": [],
   "source": [
    "reuters_corpus = data.reuters\n",
    "docs_with_topics = corpus_to_documents_with_topics(reuters_corpus)"
   ]
  },
  {
   "cell_type": "code",
   "execution_count": 4,
   "metadata": {},
   "outputs": [
    {
     "data": {
      "application/vnd.jupyter.widget-view+json": {
       "model_id": "eb8771e88faf40a88fa9ded765901fca",
       "version_major": 2,
       "version_minor": 0
      },
      "text/plain": [
       "  0%|          | 0/5 [00:00<?, ?it/s]"
      ]
     },
     "metadata": {},
     "output_type": "display_data"
    },
    {
     "name": "stdout",
     "output_type": "stream",
     "text": [
      "[1/4] Accuracy for training fraction 0.01: 94.47537473233405\n"
     ]
    },
    {
     "data": {
      "application/vnd.jupyter.widget-view+json": {
       "model_id": "75d2134e26494597910eee19b8ac827e",
       "version_major": 2,
       "version_minor": 0
      },
      "text/plain": [
       "  0%|          | 0/5 [00:00<?, ?it/s]"
      ]
     },
     "metadata": {},
     "output_type": "display_data"
    },
    {
     "name": "stdout",
     "output_type": "stream",
     "text": [
      "[2/4] Accuracy for training fraction 0.05: 95.53910132873517\n"
     ]
    },
    {
     "data": {
      "application/vnd.jupyter.widget-view+json": {
       "model_id": "6b8fcd3c88ff4ce585d8381c3ad32b7b",
       "version_major": 2,
       "version_minor": 0
      },
      "text/plain": [
       "  0%|          | 0/5 [00:00<?, ?it/s]"
      ]
     },
     "metadata": {},
     "output_type": "display_data"
    },
    {
     "name": "stdout",
     "output_type": "stream",
     "text": [
      "[3/4] Accuracy for training fraction 0.1: 96.67451820128478\n"
     ]
    },
    {
     "data": {
      "application/vnd.jupyter.widget-view+json": {
       "model_id": "d321618278d649169c135e160c13286a",
       "version_major": 2,
       "version_minor": 0
      },
      "text/plain": [
       "  0%|          | 0/5 [00:00<?, ?it/s]"
      ]
     },
     "metadata": {},
     "output_type": "display_data"
    },
    {
     "name": "stdout",
     "output_type": "stream",
     "text": [
      "[4/4] Accuracy for training fraction 0.2: 97.76921223801494\n"
     ]
    },
    {
     "data": {
      "image/png": "[encoded data removed]",
      "text/plain": [
       "<Figure size 432x288 with 1 Axes>"
      ]
     },
     "metadata": {
      "needs_background": "light"
     },
     "output_type": "display_data"
    }
   ],
   "source": [
    "plot_classification_for_label(docs_with_topics, 'grain')"
   ]
  },
  {
   "cell_type": "code",
   "execution_count": 3,
   "metadata": {},
   "outputs": [
    {
     "name": "stdout",
     "output_type": "stream",
     "text": [
      "Corpus with 1 documents\n"
     ]
    },
    {
     "data": {
      "application/vnd.jupyter.widget-view+json": {
       "model_id": "15ee710846bb48f69430855b10a72e04",
       "version_major": 2,
       "version_minor": 0
      },
      "text/plain": [
       "  0%|          | 0/64 [00:00<?, ?it/s]"
      ]
     },
     "metadata": {},
     "output_type": "display_data"
    }
   ],
   "source": [
    "corpus_with_topics = Corpus(docs_with_topics[:1])\n",
    "print(corpus_with_topics)\n",
    "\n",
    "with utils.np_seed(123):\n",
    "    params, lower_bound_evol = lda(corpus_with_topics, num_topics=2, num_iterations=64)"
   ]
  },
  {
   "cell_type": "code",
   "execution_count": 4,
   "metadata": {},
   "outputs": [
    {
     "name": "stdout",
     "output_type": "stream",
     "text": [
      "{'alpha': array([11670.96101792,  4266.02159004]), 'beta': [{Word(original_form='covered', lda_form='cover', include=True): 0.0036575193797444244, Word(original_form='short', lda_form='short', include=True): 0.0033397296512256, Word(original_form='persistently', lda_form='persistently', include=True): 0.004212608628755873, Word(original_form='Hanover', lda_form='hanover', include=True): 0.003882337756423261, Word(original_form='Barney', lda_form='barney', include=True): 0.004240653649833706, Word(original_form='fed', lda_form='fed', include=True): 0.0077600644762731525, Word(original_form='recent', lda_form='recent', include=True): 0.005280392734319945, Word(original_form='bullish', lda_form='bullish', include=True): 0.0032455520104361676, Word(original_form='pressure', lda_form='pressure', include=True): 0.0028367307261337425, Word(original_form='Rozich', lda_form='rozich', include=True): 0.015137063814877878, Word(original_form='jury', lda_form='jury', include=True): 0.003265156353367913, Word(original_form='healthy', lda_form='healthy', include=True): 0.0019362978067935187, Word(original_form='interest', lda_form='interest', include=True): 0.00847722005945474, Word(original_form='selling', lda_form='selling', include=True): 0.004080350139679122, Word(original_form='range', lda_form='range', include=True): 0.022239540249615893, Word(original_form='crude', lda_form='crude', include=True): 0.004483923841293909, Word(original_form='expecting', lda_form='expect', include=True): 0.010047634879838547, Word(original_form='precluded', lda_form='preclude', include=True): 0.003656898586274477, Word(original_form='early', lda_form='early', include=True): 0.004335607807968627, Word(original_form='industrial', lda_form='industrial', include=True): 0.009163852729748394, Word(original_form='strong', lda_form='strong', include=True): 0.003908716763427954, Word(original_form='dlrs', lda_form='dlrs', include=True): 0.004052408451908209, Word(original_form='prices', lda_form='price', include=True): 0.026242735552592995, Word(original_form='expectations', lda_form='expectation', include=True): 0.006495790976175518, Word(original_form='direction', lda_form='direction', include=True): 0.005898450165032918, Word(original_form='Jim', lda_form='jim', include=True): 0.003507511215104547, Word(original_form='came', lda_form='come', include=True): 0.004973848543611133, Word(original_form='month', lda_form='month', include=True): 0.003771594244575768, Word(original_form='failed', lda_form='fail', include=True): 0.0016232536494987363, Word(original_form='futures', lda_form='future', include=True): 0.016504582466963107, Word(original_form='tell', lda_form='tell', include=True): 0.005124693249578024, Word(original_form='McEntee', lda_form='mcentee', include=True): 0.003295110092912975, Word(original_form='traders', lda_form='trader', include=True): 0.003158651055307124, Word(original_form='order', lda_form='order', include=True): 0.0025966922357701303, Word(original_form='economic', lda_form='economic', include=True): 0.004917756436073817, Word(original_form='June', lda_form='june', include=True): 0.02649416189568782, Word(original_form='Brian', lda_form='brian', include=True): 0.005193394575752373, Word(original_form='data', lda_form='datum', include=True): 0.004206483141393139, Word(original_form='wo', lda_form='will', include=True): 0.004354069090423072, Word(original_form='Sloane', lda_form='sloane', include=True): 0.005761293191250293, Word(original_form='numbers', lda_form='number', include=True): 0.004781020688924387, Word(original_form='sufficient', lda_form='sufficient', include=True): 0.00462675261736192, Word(original_form='right', lda_form='right', include=True): 0.004039683961468347, Word(original_form='break', lda_form='break', include=True): 0.012805260451472828, Word(original_form='Gibbs', lda_form='gibbs', include=True): 0.006694805132835587, Word(original_form='approached', lda_form='approach', include=True): 0.005468200646649274, Word(original_form='concern', lda_form='concern', include=True): 0.003902657739732645, Word(original_form='nearing', lda_form='near', include=True): 0.0034703402070950778, Word(original_form='closed', lda_form='close', include=True): 0.00192985133724022, Word(original_form='impressed', lda_form='impressed', include=True): 0.005007363336345612, Word(original_form='pull', lda_form='pull', include=True): 0.003771177064269824, Word(original_form='support', lda_form='support', include=True): 0.008668036742407764, Word(original_form='production', lda_form='production', include=True): 0.00628855043865858, Word(original_form='analysts', lda_form='analyst', include=True): 0.031736019859278396, Word(original_form='Futures', lda_form='futures', include=True): 0.006933452138899664, Word(original_form='index', lda_form='index', include=True): 0.005386779413384085, Word(original_form='ready', lda_form='ready', include=True): 0.004139956987800255, Word(original_form='producer', lda_form='producer', include=True): 0.004051512269524802, Word(original_form='Karen', lda_form='karen', include=True): 0.005127965619726818, Word(original_form='Craig', lda_form='craig', include=True): 0.0040519840472410555, Word(original_form='forecasts', lda_form='forecast', include=True): 0.005269075969642726, Word(original_form='U.S.', lda_form='u.s.', include=True): 0.01201270234650134, Word(original_form='Dean', lda_form='dean', include=True): 0.003778785521466682, Word(original_form='boost', lda_form='boost', include=True): 0.0012108445286715943, Word(original_form='gains', lda_form='gain', include=True): 0.004262008067667544, Word(original_form='Reuter', lda_form='reuter', include=True): 0.0047245426040514946, Word(original_form='Upham', lda_form='upham', include=True): 0.0023090486468092604, Word(original_form='auto', lda_form='auto', include=True): 0.007612726544364308, Word(original_form='retail', lda_form='retail', include=True): 0.022931028458636954, Word(original_form='Harris', lda_form='harris', include=True): 0.004087918790518851, Word(original_form='figures', lda_form='figure', include=True): 0.008336984526244835, Word(original_form='little', lda_form='little', include=True): 0.004477991576379674, Word(original_form='Carroll', lda_form='carroll', include=True): 0.000279118779976943, Word(original_form='week', lda_form='week', include=True): 0.008675692412983155, Word(original_form='Manufacturers', lda_form='manufacturers', include=True): 0.004124272496128095, Word(original_form='surge', lda_form='surge', include=True): 0.0038188603837145635, Word(original_form='slightly', lda_form='slightly', include=True): 0.003044897564383323, Word(original_form='resiliency', lda_form='resiliency', include=True): 0.0037461336848608195, Word(original_form='created', lda_form='create', include=True): 0.004481280144184616, Word(original_form='looking', lda_form='look', include=True): 0.004458046730602582, Word(original_form='positive', lda_form='positive', include=True): 0.003262744948868652, Word(original_form='positions', lda_form='position', include=True): 0.004450790797005114, Word(original_form='key', lda_form='key', include=True): 0.007958279165343673, Word(original_form='referring', lda_form='refer', include=True): 0.00387179365200323, Word(original_form='firm', lda_form='firm', include=True): 0.009993695011199871, Word(original_form='level', lda_form='level', include=True): 0.0010840509823807722, Word(original_form='pct', lda_form='pct', include=True): 0.013467301888094935, Word(original_form='bonds', lda_form='bond', include=True): 0.029515261133243265, Word(original_form='Singer', lda_form='singer', include=True): 0.016040731756627746, Word(original_form='added', lda_form='add', include=True): 0.005018896279549941, Word(original_form='bit', lda_form='bit', include=True): 0.00497443473669127, Word(original_form='rise', lda_form='rise', include=True): 0.00979950816369663, Word(original_form='higher', lda_form='high', include=True): 0.003608667183225472, Word(original_form='gap', lda_form='gap', include=True): 0.007342572878515824, Word(original_form='able', lda_form='able', include=True): 0.0049443187259609195, Word(original_form='February', lda_form='february', include=True): 0.004254855219509769, Word(original_form='participants', lda_form='participant', include=True): 0.002147566979754225, Word(original_form='McGinley', lda_form='mcginley', include=True): 0.003428718838533049, Word(original_form='Witter', lda_form='witter', include=True): 0.003741351969827498, Word(original_form='estimate', lda_form='estimate', include=True): 0.00546657105689476, Word(original_form='materialize', lda_form='materialize', include=True): 0.0019962265833369268, Word(original_form='contract', lda_form='contract', include=True): 0.004238806674800394, Word(original_form='oil', lda_form='oil', include=True): 0.018980150736403127, Word(original_form='bad', lda_form='bad', include=True): 0.005193248124560097, Word(original_form='barrel', lda_form='barrel', include=True): 0.0045388405810234, Word(original_form='today', lda_form='today', include=True): 0.006590454563395925, Word(original_form='said', lda_form='say', include=True): 0.06660681080986101, Word(original_form='non', lda_form='non', include=True): 0.006119822079682336, Word(original_form='jump', lda_form='jump', include=True): 0.0027946937851904756, Word(original_form='bandwagon', lda_form='bandwagon', include=True): 0.004479187813532151, Word(original_form='Smith', lda_form='smith', include=True): 0.002757243104465357, Word(original_form='time', lda_form='time', include=True): 0.004125269501745572, Word(original_form='addition', lda_form='addition', include=True): 0.0037495724203816037, Word(original_form='market', lda_form='market', include=True): 0.02906794965329722, Word(original_form='increases', lda_form='increase', include=True): 0.0033476842027478407, Word(original_form='consensus', lda_form='consensus', include=True): 0.003715051503539077, Word(original_form='chart', lda_form='chart', include=True): 8.855121598320121e-05, Word(original_form='federal', lda_form='federal', include=True): 0.010861988026590674, Word(original_form='funds', lda_form='fund', include=True): 0.01971751486637108, Word(original_form='needs', lda_form='need', include=True): 0.002852195005593924, Word(original_form='Thursday', lda_form='thursday', include=True): 0.005040390419849516, Word(original_form='financial', lda_form='financial', include=True): 0.003172274983898006, Word(original_form='Friday', lda_form='friday', include=True): 0.014955537912372908, Word(original_form='find', lda_form='find', include=True): 0.004788601178460922, Word(original_form='run', lda_form='run', include=True): 0.004163652169474752, Word(original_form='sales', lda_form='sale', include=True): 0.025594779803095092, Word(original_form='easing', lda_form='ease', include=True): 0.00988154127511756, Word(original_form='trading', lda_form='trading', include=True): 0.008496478011516382, Word(original_form='quickly', lda_form='quickly', include=True): 0.004119675503329976, Word(original_form='rate', lda_form='rate', include=True): 0.01316447961983147, Word(original_form='linked', lda_form='link', include=True): 0.004457984800343172, Word(original_form='sold', lda_form='sell', include=True): 0.005469598584902569, Word(original_form='determining', lda_form='determine', include=True): 0.004802482227075592, Word(original_form='debt', lda_form='debt', include=True): 0.0030748694193367286, Word(original_form='fill', lda_form='fill', include=True): 0.0047922518190835605, Word(original_form='course', lda_form='course', include=True): 0.002593409517809919, Word(original_form='sector', lda_form='sector', include=True): 0.008786671766409139, Word(original_form='rally', lda_form='rally', include=True): 0.007614926102456612, Word(original_form='Treasury', lda_form='treasury', include=True): 0.004953359513002253}, {Word(original_form='covered', lda_form='cover', include=True): 0.004997043224727912, Word(original_form='short', lda_form='short', include=True): 0.0058665160845544385, Word(original_form='persistently', lda_form='persistently', include=True): 0.0034783187554178413, Word(original_form='Hanover', lda_form='hanover', include=True): 0.004381940031104943, Word(original_form='Barney', lda_form='barney', include=True): 0.003401587563399487, Word(original_form='fed', lda_form='fed', include=True): 0.008776495860633891, Word(original_form='recent', lda_form='recent', include=True): 0.0005568608962563938, Word(original_form='bullish', lda_form='bullish', include=True): 0.00612418615794088, Word(original_form='pressure', lda_form='pressure', include=True): 0.0072427214009681785, Word(original_form='Rozich', lda_form='rozich', include=True): 0.003597040014825767, Word(original_form='jury', lda_form='jury', include=True): 0.006070548665648945, Word(original_form='healthy', lda_form='healthy', include=True): 0.009706306328994942, Word(original_form='interest', lda_form='interest', include=True): 0.006814357818112107, Word(original_form='selling', lda_form='selling', include=True): 0.0038401780492026824, Word(original_form='range', lda_form='range', include=True): 0.014172697093558666, Word(original_form='crude', lda_form='crude', include=True): 0.017740018314194122, Word(original_form='expecting', lda_form='expect', include=True): 0.01752172018513025, Word(original_form='precluded', lda_form='preclude', include=True): 0.004998741715979323, Word(original_form='early', lda_form='early', include=True): 0.00314179293815848, Word(original_form='industrial', lda_form='industrial', include=True): 0.004935730480868944, Word(original_form='strong', lda_form='strong', include=True): 0.004309767054443127, Word(original_form='dlrs', lda_form='dlrs', include=True): 0.003916626521240433, Word(original_form='prices', lda_form='price', include=True): 0.003219952696354403, Word(original_form='expectations', lda_form='expectation', include=True): 0.012235548803774143, Word(original_form='direction', lda_form='direction', include=True): 0.01386987356869331, Word(original_form='Jim', lda_form='jim', include=True): 0.0054074656399351936, Word(original_form='came', lda_form='come', include=True): 0.016399584077981286, Word(original_form='month', lda_form='month', include=True): 0.004684934336182267, Word(original_form='failed', lda_form='fail', include=True): 0.010562795303524386, Word(original_form='futures', lda_form='future', include=True): 0.02986354452122226, Word(original_form='tell', lda_form='tell', include=True): 0.0009828547661748666, Word(original_form='McEntee', lda_form='mcentee', include=True): 0.005988595218927645, Word(original_form='traders', lda_form='trader', include=True): 0.006361947215637339, Word(original_form='order', lda_form='order', include=True): 0.007899466833420157, Word(original_form='economic', lda_form='economic', include=True): 0.0015490339938028382, Word(original_form='June', lda_form='june', include=True): 0.0025320500930031734, Word(original_form='Brian', lda_form='brian', include=True): 0.0007948879026104013, Word(original_form='data', lda_form='datum', include=True): 0.0034950780919764243, Word(original_form='wo', lda_form='will', include=True): 0.0030912828599172896, Word(original_form='Sloane', lda_form='sloane', include=True): 0.029249153238240164, Word(original_form='numbers', lda_form='number', include=True): 0.0019231430679653473, Word(original_form='sufficient', lda_form='sufficient', include=True): 0.0023452205906924406, Word(original_form='right', lda_form='right', include=True): 0.0039514407335944565, Word(original_form='break', lda_form='break', include=True): 0.024980873329283584, Word(original_form='Gibbs', lda_form='gibbs', include=True): 0.011691045969325405, Word(original_form='approached', lda_form='approach', include=True): 4.301835203030085e-05, Word(original_form='concern', lda_form='concern', include=True): 0.00432634454637363, Word(original_form='nearing', lda_form='near', include=True): 0.005509165536867874, Word(original_form='closed', lda_form='close', include=True): 0.009723943872991142, Word(original_form='impressed', lda_form='impressed', include=True): 0.0013038694688113001, Word(original_form='pull', lda_form='pull', include=True): 0.004686075741712783, Word(original_form='support', lda_form='support', include=True): 0.006292283275920134, Word(original_form='production', lda_form='production', include=True): 0.012802559020456352, Word(original_form='analysts', lda_form='analyst', include=True): 0.0031943421416916512, Word(original_form='Futures', lda_form='futures', include=True): 0.011038107638628917, Word(original_form='index', lda_form='index', include=True): 0.00026578688790352236, Word(original_form='ready', lda_form='ready', include=True): 0.0036770936822450614, Word(original_form='producer', lda_form='producer', include=True): 0.0039190784766999715, Word(original_form='Karen', lda_form='karen', include=True): 0.0009739015597734366, Word(original_form='Craig', lda_form='craig', include=True): 0.003917787692626911, Word(original_form='forecasts', lda_form='forecast', include=True): 0.0005878235702035546, Word(original_form='U.S.', lda_form='u.s.', include=True): 0.01214529459090228, Word(original_form='Dean', lda_form='dean', include=True): 0.004665258998929266, Word(original_form='boost', lda_form='boost', include=True): 0.011691146869119052, Word(original_form='gains', lda_form='gain', include=True): 0.0033431618652799925, Word(original_form='Reuter', lda_form='reuter', include=True): 0.002077667137074929, Word(original_form='Upham', lda_form='upham', include=True): 0.008686459839991665, Word(original_form='auto', lda_form='auto', include=True): 0.009179612517722825, Word(original_form='retail', lda_form='retail', include=True): 0.01228078499987295, Word(original_form='Harris', lda_form='harris', include=True): 0.0038194702166326373, Word(original_form='figures', lda_form='figure', include=True): 0.007198042308726762, Word(original_form='little', lda_form='little', include=True): 0.002752230874934345, Word(original_form='Carroll', lda_form='carroll', include=True): 0.014240348994270688, Word(original_form='week', lda_form='week', include=True): 0.0062713373573087886, Word(original_form='Manufacturers', lda_form='manufacturers', include=True): 0.003720006459485153, Word(original_form='surge', lda_form='surge', include=True): 0.004555614155314518, Word(original_form='slightly', lda_form='slightly', include=True): 0.006673176825007516, Word(original_form='resiliency', lda_form='resiliency', include=True): 0.004754594440589414, Word(original_form='created', lda_form='create', include=True): 0.002743233351737407, Word(original_form='looking', lda_form='look', include=True): 0.0028067999831853686, Word(original_form='positive', lda_form='positive', include=True): 0.006077146269592734, Word(original_form='positions', lda_form='position', include=True): 0.0028266522212205803, Word(original_form='key', lda_form='key', include=True): 0.008234180369919209, Word(original_form='referring', lda_form='refer', include=True): 0.004410788706193102, Word(original_form='firm', lda_form='firm', include=True): 0.0026652815742239165, Word(original_form='level', lda_form='level', include=True): 0.01203805407664542, Word(original_form='pct', lda_form='pct', include=True): 0.023169527619948022, Word(original_form='bonds', lda_form='bond', include=True): 0.02427435727148871, Word(original_form='Singer', lda_form='singer', include=True): 0.001124604063831005, Word(original_form='added', lda_form='add', include=True): 0.0012723153303033578, Word(original_form='bit', lda_form='bit', include=True): 0.0013939621343136953, Word(original_form='rise', lda_form='rise', include=True): 0.00319657688834965, Word(original_form='higher', lda_form='high', include=True): 0.005130702859399285, Word(original_form='gap', lda_form='gap', include=True): 0.009918753085710021, Word(original_form='able', lda_form='able', include=True): 0.0014763595550809719, Word(original_form='February', lda_form='february', include=True): 0.003362732061499462, Word(original_form='participants', lda_form='participant', include=True): 0.00912827376367731, Word(original_form='McGinley', lda_form='mcginley', include=True): 0.005623041622549407, Word(original_form='Witter', lda_form='witter', include=True): 0.004767677215367173, Word(original_form='estimate', lda_form='estimate', include=True): 4.747691043244492e-05, Word(original_form='materialize', lda_form='materialize', include=True): 0.009542341165709258, Word(original_form='contract', lda_form='contract', include=True): 0.033414677126236456, Word(original_form='oil', lda_form='oil', include=True): 0.023090388469395005, Word(original_form='bad', lda_form='bad', include=True): 0.000795288593147402, Word(original_form='barrel', lda_form='barrel', include=True): 0.0025857479670953524, Word(original_form='today', lda_form='today', include=True): 0.011976549180703917, Word(original_form='said', lda_form='say', include=True): 0.027819985211851313, Word(original_form='non', lda_form='non', include=True): 0.013264199896946235, Word(original_form='jump', lda_form='jump', include=True): 0.007357734492897411, Word(original_form='bandwagon', lda_form='bandwagon', include=True): 0.0027489579694731058, Word(original_form='Smith', lda_form='smith', include=True): 0.007460199574523202, Word(original_form='time', lda_form='time', include=True): 0.003717278651605616, Word(original_form='addition', lda_form='addition', include=True): 0.0047451860584451, Word(original_form='market', lda_form='market', include=True): 0.010494183590390293, Word(original_form='increases', lda_form='increase', include=True): 0.0058447524275195934, Word(original_form='consensus', lda_form='consensus', include=True): 0.004839635304589085, Word(original_form='chart', lda_form='chart', include=True): 0.029765760065963008, Word(original_form='federal', lda_form='federal', include=True): 0.0002896314398473472, Word(original_form='funds', lda_form='fund', include=True): 0.006068941713425486, Word(original_form='needs', lda_form='need', include=True): 0.007200411124452734, Word(original_form='Thursday', lda_form='thursday', include=True): 0.0012135073514461117, Word(original_form='financial', lda_form='financial', include=True): 0.006324672140041921, Word(original_form='Friday', lda_form='friday', include=True): 0.004093694976958182, Word(original_form='find', lda_form='find', include=True): 0.0019024028447147832, Word(original_form='run', lda_form='run', include=True): 0.0036122636530598546, Word(original_form='sales', lda_form='sale', include=True): 0.004992759958511108, Word(original_form='easing', lda_form='ease', include=True): 0.002972134253529255, Word(original_form='trading', lda_form='trading', include=True): 0.00676166805141801, Word(original_form='quickly', lda_form='quickly', include=True): 0.003732583834132886, Word(original_form='rate', lda_form='rate', include=True): 0.02399804950085769, Word(original_form='linked', lda_form='link', include=True): 0.0028069694244068017, Word(original_form='sold', lda_form='sell', include=True): 3.91935922540262e-05, Word(original_form='determining', lda_form='determine', include=True): 0.0018644242886027256, Word(original_form='debt', lda_form='debt', include=True): 0.021595191933620122, Word(original_form='fill', lda_form='fill', include=True): 0.0018924146901033733, Word(original_form='course', lda_form='course', include=True): 0.007908448351438918, Word(original_form='sector', lda_form='sector', include=True): 0.005967697789552049, Word(original_form='rally', lda_form='rally', include=True): 0.009173594525656869, Word(original_form='Treasury', lda_form='treasury', include=True): 0.0014516239571101101}], 'phis': {Document including 249 words: array([[0.73017615, 0.26982385],\n",
      "       [0.8967584 , 0.1032416 ],\n",
      "       [0.76705656, 0.23294344],\n",
      "       [0.79101082, 0.20898918],\n",
      "       [0.72560012, 0.27439988],\n",
      "       [0.87573795, 0.12426205],\n",
      "       [0.73017615, 0.26982385],\n",
      "       [0.77291495, 0.22708505],\n",
      "       [0.60013878, 0.39986122],\n",
      "       [0.6019252 , 0.3980748 ],\n",
      "       [0.58376275, 0.41623725],\n",
      "       [0.68775393, 0.31224607],\n",
      "       [0.77467081, 0.22532919],\n",
      "       [0.81108077, 0.18891923],\n",
      "       [0.57846725, 0.42153275],\n",
      "       [0.96451669, 0.03548331],\n",
      "       [0.86755895, 0.13244105],\n",
      "       [0.88342882, 0.11657118],\n",
      "       [0.59225675, 0.40774325],\n",
      "       [0.77587729, 0.22412271],\n",
      "       [0.73017615, 0.26982385],\n",
      "       [0.83629957, 0.16370043],\n",
      "       [0.93344748, 0.06655252],\n",
      "       [0.91912091, 0.08087909],\n",
      "       [0.83551923, 0.16448077],\n",
      "       [0.57336146, 0.42663854],\n",
      "       [0.90905307, 0.09094693],\n",
      "       [0.3530854 , 0.6469146 ],\n",
      "       [0.77718162, 0.22281838],\n",
      "       [0.76012887, 0.23987113],\n",
      "       [0.55523982, 0.44476018],\n",
      "       [0.59225675, 0.40774325],\n",
      "       [0.59496457, 0.40503543],\n",
      "       [0.88342882, 0.11657118],\n",
      "       [0.96451669, 0.03548331],\n",
      "       [0.86755895, 0.13244105],\n",
      "       [0.91309837, 0.08690163],\n",
      "       [0.68311116, 0.31688884],\n",
      "       [0.76887693, 0.23112307],\n",
      "       [0.73664048, 0.26335952],\n",
      "       [0.86755895, 0.13244105],\n",
      "       [0.50278567, 0.49721433],\n",
      "       [0.77328761, 0.22671239],\n",
      "       [0.74543617, 0.25456383],\n",
      "       [0.4210569 , 0.5789431 ],\n",
      "       [0.96451669, 0.03548331],\n",
      "       [0.73888342, 0.26111658],\n",
      "       [0.35019208, 0.64980792],\n",
      "       [0.90325068, 0.09674932],\n",
      "       [0.76887693, 0.23112307],\n",
      "       [0.6019252 , 0.3980748 ],\n",
      "       [0.45349272, 0.54650728],\n",
      "       [0.51728034, 0.48271966],\n",
      "       [0.60088776, 0.39911224],\n",
      "       [0.57598291, 0.42401709],\n",
      "       [0.81291828, 0.18708172],\n",
      "       [0.76817356, 0.23182644],\n",
      "       [0.91118079, 0.08881921],\n",
      "       [0.99034817, 0.00965183],\n",
      "       [0.89887774, 0.10112226],\n",
      "       [0.60013878, 0.39986122],\n",
      "       [0.89347564, 0.10652436],\n",
      "       [0.69220985, 0.30779015],\n",
      "       [0.95707865, 0.04292135],\n",
      "       [0.84369337, 0.15630663],\n",
      "       [0.74405602, 0.25594398],\n",
      "       [0.77291495, 0.22708505],\n",
      "       [0.58376275, 0.41623725],\n",
      "       [0.00807368, 0.99192632],\n",
      "       [0.79031281, 0.20968719],\n",
      "       [0.96624826, 0.03375174],\n",
      "       [0.2576498 , 0.7423502 ],\n",
      "       [0.2960015 , 0.7039985 ],\n",
      "       [0.36401347, 0.63598653],\n",
      "       [0.39161055, 0.60838945],\n",
      "       [0.99738778, 0.00261222],\n",
      "       [0.76887693, 0.23112307],\n",
      "       [0.6019252 , 0.3980748 ],\n",
      "       [0.79060265, 0.20939735],\n",
      "       [0.75122706, 0.24877294],\n",
      "       [0.66695222, 0.33304778],\n",
      "       [0.60900283, 0.39099717],\n",
      "       [0.81160645, 0.18839355],\n",
      "       [0.86755895, 0.13244105],\n",
      "       [0.61073188, 0.38926812],\n",
      "       [0.71275842, 0.28724158],\n",
      "       [0.8718244 , 0.1281756 ],\n",
      "       [0.45349272, 0.54650728],\n",
      "       [0.61073188, 0.38926812],\n",
      "       [0.79396909, 0.20603091],\n",
      "       [0.94699478, 0.05300522],\n",
      "       [0.88342882, 0.11657118],\n",
      "       [0.35019208, 0.64980792],\n",
      "       [0.86755895, 0.13244105],\n",
      "       [0.35019208, 0.64980792],\n",
      "       [0.86755895, 0.13244105],\n",
      "       [0.67744328, 0.32255672],\n",
      "       [0.99683571, 0.00316429],\n",
      "       [0.55797754, 0.44202246],\n",
      "       [0.69409411, 0.30590589],\n",
      "       [0.80112945, 0.19887055],\n",
      "       [0.83629957, 0.16370043],\n",
      "       [0.93344748, 0.06655252],\n",
      "       [0.89347564, 0.10652436],\n",
      "       [0.61394379, 0.38605621],\n",
      "       [0.68906527, 0.31093473],\n",
      "       [0.68223921, 0.31776079],\n",
      "       [0.96451669, 0.03548331],\n",
      "       [0.9350904 , 0.0649096 ],\n",
      "       [0.61040199, 0.38959801],\n",
      "       [0.86755895, 0.13244105],\n",
      "       [0.83629957, 0.16370043],\n",
      "       [0.93344748, 0.06655252],\n",
      "       [0.76012887, 0.23987113],\n",
      "       [0.88342882, 0.11657118],\n",
      "       [0.96082212, 0.03917788],\n",
      "       [0.22079833, 0.77920167],\n",
      "       [0.28035233, 0.71964767],\n",
      "       [0.6019252 , 0.3980748 ],\n",
      "       [0.81108077, 0.18891923],\n",
      "       [0.55797754, 0.44202246],\n",
      "       [0.69409411, 0.30590589],\n",
      "       [0.80112945, 0.19887055],\n",
      "       [0.83629957, 0.16370043],\n",
      "       [0.93344748, 0.06655252],\n",
      "       [0.61394379, 0.38605621],\n",
      "       [0.83551923, 0.16448077],\n",
      "       [0.57336146, 0.42663854],\n",
      "       [0.73879739, 0.26120261],\n",
      "       [0.95707865, 0.04292135],\n",
      "       [0.98228556, 0.01771444],\n",
      "       [0.90905307, 0.09094693],\n",
      "       [0.61073188, 0.38926812],\n",
      "       [0.61045335, 0.38954665],\n",
      "       [0.61394379, 0.38605621],\n",
      "       [0.91520142, 0.08479858],\n",
      "       [0.83629957, 0.16370043],\n",
      "       [0.93344748, 0.06655252],\n",
      "       [0.93449368, 0.06550632],\n",
      "       [0.90160208, 0.09839792],\n",
      "       [0.87387242, 0.12612758],\n",
      "       [0.66946266, 0.33053734],\n",
      "       [0.61040199, 0.38959801],\n",
      "       [0.86755895, 0.13244105],\n",
      "       [0.70602544, 0.29397456],\n",
      "       [0.00807368, 0.99192632],\n",
      "       [0.66946266, 0.33053734],\n",
      "       [0.96624826, 0.03375174],\n",
      "       [0.76887693, 0.23112307],\n",
      "       [0.81716623, 0.18283377],\n",
      "       [0.90905307, 0.09094693],\n",
      "       [0.96624826, 0.03375174],\n",
      "       [0.76887693, 0.23112307],\n",
      "       [0.35190988, 0.64809012],\n",
      "       [0.60088776, 0.39911224],\n",
      "       [0.72560012, 0.27439988],\n",
      "       [0.28035233, 0.71964767],\n",
      "       [0.6019252 , 0.3980748 ],\n",
      "       [0.53779382, 0.46220618],\n",
      "       [0.68373822, 0.31626178],\n",
      "       [0.99034817, 0.00965183],\n",
      "       [0.89887774, 0.10112226],\n",
      "       [0.60013878, 0.39986122],\n",
      "       [0.53779382, 0.46220618],\n",
      "       [0.40882357, 0.59117643],\n",
      "       [0.69220985, 0.30779015],\n",
      "       [0.95707865, 0.04292135],\n",
      "       [0.86755895, 0.13244105],\n",
      "       [0.05089747, 0.94910253],\n",
      "       [0.60086639, 0.39913361],\n",
      "       [0.62523012, 0.37476988],\n",
      "       [0.63216079, 0.36783921],\n",
      "       [0.96451669, 0.03548331],\n",
      "       [0.94702149, 0.05297851],\n",
      "       [0.97501541, 0.02498459],\n",
      "       [0.65804395, 0.34195605],\n",
      "       [0.70752775, 0.29247225],\n",
      "       [0.89887774, 0.10112226],\n",
      "       [0.60013878, 0.39986122],\n",
      "       [0.91118079, 0.08881921],\n",
      "       [0.69220985, 0.30779015],\n",
      "       [0.95707865, 0.04292135],\n",
      "       [0.66683902, 0.33316098],\n",
      "       [0.88342882, 0.11657118],\n",
      "       [0.58376275, 0.41623725],\n",
      "       [0.77467081, 0.22532919],\n",
      "       [0.81108077, 0.18891923],\n",
      "       [0.75224713, 0.24775287],\n",
      "       [0.88342882, 0.11657118],\n",
      "       [0.99713287, 0.00286713],\n",
      "       [0.81108077, 0.18891923],\n",
      "       [0.97501541, 0.02498459],\n",
      "       [0.86755895, 0.13244105],\n",
      "       [0.47350903, 0.52649097],\n",
      "       [0.76887693, 0.23112307],\n",
      "       [0.58376275, 0.41623725],\n",
      "       [0.81108077, 0.18891923],\n",
      "       [0.96624826, 0.03375174],\n",
      "       [0.2576498 , 0.7423502 ],\n",
      "       [0.40882357, 0.59117643],\n",
      "       [0.69220985, 0.30779015],\n",
      "       [0.69429466, 0.30570534],\n",
      "       [0.52010027, 0.47989973],\n",
      "       [0.75924627, 0.24075373],\n",
      "       [0.47291043, 0.52708957],\n",
      "       [0.68767786, 0.31232214],\n",
      "       [0.81656655, 0.18343345],\n",
      "       [0.90709378, 0.09290622],\n",
      "       [0.97501541, 0.02498459],\n",
      "       [0.86755895, 0.13244105],\n",
      "       [0.70752775, 0.29247225],\n",
      "       [0.89887774, 0.10112226],\n",
      "       [0.90095508, 0.09904492],\n",
      "       [0.61394379, 0.38605621],\n",
      "       [0.19767742, 0.80232258],\n",
      "       [0.96288576, 0.03711424],\n",
      "       [0.69637298, 0.30362702],\n",
      "       [0.69220985, 0.30779015],\n",
      "       [0.95707865, 0.04292135],\n",
      "       [0.71165355, 0.28834645],\n",
      "       [0.75206533, 0.24793467],\n",
      "       [0.70794817, 0.29205183],\n",
      "       [0.63216079, 0.36783921],\n",
      "       [0.96451669, 0.03548331],\n",
      "       [0.63959802, 0.36040198],\n",
      "       [0.92008693, 0.07991307],\n",
      "       [0.69429466, 0.30570534],\n",
      "       [0.63281984, 0.36718016],\n",
      "       [0.73896081, 0.26103919],\n",
      "       [0.82766246, 0.17233754],\n",
      "       [0.86755895, 0.13244105],\n",
      "       [0.92008693, 0.07991307],\n",
      "       [0.86755895, 0.13244105],\n",
      "       [0.81292958, 0.18707042],\n",
      "       [0.96624826, 0.03375174],\n",
      "       [0.76887693, 0.23112307],\n",
      "       [0.2576498 , 0.7423502 ],\n",
      "       [0.90095508, 0.09904492],\n",
      "       [0.87320672, 0.12679328],\n",
      "       [0.79031281, 0.20968719],\n",
      "       [0.75492542, 0.24507458],\n",
      "       [0.50961485, 0.49038515],\n",
      "       [0.59182941, 0.40817059],\n",
      "       [0.81678469, 0.18321531],\n",
      "       [0.59540429, 0.40459571],\n",
      "       [0.79101082, 0.20898918],\n",
      "       [0.92008693, 0.07991307],\n",
      "       [0.86755895, 0.13244105],\n",
      "       [0.86152553, 0.13847447]])}, 'gammas': {Document including 249 words: array([11853.30324196,  4332.679366  ])}}\n"
     ]
    },
    {
     "ename": "NameError",
     "evalue": "name 'plt' is not defined",
     "output_type": "error",
     "traceback": [
      "\u001b[0;31m---------------------------------------------------------------------------\u001b[0m",
      "\u001b[0;31mNameError\u001b[0m                                 Traceback (most recent call last)",
      "\u001b[0;32m<ipython-input-4-c5339e867058>\u001b[0m in \u001b[0;36m<module>\u001b[0;34m\u001b[0m\n\u001b[1;32m      1\u001b[0m \u001b[0mprint\u001b[0m\u001b[0;34m(\u001b[0m\u001b[0mparams\u001b[0m\u001b[0;34m)\u001b[0m\u001b[0;34m\u001b[0m\u001b[0;34m\u001b[0m\u001b[0m\n\u001b[0;32m----> 2\u001b[0;31m \u001b[0mplt\u001b[0m\u001b[0;34m.\u001b[0m\u001b[0mfigure\u001b[0m\u001b[0;34m(\u001b[0m\u001b[0;34m)\u001b[0m\u001b[0;34m\u001b[0m\u001b[0;34m\u001b[0m\u001b[0m\n\u001b[0m\u001b[1;32m      3\u001b[0m \u001b[0mplt\u001b[0m\u001b[0;34m.\u001b[0m\u001b[0mplot\u001b[0m\u001b[0;34m(\u001b[0m\u001b[0mlower_bound_evol\u001b[0m\u001b[0;34m)\u001b[0m\u001b[0;34m\u001b[0m\u001b[0;34m\u001b[0m\u001b[0m\n",
      "\u001b[0;31mNameError\u001b[0m: name 'plt' is not defined"
     ]
    }
   ],
   "source": [
    "print(params)\n",
    "plt.figure()\n"
   ]
  },
  {
   "cell_type": "code",
   "execution_count": 6,
   "metadata": {},
   "outputs": [
    {
     "data": {
      "text/plain": [
       "[<matplotlib.lines.Line2D at 0x11897cc40>]"
      ]
     },
     "execution_count": 6,
     "metadata": {},
     "output_type": "execute_result"
    },
    {
     "data": {
      "image/png": "[encoded data removed]",
      "text/plain": [
       "<Figure size 432x288 with 1 Axes>"
      ]
     },
     "metadata": {
      "needs_background": "light"
     },
     "output_type": "display_data"
    }
   ],
   "source": [
    "plt.plot(lower_bound_evol)"
   ]
  },
  {
   "cell_type": "code",
   "execution_count": 9,
   "metadata": {},
   "outputs": [
    {
     "name": "stdout",
     "output_type": "stream",
     "text": [
      "Corpus with 2 documents\n"
     ]
    },
    {
     "data": {
      "application/vnd.jupyter.widget-view+json": {
       "model_id": "14c65d50df4b43e9bb00b43c0e95931c",
       "version_major": 2,
       "version_minor": 0
      },
      "text/plain": [
       "  0%|          | 0/64 [00:00<?, ?it/s]"
      ]
     },
     "metadata": {},
     "output_type": "display_data"
    },
    {
     "name": "stderr",
     "output_type": "stream",
     "text": [
      "/Users/agnieszkamiszkurka/Documents/KTH/S1/AdvancedML/LDA/projectLDA/lda/variational/e_step.py:62: RuntimeWarning: overflow encountered in exp\n",
      "  * np.exp(digamma(gamma[topic]))\n",
      "/Users/agnieszkamiszkurka/Documents/KTH/S1/AdvancedML/LDA/projectLDA/lda/variational/e_step.py:64: RuntimeWarning: invalid value encountered in true_divide\n",
      "  phi[word_idx] /= phi[word_idx].sum()\n"
     ]
    }
   ],
   "source": [
    "corpus_with_topics = Corpus(docs_with_topics[:2])\n",
    "print(corpus_with_topics)\n",
    "\n",
    "with utils.np_seed(123):\n",
    "    params, lower_bound_evol = lda(corpus_with_topics, num_topics=2, num_iterations=64)"
   ]
  },
  {
   "cell_type": "code",
   "execution_count": 10,
   "metadata": {},
   "outputs": [
    {
     "name": "stdout",
     "output_type": "stream",
     "text": [
      "{'alpha': array([nan, nan]), 'beta': [{Word(original_form='involving', lda_form='involve', include=True): nan, Word(original_form='covered', lda_form='cover', include=True): nan, Word(original_form='short', lda_form='short', include=True): nan, Word(original_form='persistently', lda_form='persistently', include=True): nan, Word(original_form='Hanover', lda_form='hanover', include=True): nan, Word(original_form='net', lda_form='net', include=True): nan, Word(original_form='Barney', lda_form='barney', include=True): nan, Word(original_form='fed', lda_form='fed', include=True): nan, Word(original_form='recent', lda_form='recent', include=True): nan, Word(original_form='bullish', lda_form='bullish', include=True): nan, Word(original_form='pressure', lda_form='pressure', include=True): nan, Word(original_form='Rozich', lda_form='rozich', include=True): nan, Word(original_form='jury', lda_form='jury', include=True): nan, Word(original_form='unit', lda_form='unit', include=True): nan, Word(original_form='healthy', lda_form='healthy', include=True): nan, Word(original_form='interest', lda_form='interest', include=True): nan, Word(original_form='selling', lda_form='selling', include=True): nan, Word(original_form='range', lda_form='range', include=True): nan, Word(original_form='crude', lda_form='crude', include=True): nan, Word(original_form='expecting', lda_form='expect', include=True): nan, Word(original_form='precluded', lda_form='preclude', include=True): nan, Word(original_form='1st', lda_form='1st', include=True): nan, Word(original_form='Corp', lda_form='corp', include=True): nan, Word(original_form='early', lda_form='early', include=True): nan, Word(original_form='industrial', lda_form='industrial', include=True): nan, Word(original_form='profit', lda_form='profit', include=True): nan, Word(original_form='strong', lda_form='strong', include=True): nan, Word(original_form='dlrs', lda_form='dlrs', include=True): nan, Word(original_form='prices', lda_form='price', include=True): nan, Word(original_form='expectations', lda_form='expectation', include=True): nan, Word(original_form='direction', lda_form='direction', include=True): nan, Word(original_form='Jim', lda_form='jim', include=True): nan, Word(original_form='came', lda_form='come', include=True): nan, Word(original_form='Oper', lda_form='oper', include=True): nan, Word(original_form='month', lda_form='month', include=True): nan, Word(original_form='failed', lda_form='fail', include=True): nan, Word(original_form='yr', lda_form='yr', include=True): nan, Word(original_form='futures', lda_form='future', include=True): nan, Word(original_form='tell', lda_form='tell', include=True): nan, Word(original_form='qtr', lda_form='qtr', include=True): nan, Word(original_form='McEntee', lda_form='mcentee', include=True): nan, Word(original_form='debits', lda_form='debit', include=True): nan, Word(original_form='Shanghai', lda_form='shanghai', include=True): nan, Word(original_form='traders', lda_form='trader', include=True): nan, Word(original_form='order', lda_form='order', include=True): nan, Word(original_form='extraordinary', lda_form='extraordinary', include=True): nan, Word(original_form='economic', lda_form='economic', include=True): nan, Word(original_form='Hong', lda_form='hong', include=True): nan, Word(original_form='June', lda_form='june', include=True): nan, Word(original_form='Brian', lda_form='brian', include=True): nan, Word(original_form='data', lda_form='datum', include=True): nan, Word(original_form='wo', lda_form='will', include=True): nan, Word(original_form='Sloane', lda_form='sloane', include=True): nan, Word(original_form='numbers', lda_form='number', include=True): nan, Word(original_form='sufficient', lda_form='sufficient', include=True): nan, Word(original_form='reassessment', lda_form='reassessment', include=True): nan, Word(original_form='litigation', lda_form='litigation', include=True): nan, Word(original_form='right', lda_form='right', include=True): nan, Word(original_form='break', lda_form='break', include=True): nan, Word(original_form='Gibbs', lda_form='gibbs', include=True): nan, Word(original_form='approached', lda_form='approach', include=True): nan, Word(original_form='concern', lda_form='concern', include=True): nan, Word(original_form='nearing', lda_form='near', include=True): nan, Word(original_form='closed', lda_form='close', include=True): nan, Word(original_form='YEAR', lda_form='year', include=True): nan, Word(original_form='liabilities', lda_form='liability', include=True): nan, Word(original_form='impressed', lda_form='impressed', include=True): nan, Word(original_form='pull', lda_form='pull', include=True): nan, Word(original_form='govt', lda_form='govt', include=True): nan, Word(original_form='support', lda_form='support', include=True): nan, Word(original_form='Hongkong', lda_form='hongkong', include=True): nan, Word(original_form='production', lda_form='production', include=True): nan, Word(original_form='analysts', lda_form='analyst', include=True): nan, Word(original_form='ended', lda_form='end', include=True): nan, Word(original_form='Futures', lda_form='futures', include=True): nan, Word(original_form='index', lda_form='index', include=True): nan, Word(original_form='ready', lda_form='ready', include=True): nan, Word(original_form='producer', lda_form='producer', include=True): nan, Word(original_form='period', lda_form='period', include=True): nan, Word(original_form='Karen', lda_form='karen', include=True): nan, Word(original_form='Canada', lda_form='canada', include=True): nan, Word(original_form='loss', lda_form='loss', include=True): nan, Word(original_form='Craig', lda_form='craig', include=True): nan, Word(original_form='forecasts', lda_form='forecast', include=True): nan, Word(original_form='U.S.', lda_form='u.s.', include=True): nan, Word(original_form='Dean', lda_form='dean', include=True): nan, Word(original_form='boost', lda_form='boost', include=True): nan, Word(original_form='gains', lda_form='gain', include=True): nan, Word(original_form='Reuter', lda_form='reuter', include=True): nan, Word(original_form='excludes', lda_form='exclude', include=True): nan, Word(original_form='Upham', lda_form='upham', include=True): nan, Word(original_form='auto', lda_form='auto', include=True): nan, Word(original_form='retail', lda_form='retail', include=True): nan, Word(original_form='Harris', lda_form='harris', include=True): nan, Word(original_form='figures', lda_form='figure', include=True): nan, Word(original_form='little', lda_form='little', include=True): nan, Word(original_form='Kong', lda_form='kong', include=True): nan, Word(original_form='Carroll', lda_form='carroll', include=True): nan, Word(original_form='week', lda_form='week', include=True): nan, Word(original_form='Manufacturers', lda_form='manufacturers', include=True): nan, Word(original_form='surge', lda_form='surge', include=True): nan, Word(original_form='slightly', lda_form='slightly', include=True): nan, Word(original_form='resiliency', lda_form='resiliency', include=True): nan, Word(original_form='created', lda_form='create', include=True): nan, Word(original_form='looking', lda_form='look', include=True): nan, Word(original_form='October', lda_form='october', include=True): nan, Word(original_form='positive', lda_form='positive', include=True): nan, Word(original_form='positions', lda_form='position', include=True): nan, Word(original_form='key', lda_form='key', include=True): nan, Word(original_form='referring', lda_form='refer', include=True): nan, Word(original_form='firm', lda_form='firm', include=True): nan, Word(original_form='level', lda_form='level', include=True): nan, Word(original_form='pct', lda_form='pct', include=True): nan, Word(original_form='bonds', lda_form='bond', include=True): nan, Word(original_form='Singer', lda_form='singer', include=True): nan, Word(original_form='added', lda_form='add', include=True): nan, Word(original_form='bit', lda_form='bit', include=True): nan, Word(original_form='rise', lda_form='rise', include=True): nan, Word(original_form='higher', lda_form='high', include=True): nan, Word(original_form='gap', lda_form='gap', include=True): nan, Word(original_form='able', lda_form='able', include=True): nan, Word(original_form='February', lda_form='february', include=True): nan, Word(original_form='participants', lda_form='participant', include=True): nan, Word(original_form='McGinley', lda_form='mcginley', include=True): nan, Word(original_form='Witter', lda_form='witter', include=True): nan, Word(original_form='estimate', lda_form='estimate', include=True): nan, Word(original_form='materialize', lda_form='materialize', include=True): nan, Word(original_form='contract', lda_form='contract', include=True): nan, Word(original_form='oil', lda_form='oil', include=True): nan, Word(original_form='bad', lda_form='bad', include=True): nan, Word(original_form='barrel', lda_form='barrel', include=True): nan, Word(original_form='Banking', lda_form='banking', include=True): nan, Word(original_form='potential', lda_form='potential', include=True): nan, Word(original_form='tax', lda_form='tax', include=True): nan, Word(original_form='cts', lda_form='ct', include=True): nan, Word(original_form='mln', lda_form='mln', include=True): nan, Word(original_form='today', lda_form='today', include=True): nan, Word(original_form='preferred', lda_form='preferred', include=True): nan, Word(original_form='said', lda_form='say', include=True): nan, Word(original_form='non', lda_form='non', include=True): nan, Word(original_form='jump', lda_form='jump', include=True): nan, Word(original_form='bandwagon', lda_form='bandwagon', include=True): nan, Word(original_form='Smith', lda_form='smith', include=True): nan, Word(original_form='time', lda_form='time', include=True): nan, Word(original_form='addition', lda_form='addition', include=True): nan, Word(original_form='market', lda_form='market', include=True): nan, Word(original_form='increases', lda_form='increase', include=True): nan, Word(original_form='consensus', lda_form='consensus', include=True): nan, Word(original_form='shr', lda_form='shr', include=True): nan, Word(original_form='chart', lda_form='chart', include=True): nan, Word(original_form='vs', lda_form='vs', include=True): nan, Word(original_form='deferred', lda_form='defer', include=True): nan, Word(original_form='federal', lda_form='federal', include=True): nan, Word(original_form='funds', lda_form='fund', include=True): nan, Word(original_form='needs', lda_form='need', include=True): nan, Word(original_form='Thursday', lda_form='thursday', include=True): nan, Word(original_form='financial', lda_form='financial', include=True): nan, Word(original_form='Friday', lda_form='friday', include=True): nan, Word(original_form='find', lda_form='find', include=True): nan, Word(original_form='run', lda_form='run', include=True): nan, Word(original_form='sales', lda_form='sale', include=True): nan, Word(original_form='easing', lda_form='ease', include=True): nan, Word(original_form='trading', lda_form='trading', include=True): nan, Word(original_form='quickly', lda_form='quickly', include=True): nan, Word(original_form='Note', lda_form='note', include=True): nan, Word(original_form='bank', lda_form='bank', include=True): nan, Word(original_form='rate', lda_form='rate', include=True): nan, Word(original_form='linked', lda_form='link', include=True): nan, Word(original_form='sold', lda_form='sell', include=True): nan, Word(original_form='Assets', lda_form='asset', include=True): nan, Word(original_form='determining', lda_form='determine', include=True): nan, Word(original_form='costs', lda_form='cost', include=True): nan, Word(original_form='divs', lda_form='div', include=True): nan, Word(original_form='debt', lda_form='debt', include=True): nan, Word(original_form='fill', lda_form='fill', include=True): nan, Word(original_form='contingent', lda_form='contingent', include=True): nan, Word(original_form='course', lda_form='course', include=True): nan, Word(original_form='sector', lda_form='sector', include=True): nan, Word(original_form='cts', lda_form='cts', include=True): nan, Word(original_form='Nov', lda_form='nov', include=True): nan, Word(original_form='respect', lda_form='respect', include=True): nan, Word(original_form='rally', lda_form='rally', include=True): nan, Word(original_form='Treasury', lda_form='treasury', include=True): nan}, {Word(original_form='involving', lda_form='involve', include=True): nan, Word(original_form='covered', lda_form='cover', include=True): nan, Word(original_form='short', lda_form='short', include=True): nan, Word(original_form='persistently', lda_form='persistently', include=True): nan, Word(original_form='Hanover', lda_form='hanover', include=True): nan, Word(original_form='net', lda_form='net', include=True): nan, Word(original_form='Barney', lda_form='barney', include=True): nan, Word(original_form='fed', lda_form='fed', include=True): nan, Word(original_form='recent', lda_form='recent', include=True): nan, Word(original_form='bullish', lda_form='bullish', include=True): nan, Word(original_form='pressure', lda_form='pressure', include=True): nan, Word(original_form='Rozich', lda_form='rozich', include=True): nan, Word(original_form='jury', lda_form='jury', include=True): nan, Word(original_form='unit', lda_form='unit', include=True): nan, Word(original_form='healthy', lda_form='healthy', include=True): nan, Word(original_form='interest', lda_form='interest', include=True): nan, Word(original_form='selling', lda_form='selling', include=True): nan, Word(original_form='range', lda_form='range', include=True): nan, Word(original_form='crude', lda_form='crude', include=True): nan, Word(original_form='expecting', lda_form='expect', include=True): nan, Word(original_form='precluded', lda_form='preclude', include=True): nan, Word(original_form='1st', lda_form='1st', include=True): nan, Word(original_form='Corp', lda_form='corp', include=True): nan, Word(original_form='early', lda_form='early', include=True): nan, Word(original_form='industrial', lda_form='industrial', include=True): nan, Word(original_form='profit', lda_form='profit', include=True): nan, Word(original_form='strong', lda_form='strong', include=True): nan, Word(original_form='dlrs', lda_form='dlrs', include=True): nan, Word(original_form='prices', lda_form='price', include=True): nan, Word(original_form='expectations', lda_form='expectation', include=True): nan, Word(original_form='direction', lda_form='direction', include=True): nan, Word(original_form='Jim', lda_form='jim', include=True): nan, Word(original_form='came', lda_form='come', include=True): nan, Word(original_form='Oper', lda_form='oper', include=True): nan, Word(original_form='month', lda_form='month', include=True): nan, Word(original_form='failed', lda_form='fail', include=True): nan, Word(original_form='yr', lda_form='yr', include=True): nan, Word(original_form='futures', lda_form='future', include=True): nan, Word(original_form='tell', lda_form='tell', include=True): nan, Word(original_form='qtr', lda_form='qtr', include=True): nan, Word(original_form='McEntee', lda_form='mcentee', include=True): nan, Word(original_form='debits', lda_form='debit', include=True): nan, Word(original_form='Shanghai', lda_form='shanghai', include=True): nan, Word(original_form='traders', lda_form='trader', include=True): nan, Word(original_form='order', lda_form='order', include=True): nan, Word(original_form='extraordinary', lda_form='extraordinary', include=True): nan, Word(original_form='economic', lda_form='economic', include=True): nan, Word(original_form='Hong', lda_form='hong', include=True): nan, Word(original_form='June', lda_form='june', include=True): nan, Word(original_form='Brian', lda_form='brian', include=True): nan, Word(original_form='data', lda_form='datum', include=True): nan, Word(original_form='wo', lda_form='will', include=True): nan, Word(original_form='Sloane', lda_form='sloane', include=True): nan, Word(original_form='numbers', lda_form='number', include=True): nan, Word(original_form='sufficient', lda_form='sufficient', include=True): nan, Word(original_form='reassessment', lda_form='reassessment', include=True): nan, Word(original_form='litigation', lda_form='litigation', include=True): nan, Word(original_form='right', lda_form='right', include=True): nan, Word(original_form='break', lda_form='break', include=True): nan, Word(original_form='Gibbs', lda_form='gibbs', include=True): nan, Word(original_form='approached', lda_form='approach', include=True): nan, Word(original_form='concern', lda_form='concern', include=True): nan, Word(original_form='nearing', lda_form='near', include=True): nan, Word(original_form='closed', lda_form='close', include=True): nan, Word(original_form='YEAR', lda_form='year', include=True): nan, Word(original_form='liabilities', lda_form='liability', include=True): nan, Word(original_form='impressed', lda_form='impressed', include=True): nan, Word(original_form='pull', lda_form='pull', include=True): nan, Word(original_form='govt', lda_form='govt', include=True): nan, Word(original_form='support', lda_form='support', include=True): nan, Word(original_form='Hongkong', lda_form='hongkong', include=True): nan, Word(original_form='production', lda_form='production', include=True): nan, Word(original_form='analysts', lda_form='analyst', include=True): nan, Word(original_form='ended', lda_form='end', include=True): nan, Word(original_form='Futures', lda_form='futures', include=True): nan, Word(original_form='index', lda_form='index', include=True): nan, Word(original_form='ready', lda_form='ready', include=True): nan, Word(original_form='producer', lda_form='producer', include=True): nan, Word(original_form='period', lda_form='period', include=True): nan, Word(original_form='Karen', lda_form='karen', include=True): nan, Word(original_form='Canada', lda_form='canada', include=True): nan, Word(original_form='loss', lda_form='loss', include=True): nan, Word(original_form='Craig', lda_form='craig', include=True): nan, Word(original_form='forecasts', lda_form='forecast', include=True): nan, Word(original_form='U.S.', lda_form='u.s.', include=True): nan, Word(original_form='Dean', lda_form='dean', include=True): nan, Word(original_form='boost', lda_form='boost', include=True): nan, Word(original_form='gains', lda_form='gain', include=True): nan, Word(original_form='Reuter', lda_form='reuter', include=True): nan, Word(original_form='excludes', lda_form='exclude', include=True): nan, Word(original_form='Upham', lda_form='upham', include=True): nan, Word(original_form='auto', lda_form='auto', include=True): nan, Word(original_form='retail', lda_form='retail', include=True): nan, Word(original_form='Harris', lda_form='harris', include=True): nan, Word(original_form='figures', lda_form='figure', include=True): nan, Word(original_form='little', lda_form='little', include=True): nan, Word(original_form='Kong', lda_form='kong', include=True): nan, Word(original_form='Carroll', lda_form='carroll', include=True): nan, Word(original_form='week', lda_form='week', include=True): nan, Word(original_form='Manufacturers', lda_form='manufacturers', include=True): nan, Word(original_form='surge', lda_form='surge', include=True): nan, Word(original_form='slightly', lda_form='slightly', include=True): nan, Word(original_form='resiliency', lda_form='resiliency', include=True): nan, Word(original_form='created', lda_form='create', include=True): nan, Word(original_form='looking', lda_form='look', include=True): nan, Word(original_form='October', lda_form='october', include=True): nan, Word(original_form='positive', lda_form='positive', include=True): nan, Word(original_form='positions', lda_form='position', include=True): nan, Word(original_form='key', lda_form='key', include=True): nan, Word(original_form='referring', lda_form='refer', include=True): nan, Word(original_form='firm', lda_form='firm', include=True): nan, Word(original_form='level', lda_form='level', include=True): nan, Word(original_form='pct', lda_form='pct', include=True): nan, Word(original_form='bonds', lda_form='bond', include=True): nan, Word(original_form='Singer', lda_form='singer', include=True): nan, Word(original_form='added', lda_form='add', include=True): nan, Word(original_form='bit', lda_form='bit', include=True): nan, Word(original_form='rise', lda_form='rise', include=True): nan, Word(original_form='higher', lda_form='high', include=True): nan, Word(original_form='gap', lda_form='gap', include=True): nan, Word(original_form='able', lda_form='able', include=True): nan, Word(original_form='February', lda_form='february', include=True): nan, Word(original_form='participants', lda_form='participant', include=True): nan, Word(original_form='McGinley', lda_form='mcginley', include=True): nan, Word(original_form='Witter', lda_form='witter', include=True): nan, Word(original_form='estimate', lda_form='estimate', include=True): nan, Word(original_form='materialize', lda_form='materialize', include=True): nan, Word(original_form='contract', lda_form='contract', include=True): nan, Word(original_form='oil', lda_form='oil', include=True): nan, Word(original_form='bad', lda_form='bad', include=True): nan, Word(original_form='barrel', lda_form='barrel', include=True): nan, Word(original_form='Banking', lda_form='banking', include=True): nan, Word(original_form='potential', lda_form='potential', include=True): nan, Word(original_form='tax', lda_form='tax', include=True): nan, Word(original_form='cts', lda_form='ct', include=True): nan, Word(original_form='mln', lda_form='mln', include=True): nan, Word(original_form='today', lda_form='today', include=True): nan, Word(original_form='preferred', lda_form='preferred', include=True): nan, Word(original_form='said', lda_form='say', include=True): nan, Word(original_form='non', lda_form='non', include=True): nan, Word(original_form='jump', lda_form='jump', include=True): nan, Word(original_form='bandwagon', lda_form='bandwagon', include=True): nan, Word(original_form='Smith', lda_form='smith', include=True): nan, Word(original_form='time', lda_form='time', include=True): nan, Word(original_form='addition', lda_form='addition', include=True): nan, Word(original_form='market', lda_form='market', include=True): nan, Word(original_form='increases', lda_form='increase', include=True): nan, Word(original_form='consensus', lda_form='consensus', include=True): nan, Word(original_form='shr', lda_form='shr', include=True): nan, Word(original_form='chart', lda_form='chart', include=True): nan, Word(original_form='vs', lda_form='vs', include=True): nan, Word(original_form='deferred', lda_form='defer', include=True): nan, Word(original_form='federal', lda_form='federal', include=True): nan, Word(original_form='funds', lda_form='fund', include=True): nan, Word(original_form='needs', lda_form='need', include=True): nan, Word(original_form='Thursday', lda_form='thursday', include=True): nan, Word(original_form='financial', lda_form='financial', include=True): nan, Word(original_form='Friday', lda_form='friday', include=True): nan, Word(original_form='find', lda_form='find', include=True): nan, Word(original_form='run', lda_form='run', include=True): nan, Word(original_form='sales', lda_form='sale', include=True): nan, Word(original_form='easing', lda_form='ease', include=True): nan, Word(original_form='trading', lda_form='trading', include=True): nan, Word(original_form='quickly', lda_form='quickly', include=True): nan, Word(original_form='Note', lda_form='note', include=True): nan, Word(original_form='bank', lda_form='bank', include=True): nan, Word(original_form='rate', lda_form='rate', include=True): nan, Word(original_form='linked', lda_form='link', include=True): nan, Word(original_form='sold', lda_form='sell', include=True): nan, Word(original_form='Assets', lda_form='asset', include=True): nan, Word(original_form='determining', lda_form='determine', include=True): nan, Word(original_form='costs', lda_form='cost', include=True): nan, Word(original_form='divs', lda_form='div', include=True): nan, Word(original_form='debt', lda_form='debt', include=True): nan, Word(original_form='fill', lda_form='fill', include=True): nan, Word(original_form='contingent', lda_form='contingent', include=True): nan, Word(original_form='course', lda_form='course', include=True): nan, Word(original_form='sector', lda_form='sector', include=True): nan, Word(original_form='cts', lda_form='cts', include=True): nan, Word(original_form='Nov', lda_form='nov', include=True): nan, Word(original_form='respect', lda_form='respect', include=True): nan, Word(original_form='rally', lda_form='rally', include=True): nan, Word(original_form='Treasury', lda_form='treasury', include=True): nan}], 'phis': {Document including 249 words: array([[nan, nan],\n",
      "       [nan, nan],\n",
      "       [nan, nan],\n",
      "       [nan, nan],\n",
      "       [nan, nan],\n",
      "       [nan, nan],\n",
      "       [nan, nan],\n",
      "       [nan, nan],\n",
      "       [nan, nan],\n",
      "       [nan, nan],\n",
      "       [nan, nan],\n",
      "       [nan, nan],\n",
      "       [nan, nan],\n",
      "       [nan, nan],\n",
      "       [nan, nan],\n",
      "       [nan, nan],\n",
      "       [nan, nan],\n",
      "       [nan, nan],\n",
      "       [nan, nan],\n",
      "       [nan, nan],\n",
      "       [nan, nan],\n",
      "       [nan, nan],\n",
      "       [nan, nan],\n",
      "       [nan, nan],\n",
      "       [nan, nan],\n",
      "       [nan, nan],\n",
      "       [nan, nan],\n",
      "       [nan, nan],\n",
      "       [nan, nan],\n",
      "       [nan, nan],\n",
      "       [nan, nan],\n",
      "       [nan, nan],\n",
      "       [nan, nan],\n",
      "       [nan, nan],\n",
      "       [nan, nan],\n",
      "       [nan, nan],\n",
      "       [nan, nan],\n",
      "       [nan, nan],\n",
      "       [nan, nan],\n",
      "       [nan, nan],\n",
      "       [nan, nan],\n",
      "       [nan, nan],\n",
      "       [nan, nan],\n",
      "       [nan, nan],\n",
      "       [nan, nan],\n",
      "       [nan, nan],\n",
      "       [nan, nan],\n",
      "       [nan, nan],\n",
      "       [nan, nan],\n",
      "       [nan, nan],\n",
      "       [nan, nan],\n",
      "       [nan, nan],\n",
      "       [nan, nan],\n",
      "       [nan, nan],\n",
      "       [nan, nan],\n",
      "       [nan, nan],\n",
      "       [nan, nan],\n",
      "       [nan, nan],\n",
      "       [nan, nan],\n",
      "       [nan, nan],\n",
      "       [nan, nan],\n",
      "       [nan, nan],\n",
      "       [nan, nan],\n",
      "       [nan, nan],\n",
      "       [nan, nan],\n",
      "       [nan, nan],\n",
      "       [nan, nan],\n",
      "       [nan, nan],\n",
      "       [nan, nan],\n",
      "       [nan, nan],\n",
      "       [nan, nan],\n",
      "       [nan, nan],\n",
      "       [nan, nan],\n",
      "       [nan, nan],\n",
      "       [nan, nan],\n",
      "       [nan, nan],\n",
      "       [nan, nan],\n",
      "       [nan, nan],\n",
      "       [nan, nan],\n",
      "       [nan, nan],\n",
      "       [nan, nan],\n",
      "       [nan, nan],\n",
      "       [nan, nan],\n",
      "       [nan, nan],\n",
      "       [nan, nan],\n",
      "       [nan, nan],\n",
      "       [nan, nan],\n",
      "       [nan, nan],\n",
      "       [nan, nan],\n",
      "       [nan, nan],\n",
      "       [nan, nan],\n",
      "       [nan, nan],\n",
      "       [nan, nan],\n",
      "       [nan, nan],\n",
      "       [nan, nan],\n",
      "       [nan, nan],\n",
      "       [nan, nan],\n",
      "       [nan, nan],\n",
      "       [nan, nan],\n",
      "       [nan, nan],\n",
      "       [nan, nan],\n",
      "       [nan, nan],\n",
      "       [nan, nan],\n",
      "       [nan, nan],\n",
      "       [nan, nan],\n",
      "       [nan, nan],\n",
      "       [nan, nan],\n",
      "       [nan, nan],\n",
      "       [nan, nan],\n",
      "       [nan, nan],\n",
      "       [nan, nan],\n",
      "       [nan, nan],\n",
      "       [nan, nan],\n",
      "       [nan, nan],\n",
      "       [nan, nan],\n",
      "       [nan, nan],\n",
      "       [nan, nan],\n",
      "       [nan, nan],\n",
      "       [nan, nan],\n",
      "       [nan, nan],\n",
      "       [nan, nan],\n",
      "       [nan, nan],\n",
      "       [nan, nan],\n",
      "       [nan, nan],\n",
      "       [nan, nan],\n",
      "       [nan, nan],\n",
      "       [nan, nan],\n",
      "       [nan, nan],\n",
      "       [nan, nan],\n",
      "       [nan, nan],\n",
      "       [nan, nan],\n",
      "       [nan, nan],\n",
      "       [nan, nan],\n",
      "       [nan, nan],\n",
      "       [nan, nan],\n",
      "       [nan, nan],\n",
      "       [nan, nan],\n",
      "       [nan, nan],\n",
      "       [nan, nan],\n",
      "       [nan, nan],\n",
      "       [nan, nan],\n",
      "       [nan, nan],\n",
      "       [nan, nan],\n",
      "       [nan, nan],\n",
      "       [nan, nan],\n",
      "       [nan, nan],\n",
      "       [nan, nan],\n",
      "       [nan, nan],\n",
      "       [nan, nan],\n",
      "       [nan, nan],\n",
      "       [nan, nan],\n",
      "       [nan, nan],\n",
      "       [nan, nan],\n",
      "       [nan, nan],\n",
      "       [nan, nan],\n",
      "       [nan, nan],\n",
      "       [nan, nan],\n",
      "       [nan, nan],\n",
      "       [nan, nan],\n",
      "       [nan, nan],\n",
      "       [nan, nan],\n",
      "       [nan, nan],\n",
      "       [nan, nan],\n",
      "       [nan, nan],\n",
      "       [nan, nan],\n",
      "       [nan, nan],\n",
      "       [nan, nan],\n",
      "       [nan, nan],\n",
      "       [nan, nan],\n",
      "       [nan, nan],\n",
      "       [nan, nan],\n",
      "       [nan, nan],\n",
      "       [nan, nan],\n",
      "       [nan, nan],\n",
      "       [nan, nan],\n",
      "       [nan, nan],\n",
      "       [nan, nan],\n",
      "       [nan, nan],\n",
      "       [nan, nan],\n",
      "       [nan, nan],\n",
      "       [nan, nan],\n",
      "       [nan, nan],\n",
      "       [nan, nan],\n",
      "       [nan, nan],\n",
      "       [nan, nan],\n",
      "       [nan, nan],\n",
      "       [nan, nan],\n",
      "       [nan, nan],\n",
      "       [nan, nan],\n",
      "       [nan, nan],\n",
      "       [nan, nan],\n",
      "       [nan, nan],\n",
      "       [nan, nan],\n",
      "       [nan, nan],\n",
      "       [nan, nan],\n",
      "       [nan, nan],\n",
      "       [nan, nan],\n",
      "       [nan, nan],\n",
      "       [nan, nan],\n",
      "       [nan, nan],\n",
      "       [nan, nan],\n",
      "       [nan, nan],\n",
      "       [nan, nan],\n",
      "       [nan, nan],\n",
      "       [nan, nan],\n",
      "       [nan, nan],\n",
      "       [nan, nan],\n",
      "       [nan, nan],\n",
      "       [nan, nan],\n",
      "       [nan, nan],\n",
      "       [nan, nan],\n",
      "       [nan, nan],\n",
      "       [nan, nan],\n",
      "       [nan, nan],\n",
      "       [nan, nan],\n",
      "       [nan, nan],\n",
      "       [nan, nan],\n",
      "       [nan, nan],\n",
      "       [nan, nan],\n",
      "       [nan, nan],\n",
      "       [nan, nan],\n",
      "       [nan, nan],\n",
      "       [nan, nan],\n",
      "       [nan, nan],\n",
      "       [nan, nan],\n",
      "       [nan, nan],\n",
      "       [nan, nan],\n",
      "       [nan, nan],\n",
      "       [nan, nan],\n",
      "       [nan, nan],\n",
      "       [nan, nan],\n",
      "       [nan, nan],\n",
      "       [nan, nan],\n",
      "       [nan, nan],\n",
      "       [nan, nan],\n",
      "       [nan, nan],\n",
      "       [nan, nan],\n",
      "       [nan, nan],\n",
      "       [nan, nan],\n",
      "       [nan, nan],\n",
      "       [nan, nan],\n",
      "       [nan, nan],\n",
      "       [nan, nan],\n",
      "       [nan, nan],\n",
      "       [nan, nan],\n",
      "       [nan, nan],\n",
      "       [nan, nan],\n",
      "       [nan, nan],\n",
      "       [nan, nan]]), Document including 91 words: array([[nan, nan],\n",
      "       [nan, nan],\n",
      "       [nan, nan],\n",
      "       [nan, nan],\n",
      "       [nan, nan],\n",
      "       [nan, nan],\n",
      "       [nan, nan],\n",
      "       [nan, nan],\n",
      "       [nan, nan],\n",
      "       [nan, nan],\n",
      "       [nan, nan],\n",
      "       [nan, nan],\n",
      "       [nan, nan],\n",
      "       [nan, nan],\n",
      "       [nan, nan],\n",
      "       [nan, nan],\n",
      "       [nan, nan],\n",
      "       [nan, nan],\n",
      "       [nan, nan],\n",
      "       [nan, nan],\n",
      "       [nan, nan],\n",
      "       [nan, nan],\n",
      "       [nan, nan],\n",
      "       [nan, nan],\n",
      "       [nan, nan],\n",
      "       [nan, nan],\n",
      "       [nan, nan],\n",
      "       [nan, nan],\n",
      "       [nan, nan],\n",
      "       [nan, nan],\n",
      "       [nan, nan],\n",
      "       [nan, nan],\n",
      "       [nan, nan],\n",
      "       [nan, nan],\n",
      "       [nan, nan],\n",
      "       [nan, nan],\n",
      "       [nan, nan],\n",
      "       [nan, nan],\n",
      "       [nan, nan],\n",
      "       [nan, nan],\n",
      "       [nan, nan],\n",
      "       [nan, nan],\n",
      "       [nan, nan],\n",
      "       [nan, nan],\n",
      "       [nan, nan],\n",
      "       [nan, nan],\n",
      "       [nan, nan],\n",
      "       [nan, nan],\n",
      "       [nan, nan],\n",
      "       [nan, nan],\n",
      "       [nan, nan],\n",
      "       [nan, nan],\n",
      "       [nan, nan],\n",
      "       [nan, nan],\n",
      "       [nan, nan],\n",
      "       [nan, nan],\n",
      "       [nan, nan],\n",
      "       [nan, nan],\n",
      "       [nan, nan],\n",
      "       [nan, nan],\n",
      "       [nan, nan],\n",
      "       [nan, nan],\n",
      "       [nan, nan],\n",
      "       [nan, nan],\n",
      "       [nan, nan],\n",
      "       [nan, nan],\n",
      "       [nan, nan],\n",
      "       [nan, nan],\n",
      "       [nan, nan],\n",
      "       [nan, nan],\n",
      "       [nan, nan],\n",
      "       [nan, nan],\n",
      "       [nan, nan],\n",
      "       [nan, nan],\n",
      "       [nan, nan],\n",
      "       [nan, nan],\n",
      "       [nan, nan],\n",
      "       [nan, nan],\n",
      "       [nan, nan],\n",
      "       [nan, nan],\n",
      "       [nan, nan],\n",
      "       [nan, nan],\n",
      "       [nan, nan],\n",
      "       [nan, nan],\n",
      "       [nan, nan],\n",
      "       [nan, nan],\n",
      "       [nan, nan],\n",
      "       [nan, nan],\n",
      "       [nan, nan],\n",
      "       [nan, nan],\n",
      "       [nan, nan]])}, 'gammas': {Document including 249 words: array([nan, nan]), Document including 91 words: array([nan, nan])}}\n"
     ]
    },
    {
     "data": {
      "text/plain": [
       "[<matplotlib.lines.Line2D at 0x118d109d0>]"
      ]
     },
     "execution_count": 10,
     "metadata": {},
     "output_type": "execute_result"
    },
    {
     "data": {
      "image/png": "[encoded data removed]",
      "text/plain": [
       "<Figure size 432x288 with 1 Axes>"
      ]
     },
     "metadata": {
      "needs_background": "light"
     },
     "output_type": "display_data"
    }
   ],
   "source": [
    "print(params)\n",
    "plt.figure()\n",
    "plt.plot(lower_bound_evol)"
   ]
  },
  {
   "cell_type": "code",
   "execution_count": 17,
   "metadata": {},
   "outputs": [
    {
     "name": "stdout",
     "output_type": "stream",
     "text": [
      "Corpus with 2 documents\n"
     ]
    },
    {
     "data": {
      "application/vnd.jupyter.widget-view+json": {
       "model_id": "46934e66beb44a18a6933bf908603888",
       "version_major": 2,
       "version_minor": 0
      },
      "text/plain": [
       "  0%|          | 0/64 [00:00<?, ?it/s]"
      ]
     },
     "metadata": {},
     "output_type": "display_data"
    }
   ],
   "source": [
    "corpus_with_topics = Corpus(docs_with_topics[1:3])\n",
    "print(corpus_with_topics)\n",
    "\n",
    "with utils.np_seed(123):\n",
    "    params, lower_bound_evol = lda(corpus_with_topics, num_topics=2, num_iterations=64)"
   ]
  },
  {
   "cell_type": "code",
   "execution_count": 19,
   "metadata": {},
   "outputs": [
    {
     "name": "stdout",
     "output_type": "stream",
     "text": [
      "{'alpha': array([-5.05096063e+05,  4.00153067e+02]), 'beta': [{Word(original_form='debits', lda_form='debit', include=True): 0.007518796993473405, Word(original_form='Shanghai', lda_form='shanghai', include=True): 0.007518796993473405, Word(original_form='involving', lda_form='involve', include=True): 0.007518796993473405, Word(original_form='4th', lda_form='4th', include=True): 0.007518796985473149, Word(original_form='extraordinary', lda_form='extraordinary', include=True): 0.01503759398694681, Word(original_form='shr', lda_form='shr', include=True): 0.052631578954313835, Word(original_form='Hong', lda_form='hong', include=True): 0.007518796993473405, Word(original_form='vs', lda_form='vs', include=True): 0.08270676692820746, Word(original_form='October', lda_form='october', include=True): 0.007518796993473405, Word(original_form='deferred', lda_form='defer', include=True): 0.007518796993473405, Word(original_form='reassessment', lda_form='reassessment', include=True): 0.007518796993473405, Word(original_form='carryforward', lda_form='carryforward', include=True): 0.007518796977723277, Word(original_form='litigation', lda_form='litigation', include=True): 0.007518796993473405, Word(original_form='net', lda_form='net', include=True): 0.04511278196084043, Word(original_form='includes', lda_form='include', include=True): 0.007518796983144838, Word(original_form='Revs', lda_form='revs', include=True): 0.015037593940305535, Word(original_form='stock', lda_form='stock', include=True): 0.007518796987306381, Word(original_form='form', lda_form='form', include=True): 0.007518796989148922, Word(original_form='pct', lda_form='pct', include=True): 0.007518796984850556, Word(original_form='class', lda_form='class', include=True): 0.007518796987614398, Word(original_form='YEAR', lda_form='year', include=True): 0.01503759398694681, Word(original_form='liabilities', lda_form='liability', include=True): 0.007518796993473405, Word(original_form='unit', lda_form='unit', include=True): 0.007518796993473405, Word(original_form='sale', lda_form='sale', include=True): 0.007518796993473405, Word(original_form='govt', lda_form='govt', include=True): 0.007518796993473405, Word(original_form='Hongkong', lda_form='hongkong', include=True): 0.01503759398694681, Word(original_form='ended', lda_form='end', include=True): 0.007518796993473405, Word(original_form='Shares', lda_form='share', include=True): 0.007518796986327374, Word(original_form='Corp', lda_form='corp', include=True): 0.007518796993473405, Word(original_form='1st', lda_form='1st', include=True): 0.007518796993473405, Word(original_form='NOTE:1985', lda_form='note:1985', include=True): 0.0075187969913993735, Word(original_form='Note', lda_form='note', include=True): 0.007518796993473405, Word(original_form='restated', lda_form='restate', include=True): 0.007518796990128903, Word(original_form='profit', lda_form='profit', include=True): 0.037593984967367024, Word(original_form='period', lda_form='period', include=True): 0.007518796993473405, Word(original_form='bank', lda_form='bank', include=True): 0.03007518797389362, Word(original_form='Canada', lda_form='canada', include=True): 0.01503759398694681, Word(original_form='dlrs', lda_form='dlrs', include=True): 0.052631578954313835, Word(original_form='sold', lda_form='sell', include=True): 0.007518796993473405, Word(original_form='loss', lda_form='loss', include=True): 0.04511278196084043, Word(original_form='Assets', lda_form='asset', include=True): 0.022556390980420216, Word(original_form='U.S.', lda_form='u.s.', include=True): 0.007518796993473405, Word(original_form='August', lda_form='august', include=True): 0.007518796987641295, Word(original_form='costs', lda_form='cost', include=True): 0.007518796993473405, Word(original_form='excludes', lda_form='exclude', include=True): 0.01503759398694681, Word(original_form='divs', lda_form='div', include=True): 0.007518796993473405, Word(original_form='Reuter', lda_form='reuter', include=True): 0.01503759398694681, Word(original_form='Banking', lda_form='banking', include=True): 0.007518796993473405, Word(original_form='potential', lda_form='potential', include=True): 0.007518796993473405, Word(original_form='Oper', lda_form='oper', include=True): 0.03007518797389362, Word(original_form='cts', lda_form='ct', include=True): 0.052631578954313835, Word(original_form='tax', lda_form='tax', include=True): 0.01503759398694681, Word(original_form='split', lda_form='split', include=True): 0.007518796993427034, Word(original_form='yr', lda_form='yr', include=True): 0.007518796993473405, Word(original_form='mln', lda_form='mln', include=True): 0.07518796993473405, Word(original_form='dividend', lda_form='dividend', include=True): 0.007518796991671324, Word(original_form='contingent', lda_form='contingent', include=True): 0.007518796993473405, Word(original_form='effect', lda_form='effect', include=True): 0.007518796987449295, Word(original_form='cts', lda_form='cts', include=True): 0.01503759398694681, Word(original_form='preferred', lda_form='preferred', include=True): 0.007518796993473405, Word(original_form='Nov', lda_form='nov', include=True): 0.007518796993473405, Word(original_form='respect', lda_form='respect', include=True): 0.007518796993473405, Word(original_form='Kong', lda_form='kong', include=True): 0.007518796993473405, Word(original_form='qtr', lda_form='qtr', include=True): 0.01503759398694681}, {Word(original_form='debits', lda_form='debit', include=True): 1.9112397137715975e-17, Word(original_form='Shanghai', lda_form='shanghai', include=True): 2.5092253660644433e-18, Word(original_form='involving', lda_form='involve', include=True): 1.5326119114355884e-18, Word(original_form='4th', lda_form='4th', include=True): 0.0606250735856232, Word(original_form='extraordinary', lda_form='extraordinary', include=True): 1.1080971084930645e-18, Word(original_form='shr', lda_form='shr', include=True): 7.59674580034076e-17, Word(original_form='Hong', lda_form='hong', include=True): 7.404573814507967e-18, Word(original_form='vs', lda_form='vs', include=True): 3.0202482274136747e-16, Word(original_form='October', lda_form='october', include=True): 2.668315890876136e-19, Word(original_form='deferred', lda_form='defer', include=True): 4.6290156299391006e-18, Word(original_form='reassessment', lda_form='reassessment', include=True): 7.207592549772378e-18, Word(original_form='carryforward', lda_form='carryforward', include=True): 0.11935276119457985, Word(original_form='litigation', lda_form='litigation', include=True): 2.1832520559502656e-18, Word(original_form='net', lda_form='net', include=True): 6.88624598003526e-17, Word(original_form='includes', lda_form='include', include=True): 0.07826876501670674, Word(original_form='Revs', lda_form='revs', include=True): 0.353442543599039, Word(original_form='stock', lda_form='stock', include=True): 0.04673303130019172, Word(original_form='form', lda_form='form', include=True): 0.032770468683991916, Word(original_form='pct', lda_form='pct', include=True): 0.06534301954612871, Word(original_form='class', lda_form='class', include=True): 0.04439892252413782, Word(original_form='YEAR', lda_form='year', include=True): 3.8164652883905243e-17, Word(original_form='liabilities', lda_form='liability', include=True): 4.0503003194791675e-19, Word(original_form='unit', lda_form='unit', include=True): 2.3950211162397315e-18, Word(original_form='sale', lda_form='sale', include=True): 6.999742408205758e-18, Word(original_form='govt', lda_form='govt', include=True): 1.1062480155897718e-17, Word(original_form='Hongkong', lda_form='hongkong', include=True): 4.9512773208082555e-17, Word(original_form='ended', lda_form='end', include=True): 6.879630384590046e-18, Word(original_form='Shares', lda_form='share', include=True): 0.05415184419435998, Word(original_form='Corp', lda_form='corp', include=True): 3.656326860812315e-17, Word(original_form='1st', lda_form='1st', include=True): 9.054656993651393e-18, Word(original_form='NOTE:1985', lda_form='note:1985', include=True): 0.015716777180889707, Word(original_form='Note', lda_form='note', include=True): 4.587033389571083e-18, Word(original_form='restated', lda_form='restate', include=True): 0.02534427264208295, Word(original_form='profit', lda_form='profit', include=True): 3.122243484722796e-17, Word(original_form='period', lda_form='period', include=True): 6.832850835817877e-18, Word(original_form='bank', lda_form='bank', include=True): 1.6945106758784894e-17, Word(original_form='Canada', lda_form='canada', include=True): 1.2736756331621958e-18, Word(original_form='dlrs', lda_form='dlrs', include=True): 1.0365785805109833e-17, Word(original_form='sold', lda_form='sell', include=True): 2.9296893005279964e-18, Word(original_form='loss', lda_form='loss', include=True): 1.345324617106605e-16, Word(original_form='Assets', lda_form='asset', include=True): 4.5440688729231e-17, Word(original_form='U.S.', lda_form='u.s.', include=True): 7.571896901068233e-18, Word(original_form='August', lda_form='august', include=True): 0.044195098910386386, Word(original_form='costs', lda_form='cost', include=True): 8.723506533869596e-18, Word(original_form='excludes', lda_form='exclude', include=True): 7.446708134554131e-18, Word(original_form='divs', lda_form='div', include=True): 2.0407441973156704e-18, Word(original_form='Reuter', lda_form='reuter', include=True): 3.685180538358525e-17, Word(original_form='Banking', lda_form='banking', include=True): 7.680181533724615e-18, Word(original_form='potential', lda_form='potential', include=True): 1.5939363759957752e-17, Word(original_form='Oper', lda_form='oper', include=True): 1.5180099979266438e-17, Word(original_form='cts', lda_form='ct', include=True): 1.915590323101925e-16, Word(original_form='tax', lda_form='tax', include=True): 1.086437736440689e-17, Word(original_form='split', lda_form='split', include=True): 0.00035140165549009237, Word(original_form='yr', lda_form='yr', include=True): 1.84504235249712e-17, Word(original_form='mln', lda_form='mln', include=True): 1.1382196447839496e-15, Word(original_form='dividend', lda_form='dividend', include=True): 0.013655970936299286, Word(original_form='contingent', lda_form='contingent', include=True): 1.8967893564526962e-18, Word(original_form='effect', lda_form='effect', include=True): 0.04565004903009034, Word(original_form='cts', lda_form='cts', include=True): 1.530057616210741e-17, Word(original_form='preferred', lda_form='preferred', include=True): 9.5307101013493e-18, Word(original_form='Nov', lda_form='nov', include=True): 2.3398009240289554e-18, Word(original_form='respect', lda_form='respect', include=True): 4.748927292435583e-18, Word(original_form='Kong', lda_form='kong', include=True): 5.438907775662479e-18, Word(original_form='qtr', lda_form='qtr', include=True): 6.207519867101505e-17}], 'phis': {Document including 91 words: array([[1.00000000e+00, 6.66217733e-26],\n",
      "       [1.00000000e+00, 1.90515845e-25],\n",
      "       [1.00000000e+00, 3.93620208e-25],\n",
      "       [1.00000000e+00, 4.80403477e-25],\n",
      "       [1.00000000e+00, 4.82004952e-25],\n",
      "       [1.00000000e+00, 1.09622149e-25],\n",
      "       [1.00000000e+00, 4.80403477e-25],\n",
      "       [1.00000000e+00, 6.66217733e-26],\n",
      "       [1.00000000e+00, 2.01480411e-25],\n",
      "       [1.00000000e+00, 1.09622149e-25],\n",
      "       [1.00000000e+00, 2.59959527e-26],\n",
      "       [1.00000000e+00, 4.82004952e-25],\n",
      "       [1.00000000e+00, 1.09622149e-25],\n",
      "       [1.00000000e+00, 3.34990791e-25],\n",
      "       [1.00000000e+00, 1.19950894e-25],\n",
      "       [1.00000000e+00, 1.20772110e-25],\n",
      "       [1.00000000e+00, 4.68423624e-27],\n",
      "       [1.00000000e+00, 6.66217733e-26],\n",
      "       [1.00000000e+00, 1.90515845e-25],\n",
      "       [1.00000000e+00, 3.93620208e-25],\n",
      "       [1.00000000e+00, 1.34301028e-25],\n",
      "       [1.00000000e+00, 4.82004952e-25],\n",
      "       [1.00000000e+00, 1.09622149e-25],\n",
      "       [1.00000000e+00, 4.80403477e-25],\n",
      "       [1.00000000e+00, 6.66217733e-26],\n",
      "       [1.00000000e+00, 2.01480411e-25],\n",
      "       [1.00000000e+00, 3.93620208e-25],\n",
      "       [1.00000000e+00, 4.82004952e-25],\n",
      "       [1.00000000e+00, 1.09622149e-25],\n",
      "       [1.00000000e+00, 2.65904200e-25],\n",
      "       [1.00000000e+00, 4.82004952e-25],\n",
      "       [1.00000000e+00, 8.05255035e-26],\n",
      "       [1.00000000e+00, 1.58954765e-25],\n",
      "       [1.00000000e+00, 5.44865952e-25],\n",
      "       [1.00000000e+00, 2.01480411e-25],\n",
      "       [1.00000000e+00, 6.53635881e-26],\n",
      "       [1.00000000e+00, 9.72633835e-27],\n",
      "       [1.00000000e+00, 3.93620208e-25],\n",
      "       [1.00000000e+00, 2.59959527e-26],\n",
      "       [1.00000000e+00, 1.34301028e-25],\n",
      "       [1.00000000e+00, 1.90515845e-25],\n",
      "       [1.00000000e+00, 3.23897717e-25],\n",
      "       [1.00000000e+00, 2.01480411e-25],\n",
      "       [1.00000000e+00, 6.53635881e-26],\n",
      "       [1.00000000e+00, 9.72633835e-27],\n",
      "       [1.00000000e+00, 3.93620208e-25],\n",
      "       [1.00000000e+00, 1.99814787e-24],\n",
      "       [1.00000000e+00, 2.59959527e-26],\n",
      "       [1.00000000e+00, 2.59959527e-26],\n",
      "       [1.00000000e+00, 1.90515845e-25],\n",
      "       [1.00000000e+00, 2.69050463e-26],\n",
      "       [1.00000000e+00, 2.59959527e-26],\n",
      "       [1.00000000e+00, 1.53141409e-25],\n",
      "       [1.00000000e+00, 1.22880680e-25],\n",
      "       [1.00000000e+00, 7.43679595e-26],\n",
      "       [1.00000000e+00, 2.65904200e-25],\n",
      "       [1.00000000e+00, 4.34599081e-25],\n",
      "       [1.00000000e+00, 7.43679595e-26],\n",
      "       [1.00000000e+00, 1.11797062e-26],\n",
      "       [1.00000000e+00, 1.99814787e-24],\n",
      "       [1.00000000e+00, 2.59959527e-26],\n",
      "       [1.00000000e+00, 3.32981919e-26],\n",
      "       [1.00000000e+00, 7.11031389e-27],\n",
      "       [1.00000000e+00, 8.33675556e-26],\n",
      "       [1.00000000e+00, 3.83270528e-26],\n",
      "       [1.00000000e+00, 2.79815991e-25],\n",
      "       [1.00000000e+00, 9.53622290e-26],\n",
      "       [1.00000000e+00, 1.26529495e-25],\n",
      "       [1.00000000e+00, 1.32924869e-25],\n",
      "       [1.00000000e+00, 1.94202158e-25],\n",
      "       [1.00000000e+00, 2.59959527e-26],\n",
      "       [1.00000000e+00, 8.12625029e-26],\n",
      "       [1.00000000e+00, 9.53622290e-26],\n",
      "       [1.00000000e+00, 3.35518683e-25],\n",
      "       [1.00000000e+00, 7.43679595e-26],\n",
      "       [1.00000000e+00, 2.65904200e-25],\n",
      "       [1.00000000e+00, 5.14307802e-26],\n",
      "       [1.00000000e+00, 4.34599081e-25],\n",
      "       [1.00000000e+00, 7.43679595e-26],\n",
      "       [1.00000000e+00, 1.11797062e-26],\n",
      "       [1.00000000e+00, 4.20446648e-26],\n",
      "       [1.00000000e+00, 1.29987507e-25],\n",
      "       [1.00000000e+00, 9.54801829e-26],\n",
      "       [1.00000000e+00, 4.40495237e-26],\n",
      "       [1.00000000e+00, 1.34825808e-25],\n",
      "       [1.00000000e+00, 6.41869235e-25],\n",
      "       [1.00000000e+00, 4.10752727e-26],\n",
      "       [1.00000000e+00, 1.90515845e-25],\n",
      "       [1.00000000e+00, 1.67311891e-25],\n",
      "       [1.00000000e+00, 3.58253233e-26],\n",
      "       [1.00000000e+00, 3.23467253e-25]]), Document including 42 words: array([[1.00000000e+00, 1.90498252e-25],\n",
      "       [1.00000000e+00, 4.80359115e-25],\n",
      "       [1.00000000e+00, 4.81960442e-25],\n",
      "       [1.00000000e+00, 4.80359115e-25],\n",
      "       [1.00000000e+00, 2.01461806e-25],\n",
      "       [1.00000000e+00, 1.99796335e-24],\n",
      "       [1.00000000e+00, 4.81960442e-25],\n",
      "       [1.00000000e+00, 1.99796335e-24],\n",
      "       [9.99999997e-01, 3.10206054e-09],\n",
      "       [1.00000000e+00, 1.99796335e-24],\n",
      "       [1.00000000e+00, 4.81960442e-25],\n",
      "       [1.00000000e+00, 1.99796335e-24],\n",
      "       [1.00000000e+00, 3.34959857e-25],\n",
      "       [1.00000000e+00, 1.90498252e-25],\n",
      "       [1.00000000e+00, 4.80359115e-25],\n",
      "       [1.00000000e+00, 4.81960442e-25],\n",
      "       [1.00000000e+00, 4.80359115e-25],\n",
      "       [1.00000000e+00, 2.01461806e-25],\n",
      "       [1.00000000e+00, 1.99796335e-24],\n",
      "       [1.00000000e+00, 4.81960442e-25],\n",
      "       [1.00000000e+00, 1.99796335e-24],\n",
      "       [9.99999997e-01, 3.10206054e-09],\n",
      "       [1.00000000e+00, 1.99796335e-24],\n",
      "       [1.00000000e+00, 4.81960442e-25],\n",
      "       [1.00000000e+00, 1.99796335e-24],\n",
      "       [1.00000000e+00, 2.75882998e-10],\n",
      "       [9.99999999e-01, 1.06417664e-09],\n",
      "       [1.00000000e+00, 5.44815637e-25],\n",
      "       [9.99999999e-01, 1.37388355e-09],\n",
      "       [1.00000000e+00, 3.93583859e-25],\n",
      "       [9.99999998e-01, 2.09504768e-09],\n",
      "       [9.99999999e-01, 9.50549402e-10],\n",
      "       [1.00000000e+00, 4.44878352e-10],\n",
      "       [9.99999999e-01, 8.01313925e-10],\n",
      "       [9.99999999e-01, 8.20323954e-10],\n",
      "       [1.00000000e+00, 6.16829655e-12],\n",
      "       [9.99999999e-01, 5.75233399e-10],\n",
      "       [9.99999999e-01, 1.14699267e-09],\n",
      "       [9.99999999e-01, 7.79352391e-10],\n",
      "       [1.00000000e+00, 2.39708826e-10],\n",
      "       [9.99999999e-01, 7.75774592e-10],\n",
      "       [1.00000000e+00, 3.23437383e-25]])}, 'gammas': {Document including 91 words: array([-5.05005063e+05,  4.00153067e+02]), Document including 42 words: array([-5.05054063e+05,  4.00153067e+02])}}\n"
     ]
    },
    {
     "data": {
      "text/plain": [
       "[<matplotlib.lines.Line2D at 0x119149040>]"
      ]
     },
     "execution_count": 19,
     "metadata": {},
     "output_type": "execute_result"
    },
    {
     "data": {
      "image/png": "[encoded data removed]",
      "text/plain": [
       "<Figure size 432x288 with 1 Axes>"
      ]
     },
     "metadata": {
      "needs_background": "light"
     },
     "output_type": "display_data"
    }
   ],
   "source": [
    "print(params)\n",
    "plt.figure()\n",
    "plt.plot(lower_bound_evol)"
   ]
  },
  {
   "cell_type": "code",
   "execution_count": 20,
   "metadata": {},
   "outputs": [
    {
     "data": {
      "text/plain": [
       "array([-494.13872663,           nan,           nan,           nan,\n",
       "                 nan,           nan,           nan,           nan,\n",
       "                 nan,           nan,           nan,           nan,\n",
       "                 nan,           nan,           nan,           nan,\n",
       "                 nan,           nan,           nan,           nan,\n",
       "                 nan,           nan,           nan,           nan,\n",
       "                 nan,           nan,           nan,           nan,\n",
       "                 nan,           nan,           nan,           nan,\n",
       "                 nan,           nan,           nan,           nan,\n",
       "                 nan,           nan,           nan,           nan,\n",
       "                 nan,           nan,           nan,           nan,\n",
       "                 nan,           nan,           nan,           nan,\n",
       "                 nan,           nan,           nan,           nan,\n",
       "                 nan,           nan,           nan,           nan,\n",
       "                 nan,           nan,           nan,           nan,\n",
       "                 nan,           nan,           nan,           nan])"
      ]
     },
     "execution_count": 20,
     "metadata": {},
     "output_type": "execute_result"
    }
   ],
   "source": [
    "lower_bound_evol"
   ]
  },
  {
   "cell_type": "code",
   "execution_count": 3,
   "metadata": {},
   "outputs": [
    {
     "name": "stdout",
     "output_type": "stream",
     "text": [
      "Corpus with 2 documents\n"
     ]
    },
    {
     "data": {
      "application/vnd.jupyter.widget-view+json": {
       "model_id": "27eb570f7ccb4c699fcc0b0a34fc3f81",
       "version_major": 2,
       "version_minor": 0
      },
      "text/plain": [
       "  0%|          | 0/64 [00:00<?, ?it/s]"
      ]
     },
     "metadata": {},
     "output_type": "display_data"
    },
    {
     "name": "stderr",
     "output_type": "stream",
     "text": [
      "/Users/agnieszkamiszkurka/Documents/KTH/S1/AdvancedML/LDA/projectLDA/experiments/lda/variational/e_step.py:62: RuntimeWarning: overflow encountered in exp\n",
      "  * np.exp(digamma(gamma[topic]))\n",
      "/Users/agnieszkamiszkurka/Documents/KTH/S1/AdvancedML/LDA/projectLDA/experiments/lda/variational/e_step.py:65: RuntimeWarning: invalid value encountered in true_divide\n",
      "  phi[word_idx] /= phi[word_idx].sum()\n"
     ]
    },
    {
     "ename": "AssertionError",
     "evalue": "",
     "output_type": "error",
     "traceback": [
      "\u001b[0;31m---------------------------------------------------------------------------\u001b[0m",
      "\u001b[0;31mAssertionError\u001b[0m                            Traceback (most recent call last)",
      "\u001b[0;32m<ipython-input-3-58d283446019>\u001b[0m in \u001b[0;36m<module>\u001b[0;34m\u001b[0m\n\u001b[1;32m      3\u001b[0m \u001b[0;34m\u001b[0m\u001b[0m\n\u001b[1;32m      4\u001b[0m \u001b[0;32mwith\u001b[0m \u001b[0mutils\u001b[0m\u001b[0;34m.\u001b[0m\u001b[0mnp_seed\u001b[0m\u001b[0;34m(\u001b[0m\u001b[0;36m123\u001b[0m\u001b[0;34m)\u001b[0m\u001b[0;34m:\u001b[0m\u001b[0;34m\u001b[0m\u001b[0;34m\u001b[0m\u001b[0m\n\u001b[0;32m----> 5\u001b[0;31m     \u001b[0mparams\u001b[0m\u001b[0;34m,\u001b[0m \u001b[0mlower_bound_evol\u001b[0m \u001b[0;34m=\u001b[0m \u001b[0mlda\u001b[0m\u001b[0;34m(\u001b[0m\u001b[0mcorpus_with_topics\u001b[0m\u001b[0;34m,\u001b[0m \u001b[0mnum_topics\u001b[0m\u001b[0;34m=\u001b[0m\u001b[0;36m2\u001b[0m\u001b[0;34m,\u001b[0m \u001b[0mnum_iterations\u001b[0m\u001b[0;34m=\u001b[0m\u001b[0;36m64\u001b[0m\u001b[0;34m)\u001b[0m\u001b[0;34m\u001b[0m\u001b[0;34m\u001b[0m\u001b[0m\n\u001b[0m",
      "\u001b[0;32m~/Documents/KTH/S1/AdvancedML/LDA/projectLDA/experiments/lda/variational/lda.py\u001b[0m in \u001b[0;36mlda\u001b[0;34m(corpus, num_topics, num_iterations)\u001b[0m\n\u001b[1;32m     47\u001b[0m             \u001b[0mgammas\u001b[0m\u001b[0;34m=\u001b[0m\u001b[0mparams\u001b[0m\u001b[0;34m[\u001b[0m\u001b[0;34m'gammas'\u001b[0m\u001b[0;34m]\u001b[0m\u001b[0;34m\u001b[0m\u001b[0;34m\u001b[0m\u001b[0m\n\u001b[1;32m     48\u001b[0m         ))\n\u001b[0;32m---> 49\u001b[0;31m         params.update(e_step(\n\u001b[0m\u001b[1;32m     50\u001b[0m             \u001b[0mcorpus\u001b[0m\u001b[0;34m=\u001b[0m\u001b[0mcorpus\u001b[0m\u001b[0;34m,\u001b[0m\u001b[0;34m\u001b[0m\u001b[0;34m\u001b[0m\u001b[0m\n\u001b[1;32m     51\u001b[0m             \u001b[0malpha\u001b[0m\u001b[0;34m=\u001b[0m\u001b[0mparams\u001b[0m\u001b[0;34m[\u001b[0m\u001b[0;34m'alpha'\u001b[0m\u001b[0;34m]\u001b[0m\u001b[0;34m,\u001b[0m\u001b[0;34m\u001b[0m\u001b[0;34m\u001b[0m\u001b[0m\n",
      "\u001b[0;32m~/Documents/KTH/S1/AdvancedML/LDA/projectLDA/experiments/lda/variational/e_step.py\u001b[0m in \u001b[0;36me_step\u001b[0;34m(corpus, alpha, beta)\u001b[0m\n\u001b[1;32m     18\u001b[0m     }\n\u001b[1;32m     19\u001b[0m     '''\n\u001b[0;32m---> 20\u001b[0;31m     params = {\n\u001b[0m\u001b[1;32m     21\u001b[0m         document: document_e_step(\n\u001b[1;32m     22\u001b[0m             \u001b[0mdocument\u001b[0m\u001b[0;34m=\u001b[0m\u001b[0mdocument\u001b[0m\u001b[0;34m,\u001b[0m\u001b[0;34m\u001b[0m\u001b[0;34m\u001b[0m\u001b[0m\n",
      "\u001b[0;32m~/Documents/KTH/S1/AdvancedML/LDA/projectLDA/experiments/lda/variational/e_step.py\u001b[0m in \u001b[0;36m<dictcomp>\u001b[0;34m(.0)\u001b[0m\n\u001b[1;32m     19\u001b[0m     '''\n\u001b[1;32m     20\u001b[0m     params = {\n\u001b[0;32m---> 21\u001b[0;31m         document: document_e_step(\n\u001b[0m\u001b[1;32m     22\u001b[0m             \u001b[0mdocument\u001b[0m\u001b[0;34m=\u001b[0m\u001b[0mdocument\u001b[0m\u001b[0;34m,\u001b[0m\u001b[0;34m\u001b[0m\u001b[0;34m\u001b[0m\u001b[0m\n\u001b[1;32m     23\u001b[0m             \u001b[0malpha\u001b[0m\u001b[0;34m=\u001b[0m\u001b[0malpha\u001b[0m\u001b[0;34m,\u001b[0m\u001b[0;34m\u001b[0m\u001b[0;34m\u001b[0m\u001b[0m\n",
      "\u001b[0;32m~/Documents/KTH/S1/AdvancedML/LDA/projectLDA/experiments/lda/variational/e_step.py\u001b[0m in \u001b[0;36mdocument_e_step\u001b[0;34m(document, alpha, beta)\u001b[0m\n\u001b[1;32m     62\u001b[0m                     \u001b[0;34m*\u001b[0m \u001b[0mnp\u001b[0m\u001b[0;34m.\u001b[0m\u001b[0mexp\u001b[0m\u001b[0;34m(\u001b[0m\u001b[0mdigamma\u001b[0m\u001b[0;34m(\u001b[0m\u001b[0mgamma\u001b[0m\u001b[0;34m[\u001b[0m\u001b[0mtopic\u001b[0m\u001b[0;34m]\u001b[0m\u001b[0;34m)\u001b[0m\u001b[0;34m)\u001b[0m\u001b[0;34m\u001b[0m\u001b[0;34m\u001b[0m\u001b[0m\n\u001b[1;32m     63\u001b[0m                 )\n\u001b[0;32m---> 64\u001b[0;31m                 \u001b[0;32massert\u001b[0m \u001b[0;32mnot\u001b[0m \u001b[0mnp\u001b[0m\u001b[0;34m.\u001b[0m\u001b[0misnan\u001b[0m\u001b[0;34m(\u001b[0m\u001b[0mphi\u001b[0m\u001b[0;34m[\u001b[0m\u001b[0mword_idx\u001b[0m\u001b[0;34m,\u001b[0m \u001b[0mtopic\u001b[0m\u001b[0;34m]\u001b[0m\u001b[0;34m)\u001b[0m\u001b[0;34m\u001b[0m\u001b[0;34m\u001b[0m\u001b[0m\n\u001b[0m\u001b[1;32m     65\u001b[0m             \u001b[0mphi\u001b[0m\u001b[0;34m[\u001b[0m\u001b[0mword_idx\u001b[0m\u001b[0;34m]\u001b[0m \u001b[0;34m/=\u001b[0m \u001b[0mphi\u001b[0m\u001b[0;34m[\u001b[0m\u001b[0mword_idx\u001b[0m\u001b[0;34m]\u001b[0m\u001b[0;34m.\u001b[0m\u001b[0msum\u001b[0m\u001b[0;34m(\u001b[0m\u001b[0;34m)\u001b[0m\u001b[0;34m\u001b[0m\u001b[0;34m\u001b[0m\u001b[0m\n\u001b[1;32m     66\u001b[0m         \u001b[0mnew_gamma\u001b[0m \u001b[0;34m=\u001b[0m \u001b[0malpha\u001b[0m \u001b[0;34m+\u001b[0m \u001b[0mphi\u001b[0m\u001b[0;34m.\u001b[0m\u001b[0msum\u001b[0m\u001b[0;34m(\u001b[0m\u001b[0maxis\u001b[0m\u001b[0;34m=\u001b[0m\u001b[0;36m0\u001b[0m\u001b[0;34m)\u001b[0m\u001b[0;34m\u001b[0m\u001b[0;34m\u001b[0m\u001b[0m\n",
      "\u001b[0;31mAssertionError\u001b[0m: "
     ]
    }
   ],
   "source": [
    "corpus_with_topics = Corpus(docs_with_topics[:2])\n",
    "print(corpus_with_topics)\n",
    "\n",
    "with utils.np_seed(123):\n",
    "    params, lower_bound_evol = lda(corpus_with_topics, num_topics=2, num_iterations=10)"
   ]
  },
  {
   "cell_type": "code",
   "execution_count": null,
   "metadata": {},
   "outputs": [],
   "source": []
  }
 ],
 "metadata": {
  "kernelspec": {
   "display_name": "Python 3",
   "language": "python",
   "name": "python3"
  },
  "language_info": {
   "codemirror_mode": {
    "name": "ipython",
    "version": 3
   },
   "file_extension": ".py",
   "mimetype": "text/x-python",
   "name": "python",
   "nbconvert_exporter": "python",
   "pygments_lexer": "ipython3",
   "version": "3.8.5"
  }
 },
 "nbformat": 4,
 "nbformat_minor": 2
}
